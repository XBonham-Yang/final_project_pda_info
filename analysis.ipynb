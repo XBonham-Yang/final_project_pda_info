{
 "cells": [
  {
   "cell_type": "markdown",
   "id": "499c6f6e-8db4-446e-b892-ff48e9cf1a37",
   "metadata": {},
   "source": [
    "# Analysis \n",
    "Need to answer 1 to 5 here \n",
    "1. Are there certain groups that have local access to green space?\n",
    "2. Are there groups that are lacking access?\n",
    "3. What there big differences in how far people have to walk to access their green space?\n",
    "4. Are there any differences between rural and urban areas?\n",
    "5. How do people in neighbourhoods with good access to green space differ from those who have no good access? Are there differences in how they rate their neighbourhoods? Are there differences in how they rate their communities?\n",
    "6. Is there any way to predict which households would have higher ratings?"
   ]
  },
  {
   "cell_type": "markdown",
   "id": "140fedd9-f292-4732-8203-7ad1132cc73d",
   "metadata": {},
   "source": [
    "```\n",
    "About my 'clean data' :\n",
    "Data has all the useful columns but there are currently in counts \n",
    "For analysis I would like to change them to proportions, I will filter out subsets of the data that I am interested in and change them to proportions as I go. \n",
    "```"
   ]
  },
  {
   "cell_type": "code",
   "execution_count": 2,
   "id": "a5ad44aa-3dd5-429e-9496-df966275e377",
   "metadata": {},
   "outputs": [],
   "source": [
    "import pandas as pd \n",
    "import numpy as np "
   ]
  },
  {
   "cell_type": "code",
   "execution_count": 118,
   "id": "12b5e49d-50ba-4362-9176-55f35aa89f54",
   "metadata": {},
   "outputs": [
    {
     "name": "stderr",
     "output_type": "stream",
     "text": [
      "/var/folders/h4/vy1nwyvd5kz_n6950nl29pj80000gn/T/ipykernel_76917/2395335574.py:1: DtypeWarning: Columns (3,11) have mixed types. Specify dtype option on import or set low_memory=False.\n",
      "  green = pd.read_csv('clean_data/green.csv')\n"
     ]
    },
    {
     "data": {
      "text/html": [
       "<div>\n",
       "<style scoped>\n",
       "    .dataframe tbody tr th:only-of-type {\n",
       "        vertical-align: middle;\n",
       "    }\n",
       "\n",
       "    .dataframe tbody tr th {\n",
       "        vertical-align: top;\n",
       "    }\n",
       "\n",
       "    .dataframe thead th {\n",
       "        text-align: right;\n",
       "    }\n",
       "</style>\n",
       "<table border=\"1\" class=\"dataframe\">\n",
       "  <thead>\n",
       "    <tr style=\"text-align: right;\">\n",
       "      <th></th>\n",
       "      <th>datecode</th>\n",
       "      <th>value</th>\n",
       "      <th>walking_distance_to_nearest_greenspace</th>\n",
       "      <th>age</th>\n",
       "      <th>gender</th>\n",
       "      <th>urban_rural_classification</th>\n",
       "      <th>simd_quintiles</th>\n",
       "      <th>type_of_tenure</th>\n",
       "      <th>household_type</th>\n",
       "      <th>ethnicity</th>\n",
       "      <th>neighbourhood_rating</th>\n",
       "      <th>community_belonging</th>\n",
       "    </tr>\n",
       "  </thead>\n",
       "  <tbody>\n",
       "    <tr>\n",
       "      <th>0</th>\n",
       "      <td>2015</td>\n",
       "      <td>14.1</td>\n",
       "      <td>Less than 10 minutes</td>\n",
       "      <td>All</td>\n",
       "      <td>Male</td>\n",
       "      <td>All</td>\n",
       "      <td>All</td>\n",
       "      <td>All</td>\n",
       "      <td>All</td>\n",
       "      <td>All</td>\n",
       "      <td>NaN</td>\n",
       "      <td>NaN</td>\n",
       "    </tr>\n",
       "    <tr>\n",
       "      <th>1</th>\n",
       "      <td>2015</td>\n",
       "      <td>14.4</td>\n",
       "      <td>Less than 10 minutes</td>\n",
       "      <td>All</td>\n",
       "      <td>All</td>\n",
       "      <td>All</td>\n",
       "      <td>All</td>\n",
       "      <td>All</td>\n",
       "      <td>Pensioners</td>\n",
       "      <td>All</td>\n",
       "      <td>NaN</td>\n",
       "      <td>NaN</td>\n",
       "    </tr>\n",
       "    <tr>\n",
       "      <th>2</th>\n",
       "      <td>2017</td>\n",
       "      <td>40.1</td>\n",
       "      <td>Less than 10 minutes</td>\n",
       "      <td>65 years and over</td>\n",
       "      <td>All</td>\n",
       "      <td>All</td>\n",
       "      <td>All</td>\n",
       "      <td>All</td>\n",
       "      <td>All</td>\n",
       "      <td>All</td>\n",
       "      <td>NaN</td>\n",
       "      <td>NaN</td>\n",
       "    </tr>\n",
       "    <tr>\n",
       "      <th>3</th>\n",
       "      <td>2016</td>\n",
       "      <td>3.1</td>\n",
       "      <td>Less than 10 minutes</td>\n",
       "      <td>All</td>\n",
       "      <td>All</td>\n",
       "      <td>All</td>\n",
       "      <td>All</td>\n",
       "      <td>All</td>\n",
       "      <td>Adults</td>\n",
       "      <td>All</td>\n",
       "      <td>NaN</td>\n",
       "      <td>NaN</td>\n",
       "    </tr>\n",
       "    <tr>\n",
       "      <th>4</th>\n",
       "      <td>2015</td>\n",
       "      <td>14.3</td>\n",
       "      <td>Less than 10 minutes</td>\n",
       "      <td>All</td>\n",
       "      <td>All</td>\n",
       "      <td>All</td>\n",
       "      <td>All</td>\n",
       "      <td>Owned Mortgage/Loan</td>\n",
       "      <td>All</td>\n",
       "      <td>All</td>\n",
       "      <td>NaN</td>\n",
       "      <td>NaN</td>\n",
       "    </tr>\n",
       "    <tr>\n",
       "      <th>...</th>\n",
       "      <td>...</td>\n",
       "      <td>...</td>\n",
       "      <td>...</td>\n",
       "      <td>...</td>\n",
       "      <td>...</td>\n",
       "      <td>...</td>\n",
       "      <td>...</td>\n",
       "      <td>...</td>\n",
       "      <td>...</td>\n",
       "      <td>...</td>\n",
       "      <td>...</td>\n",
       "      <td>...</td>\n",
       "    </tr>\n",
       "    <tr>\n",
       "      <th>112765</th>\n",
       "      <td>2019</td>\n",
       "      <td>3.3</td>\n",
       "      <td>All</td>\n",
       "      <td>NaN</td>\n",
       "      <td>All</td>\n",
       "      <td>All</td>\n",
       "      <td>All</td>\n",
       "      <td>All</td>\n",
       "      <td>Adults</td>\n",
       "      <td>All</td>\n",
       "      <td>NaN</td>\n",
       "      <td>Not very strongly</td>\n",
       "    </tr>\n",
       "    <tr>\n",
       "      <th>112766</th>\n",
       "      <td>2014</td>\n",
       "      <td>9.6</td>\n",
       "      <td>All</td>\n",
       "      <td>NaN</td>\n",
       "      <td>All</td>\n",
       "      <td>All</td>\n",
       "      <td>All</td>\n",
       "      <td>All</td>\n",
       "      <td>All</td>\n",
       "      <td>White</td>\n",
       "      <td>NaN</td>\n",
       "      <td>Not very strongly</td>\n",
       "    </tr>\n",
       "    <tr>\n",
       "      <th>112767</th>\n",
       "      <td>2017</td>\n",
       "      <td>16.0</td>\n",
       "      <td>All</td>\n",
       "      <td>NaN</td>\n",
       "      <td>All</td>\n",
       "      <td>All</td>\n",
       "      <td>All</td>\n",
       "      <td>All</td>\n",
       "      <td>All</td>\n",
       "      <td>All</td>\n",
       "      <td>NaN</td>\n",
       "      <td>Not very strongly</td>\n",
       "    </tr>\n",
       "    <tr>\n",
       "      <th>112768</th>\n",
       "      <td>2018</td>\n",
       "      <td>16.0</td>\n",
       "      <td>All</td>\n",
       "      <td>NaN</td>\n",
       "      <td>Female</td>\n",
       "      <td>All</td>\n",
       "      <td>All</td>\n",
       "      <td>All</td>\n",
       "      <td>All</td>\n",
       "      <td>All</td>\n",
       "      <td>NaN</td>\n",
       "      <td>Not very strongly</td>\n",
       "    </tr>\n",
       "    <tr>\n",
       "      <th>112769</th>\n",
       "      <td>2018</td>\n",
       "      <td>24.5</td>\n",
       "      <td>All</td>\n",
       "      <td>NaN</td>\n",
       "      <td>Female</td>\n",
       "      <td>All</td>\n",
       "      <td>All</td>\n",
       "      <td>All</td>\n",
       "      <td>All</td>\n",
       "      <td>All</td>\n",
       "      <td>NaN</td>\n",
       "      <td>Not very strongly</td>\n",
       "    </tr>\n",
       "  </tbody>\n",
       "</table>\n",
       "<p>112770 rows × 12 columns</p>\n",
       "</div>"
      ],
      "text/plain": [
       "        datecode  value walking_distance_to_nearest_greenspace  \\\n",
       "0           2015   14.1                   Less than 10 minutes   \n",
       "1           2015   14.4                   Less than 10 minutes   \n",
       "2           2017   40.1                   Less than 10 minutes   \n",
       "3           2016    3.1                   Less than 10 minutes   \n",
       "4           2015   14.3                   Less than 10 minutes   \n",
       "...          ...    ...                                    ...   \n",
       "112765      2019    3.3                                    All   \n",
       "112766      2014    9.6                                    All   \n",
       "112767      2017   16.0                                    All   \n",
       "112768      2018   16.0                                    All   \n",
       "112769      2018   24.5                                    All   \n",
       "\n",
       "                      age  gender urban_rural_classification simd_quintiles  \\\n",
       "0                     All    Male                        All            All   \n",
       "1                     All     All                        All            All   \n",
       "2       65 years and over     All                        All            All   \n",
       "3                     All     All                        All            All   \n",
       "4                     All     All                        All            All   \n",
       "...                   ...     ...                        ...            ...   \n",
       "112765                NaN     All                        All            All   \n",
       "112766                NaN     All                        All            All   \n",
       "112767                NaN     All                        All            All   \n",
       "112768                NaN  Female                        All            All   \n",
       "112769                NaN  Female                        All            All   \n",
       "\n",
       "             type_of_tenure household_type ethnicity neighbourhood_rating  \\\n",
       "0                       All            All       All                  NaN   \n",
       "1                       All     Pensioners       All                  NaN   \n",
       "2                       All            All       All                  NaN   \n",
       "3                       All         Adults       All                  NaN   \n",
       "4       Owned Mortgage/Loan            All       All                  NaN   \n",
       "...                     ...            ...       ...                  ...   \n",
       "112765                  All         Adults       All                  NaN   \n",
       "112766                  All            All     White                  NaN   \n",
       "112767                  All            All       All                  NaN   \n",
       "112768                  All            All       All                  NaN   \n",
       "112769                  All            All       All                  NaN   \n",
       "\n",
       "       community_belonging  \n",
       "0                      NaN  \n",
       "1                      NaN  \n",
       "2                      NaN  \n",
       "3                      NaN  \n",
       "4                      NaN  \n",
       "...                    ...  \n",
       "112765   Not very strongly  \n",
       "112766   Not very strongly  \n",
       "112767   Not very strongly  \n",
       "112768   Not very strongly  \n",
       "112769   Not very strongly  \n",
       "\n",
       "[112770 rows x 12 columns]"
      ]
     },
     "execution_count": 118,
     "metadata": {},
     "output_type": "execute_result"
    }
   ],
   "source": [
    "green = pd.read_csv('clean_data/green.csv')\n",
    "green"
   ]
  },
  {
   "cell_type": "markdown",
   "id": "b4e56309-67f2-4b54-a74c-a1ec2546b893",
   "metadata": {},
   "source": [
    "## Question 1 and 2 \n",
    "1. Are there certain groups that have local access to green space?\n",
    "2. Are there groups that are lacking access?\n",
    "<br>\n",
    "I will answer with age, gender, etnicity "
   ]
  },
  {
   "cell_type": "code",
   "execution_count": 122,
   "id": "1ea95f18-3639-449f-82b3-de57820ca8c3",
   "metadata": {},
   "outputs": [],
   "source": [
    "green.rename(columns={'walking_distance_to_nearest_greenspace':'distance'}, inplace = True)\n",
    "green = green[green.distance.isin(['Less than 10 minutes', 'More than 10 minutes'])].copy()"
   ]
  },
  {
   "cell_type": "markdown",
   "id": "65c579d0-7691-4757-bce8-f0863726457f",
   "metadata": {},
   "source": [
    "### Age groups "
   ]
  },
  {
   "cell_type": "code",
   "execution_count": 119,
   "id": "7aa82787-094d-4206-983d-6b3a0315acd3",
   "metadata": {},
   "outputs": [
    {
     "data": {
      "text/plain": [
       "age\n",
       "16-34 years          32.969521\n",
       "35-64 years          33.113391\n",
       "65 years and over    32.635546\n",
       "Name: value, dtype: float64"
      ]
     },
     "execution_count": 119,
     "metadata": {},
     "output_type": "execute_result"
    }
   ],
   "source": [
    "# Age \n",
    "green[green.age != 'All'].groupby('age').value.agg('mean')\n"
   ]
  },
  {
   "cell_type": "code",
   "execution_count": 123,
   "id": "e65210f3-21bb-44e0-8f6e-c33e5a716e2a",
   "metadata": {},
   "outputs": [
    {
     "data": {
      "text/html": [
       "<div>\n",
       "<style scoped>\n",
       "    .dataframe tbody tr th:only-of-type {\n",
       "        vertical-align: middle;\n",
       "    }\n",
       "\n",
       "    .dataframe tbody tr th {\n",
       "        vertical-align: top;\n",
       "    }\n",
       "\n",
       "    .dataframe thead th {\n",
       "        text-align: right;\n",
       "    }\n",
       "</style>\n",
       "<table border=\"1\" class=\"dataframe\">\n",
       "  <thead>\n",
       "    <tr style=\"text-align: right;\">\n",
       "      <th></th>\n",
       "      <th>datecode</th>\n",
       "      <th>value</th>\n",
       "      <th>distance</th>\n",
       "      <th>age</th>\n",
       "      <th>gender</th>\n",
       "      <th>urban_rural_classification</th>\n",
       "      <th>simd_quintiles</th>\n",
       "      <th>type_of_tenure</th>\n",
       "      <th>household_type</th>\n",
       "      <th>ethnicity</th>\n",
       "      <th>neighbourhood_rating</th>\n",
       "      <th>community_belonging</th>\n",
       "    </tr>\n",
       "  </thead>\n",
       "  <tbody>\n",
       "    <tr>\n",
       "      <th>2</th>\n",
       "      <td>2017</td>\n",
       "      <td>40.1</td>\n",
       "      <td>Less than 10 minutes</td>\n",
       "      <td>65 years and over</td>\n",
       "      <td>All</td>\n",
       "      <td>All</td>\n",
       "      <td>All</td>\n",
       "      <td>All</td>\n",
       "      <td>All</td>\n",
       "      <td>All</td>\n",
       "      <td>NaN</td>\n",
       "      <td>NaN</td>\n",
       "    </tr>\n",
       "    <tr>\n",
       "      <th>5</th>\n",
       "      <td>2016</td>\n",
       "      <td>36.8</td>\n",
       "      <td>Less than 10 minutes</td>\n",
       "      <td>35-64 years</td>\n",
       "      <td>All</td>\n",
       "      <td>All</td>\n",
       "      <td>All</td>\n",
       "      <td>All</td>\n",
       "      <td>All</td>\n",
       "      <td>All</td>\n",
       "      <td>NaN</td>\n",
       "      <td>NaN</td>\n",
       "    </tr>\n",
       "    <tr>\n",
       "      <th>15</th>\n",
       "      <td>2017</td>\n",
       "      <td>16.6</td>\n",
       "      <td>Less than 10 minutes</td>\n",
       "      <td>16-34 years</td>\n",
       "      <td>All</td>\n",
       "      <td>All</td>\n",
       "      <td>All</td>\n",
       "      <td>All</td>\n",
       "      <td>All</td>\n",
       "      <td>All</td>\n",
       "      <td>NaN</td>\n",
       "      <td>NaN</td>\n",
       "    </tr>\n",
       "    <tr>\n",
       "      <th>25</th>\n",
       "      <td>2014</td>\n",
       "      <td>6.0</td>\n",
       "      <td>Less than 10 minutes</td>\n",
       "      <td>35-64 years</td>\n",
       "      <td>All</td>\n",
       "      <td>All</td>\n",
       "      <td>All</td>\n",
       "      <td>All</td>\n",
       "      <td>All</td>\n",
       "      <td>All</td>\n",
       "      <td>NaN</td>\n",
       "      <td>NaN</td>\n",
       "    </tr>\n",
       "    <tr>\n",
       "      <th>42</th>\n",
       "      <td>2013</td>\n",
       "      <td>8.0</td>\n",
       "      <td>Less than 10 minutes</td>\n",
       "      <td>65 years and over</td>\n",
       "      <td>All</td>\n",
       "      <td>All</td>\n",
       "      <td>All</td>\n",
       "      <td>All</td>\n",
       "      <td>All</td>\n",
       "      <td>All</td>\n",
       "      <td>NaN</td>\n",
       "      <td>NaN</td>\n",
       "    </tr>\n",
       "    <tr>\n",
       "      <th>...</th>\n",
       "      <td>...</td>\n",
       "      <td>...</td>\n",
       "      <td>...</td>\n",
       "      <td>...</td>\n",
       "      <td>...</td>\n",
       "      <td>...</td>\n",
       "      <td>...</td>\n",
       "      <td>...</td>\n",
       "      <td>...</td>\n",
       "      <td>...</td>\n",
       "      <td>...</td>\n",
       "      <td>...</td>\n",
       "    </tr>\n",
       "    <tr>\n",
       "      <th>73285</th>\n",
       "      <td>2016</td>\n",
       "      <td>0.0</td>\n",
       "      <td>Less than 10 minutes</td>\n",
       "      <td>NaN</td>\n",
       "      <td>All</td>\n",
       "      <td>All</td>\n",
       "      <td>All</td>\n",
       "      <td>All</td>\n",
       "      <td>All</td>\n",
       "      <td>All</td>\n",
       "      <td>NaN</td>\n",
       "      <td>Don't know</td>\n",
       "    </tr>\n",
       "    <tr>\n",
       "      <th>73286</th>\n",
       "      <td>2015</td>\n",
       "      <td>45.6</td>\n",
       "      <td>Less than 10 minutes</td>\n",
       "      <td>NaN</td>\n",
       "      <td>All</td>\n",
       "      <td>All</td>\n",
       "      <td>All</td>\n",
       "      <td>All</td>\n",
       "      <td>All</td>\n",
       "      <td>All</td>\n",
       "      <td>NaN</td>\n",
       "      <td>Very strongly</td>\n",
       "    </tr>\n",
       "    <tr>\n",
       "      <th>73287</th>\n",
       "      <td>2017</td>\n",
       "      <td>4.1</td>\n",
       "      <td>Less than 10 minutes</td>\n",
       "      <td>NaN</td>\n",
       "      <td>All</td>\n",
       "      <td>All</td>\n",
       "      <td>All</td>\n",
       "      <td>All</td>\n",
       "      <td>All</td>\n",
       "      <td>All</td>\n",
       "      <td>NaN</td>\n",
       "      <td>Not at all strongly</td>\n",
       "    </tr>\n",
       "    <tr>\n",
       "      <th>73288</th>\n",
       "      <td>2017</td>\n",
       "      <td>27.4</td>\n",
       "      <td>Less than 10 minutes</td>\n",
       "      <td>NaN</td>\n",
       "      <td>All</td>\n",
       "      <td>All</td>\n",
       "      <td>All</td>\n",
       "      <td>All</td>\n",
       "      <td>All</td>\n",
       "      <td>All</td>\n",
       "      <td>NaN</td>\n",
       "      <td>Very strongly</td>\n",
       "    </tr>\n",
       "    <tr>\n",
       "      <th>73289</th>\n",
       "      <td>2013</td>\n",
       "      <td>3.5</td>\n",
       "      <td>Less than 10 minutes</td>\n",
       "      <td>NaN</td>\n",
       "      <td>All</td>\n",
       "      <td>All</td>\n",
       "      <td>All</td>\n",
       "      <td>All</td>\n",
       "      <td>All</td>\n",
       "      <td>All</td>\n",
       "      <td>NaN</td>\n",
       "      <td>Not at all strongly</td>\n",
       "    </tr>\n",
       "  </tbody>\n",
       "</table>\n",
       "<p>12966 rows × 12 columns</p>\n",
       "</div>"
      ],
      "text/plain": [
       "       datecode  value              distance                age gender  \\\n",
       "2          2017   40.1  Less than 10 minutes  65 years and over    All   \n",
       "5          2016   36.8  Less than 10 minutes        35-64 years    All   \n",
       "15         2017   16.6  Less than 10 minutes        16-34 years    All   \n",
       "25         2014    6.0  Less than 10 minutes        35-64 years    All   \n",
       "42         2013    8.0  Less than 10 minutes  65 years and over    All   \n",
       "...         ...    ...                   ...                ...    ...   \n",
       "73285      2016    0.0  Less than 10 minutes                NaN    All   \n",
       "73286      2015   45.6  Less than 10 minutes                NaN    All   \n",
       "73287      2017    4.1  Less than 10 minutes                NaN    All   \n",
       "73288      2017   27.4  Less than 10 minutes                NaN    All   \n",
       "73289      2013    3.5  Less than 10 minutes                NaN    All   \n",
       "\n",
       "      urban_rural_classification simd_quintiles type_of_tenure household_type  \\\n",
       "2                            All            All            All            All   \n",
       "5                            All            All            All            All   \n",
       "15                           All            All            All            All   \n",
       "25                           All            All            All            All   \n",
       "42                           All            All            All            All   \n",
       "...                          ...            ...            ...            ...   \n",
       "73285                        All            All            All            All   \n",
       "73286                        All            All            All            All   \n",
       "73287                        All            All            All            All   \n",
       "73288                        All            All            All            All   \n",
       "73289                        All            All            All            All   \n",
       "\n",
       "      ethnicity neighbourhood_rating  community_belonging  \n",
       "2           All                  NaN                  NaN  \n",
       "5           All                  NaN                  NaN  \n",
       "15          All                  NaN                  NaN  \n",
       "25          All                  NaN                  NaN  \n",
       "42          All                  NaN                  NaN  \n",
       "...         ...                  ...                  ...  \n",
       "73285       All                  NaN           Don't know  \n",
       "73286       All                  NaN        Very strongly  \n",
       "73287       All                  NaN  Not at all strongly  \n",
       "73288       All                  NaN        Very strongly  \n",
       "73289       All                  NaN  Not at all strongly  \n",
       "\n",
       "[12966 rows x 12 columns]"
      ]
     },
     "execution_count": 123,
     "metadata": {},
     "output_type": "execute_result"
    }
   ],
   "source": [
    "age_df =green[green.age != 'All'].copy()\n",
    "age_df"
   ]
  },
  {
   "cell_type": "code",
   "execution_count": 129,
   "id": "5117095a-71fa-4c70-a564-884819b0c20a",
   "metadata": {},
   "outputs": [],
   "source": [
    "age_grouped = age_df.groupby(['distance','age']).value.agg('mean').reset_index(name = 'mean')\n"
   ]
  },
  {
   "cell_type": "code",
   "execution_count": 130,
   "id": "8de7959f-0069-42b8-9903-ffc2c0a5fe9d",
   "metadata": {},
   "outputs": [
    {
     "data": {
      "text/html": [
       "<div>\n",
       "<style scoped>\n",
       "    .dataframe tbody tr th:only-of-type {\n",
       "        vertical-align: middle;\n",
       "    }\n",
       "\n",
       "    .dataframe tbody tr th {\n",
       "        vertical-align: top;\n",
       "    }\n",
       "\n",
       "    .dataframe thead th {\n",
       "        text-align: right;\n",
       "    }\n",
       "</style>\n",
       "<table border=\"1\" class=\"dataframe\">\n",
       "  <thead>\n",
       "    <tr style=\"text-align: right;\">\n",
       "      <th></th>\n",
       "      <th>distance</th>\n",
       "      <th>age</th>\n",
       "      <th>mean</th>\n",
       "    </tr>\n",
       "  </thead>\n",
       "  <tbody>\n",
       "    <tr>\n",
       "      <th>0</th>\n",
       "      <td>Less than 10 minutes</td>\n",
       "      <td>16-34 years</td>\n",
       "      <td>43.703058</td>\n",
       "    </tr>\n",
       "    <tr>\n",
       "      <th>1</th>\n",
       "      <td>Less than 10 minutes</td>\n",
       "      <td>35-64 years</td>\n",
       "      <td>43.947114</td>\n",
       "    </tr>\n",
       "    <tr>\n",
       "      <th>2</th>\n",
       "      <td>Less than 10 minutes</td>\n",
       "      <td>65 years and over</td>\n",
       "      <td>41.256566</td>\n",
       "    </tr>\n",
       "    <tr>\n",
       "      <th>3</th>\n",
       "      <td>More than 10 minutes</td>\n",
       "      <td>16-34 years</td>\n",
       "      <td>11.502446</td>\n",
       "    </tr>\n",
       "    <tr>\n",
       "      <th>4</th>\n",
       "      <td>More than 10 minutes</td>\n",
       "      <td>35-64 years</td>\n",
       "      <td>11.351739</td>\n",
       "    </tr>\n",
       "    <tr>\n",
       "      <th>5</th>\n",
       "      <td>More than 10 minutes</td>\n",
       "      <td>65 years and over</td>\n",
       "      <td>15.393506</td>\n",
       "    </tr>\n",
       "  </tbody>\n",
       "</table>\n",
       "</div>"
      ],
      "text/plain": [
       "               distance                age       mean\n",
       "0  Less than 10 minutes        16-34 years  43.703058\n",
       "1  Less than 10 minutes        35-64 years  43.947114\n",
       "2  Less than 10 minutes  65 years and over  41.256566\n",
       "3  More than 10 minutes        16-34 years  11.502446\n",
       "4  More than 10 minutes        35-64 years  11.351739\n",
       "5  More than 10 minutes  65 years and over  15.393506"
      ]
     },
     "execution_count": 130,
     "metadata": {},
     "output_type": "execute_result"
    }
   ],
   "source": [
    "age_grouped"
   ]
  },
  {
   "cell_type": "code",
   "execution_count": 44,
   "id": "83c9e659-1cd8-4adf-8479-e8e238746eb8",
   "metadata": {},
   "outputs": [],
   "source": [
    "import matplotlib.pyplot as plt\n",
    "import seaborn as sns"
   ]
  },
  {
   "cell_type": "code",
   "execution_count": 131,
   "id": "b04daf60-e266-4770-bf2e-d76a04b5fa1f",
   "metadata": {},
   "outputs": [
    {
     "data": {
      "text/plain": [
       "Text(0, 0.5, 'Proportion')"
      ]
     },
     "execution_count": 131,
     "metadata": {},
     "output_type": "execute_result"
    },
    {
     "data": {
      "image/png": "[encoded data removed]",
      "text/plain": [
       "<Figure size 864x576 with 1 Axes>"
      ]
     },
     "metadata": {
      "needs_background": "light"
     },
     "output_type": "display_data"
    }
   ],
   "source": [
    "plt.figure(figsize=(12,8)) \n",
    "sns.barplot(x='age', y = 'mean', hue = 'distance', data = age_grouped,order = ['16-34 years', '35-64 years', '65 years and over'])\n",
    "plt.xlabel('Age', fontsize=14)\n",
    "plt.ylabel('Proportion', fontsize=14)"
   ]
  },
  {
   "cell_type": "markdown",
   "id": "47ba204d-9765-48ae-8d7e-f634e9848307",
   "metadata": {},
   "source": [
    "### Age Conclusion\n",
    "For different age groups, there's not clear difference. They all have a roughly 2:1 ratio for less than 10mins to more than 10mins "
   ]
  },
  {
   "cell_type": "markdown",
   "id": "daf6fa4c-960b-4f7c-aa86-965d837ee10e",
   "metadata": {},
   "source": [
    "### Gender "
   ]
  },
  {
   "cell_type": "code",
   "execution_count": 133,
   "id": "f9c11c03-9282-4cdd-9de4-76b23f161e8b",
   "metadata": {},
   "outputs": [
    {
     "data": {
      "text/html": [
       "<div>\n",
       "<style scoped>\n",
       "    .dataframe tbody tr th:only-of-type {\n",
       "        vertical-align: middle;\n",
       "    }\n",
       "\n",
       "    .dataframe tbody tr th {\n",
       "        vertical-align: top;\n",
       "    }\n",
       "\n",
       "    .dataframe thead th {\n",
       "        text-align: right;\n",
       "    }\n",
       "</style>\n",
       "<table border=\"1\" class=\"dataframe\">\n",
       "  <thead>\n",
       "    <tr style=\"text-align: right;\">\n",
       "      <th></th>\n",
       "      <th>datecode</th>\n",
       "      <th>value</th>\n",
       "      <th>distance</th>\n",
       "      <th>age</th>\n",
       "      <th>gender</th>\n",
       "      <th>urban_rural_classification</th>\n",
       "      <th>simd_quintiles</th>\n",
       "      <th>type_of_tenure</th>\n",
       "      <th>household_type</th>\n",
       "      <th>ethnicity</th>\n",
       "      <th>neighbourhood_rating</th>\n",
       "      <th>community_belonging</th>\n",
       "    </tr>\n",
       "  </thead>\n",
       "  <tbody>\n",
       "    <tr>\n",
       "      <th>0</th>\n",
       "      <td>2015</td>\n",
       "      <td>14.1</td>\n",
       "      <td>Less than 10 minutes</td>\n",
       "      <td>All</td>\n",
       "      <td>Male</td>\n",
       "      <td>All</td>\n",
       "      <td>All</td>\n",
       "      <td>All</td>\n",
       "      <td>All</td>\n",
       "      <td>All</td>\n",
       "      <td>NaN</td>\n",
       "      <td>NaN</td>\n",
       "    </tr>\n",
       "    <tr>\n",
       "      <th>18</th>\n",
       "      <td>2015</td>\n",
       "      <td>19.0</td>\n",
       "      <td>Less than 10 minutes</td>\n",
       "      <td>All</td>\n",
       "      <td>Female</td>\n",
       "      <td>All</td>\n",
       "      <td>All</td>\n",
       "      <td>All</td>\n",
       "      <td>All</td>\n",
       "      <td>All</td>\n",
       "      <td>NaN</td>\n",
       "      <td>NaN</td>\n",
       "    </tr>\n",
       "    <tr>\n",
       "      <th>28</th>\n",
       "      <td>2015</td>\n",
       "      <td>5.8</td>\n",
       "      <td>Less than 10 minutes</td>\n",
       "      <td>All</td>\n",
       "      <td>Female</td>\n",
       "      <td>All</td>\n",
       "      <td>All</td>\n",
       "      <td>All</td>\n",
       "      <td>All</td>\n",
       "      <td>All</td>\n",
       "      <td>NaN</td>\n",
       "      <td>NaN</td>\n",
       "    </tr>\n",
       "    <tr>\n",
       "      <th>29</th>\n",
       "      <td>2015</td>\n",
       "      <td>8.0</td>\n",
       "      <td>Less than 10 minutes</td>\n",
       "      <td>All</td>\n",
       "      <td>Male</td>\n",
       "      <td>All</td>\n",
       "      <td>All</td>\n",
       "      <td>All</td>\n",
       "      <td>All</td>\n",
       "      <td>All</td>\n",
       "      <td>NaN</td>\n",
       "      <td>NaN</td>\n",
       "    </tr>\n",
       "    <tr>\n",
       "      <th>36</th>\n",
       "      <td>2017</td>\n",
       "      <td>13.0</td>\n",
       "      <td>Less than 10 minutes</td>\n",
       "      <td>All</td>\n",
       "      <td>Male</td>\n",
       "      <td>All</td>\n",
       "      <td>All</td>\n",
       "      <td>All</td>\n",
       "      <td>All</td>\n",
       "      <td>All</td>\n",
       "      <td>NaN</td>\n",
       "      <td>NaN</td>\n",
       "    </tr>\n",
       "    <tr>\n",
       "      <th>...</th>\n",
       "      <td>...</td>\n",
       "      <td>...</td>\n",
       "      <td>...</td>\n",
       "      <td>...</td>\n",
       "      <td>...</td>\n",
       "      <td>...</td>\n",
       "      <td>...</td>\n",
       "      <td>...</td>\n",
       "      <td>...</td>\n",
       "      <td>...</td>\n",
       "      <td>...</td>\n",
       "      <td>...</td>\n",
       "    </tr>\n",
       "    <tr>\n",
       "      <th>28837</th>\n",
       "      <td>2016</td>\n",
       "      <td>3.0</td>\n",
       "      <td>More than 10 minutes</td>\n",
       "      <td>All</td>\n",
       "      <td>Female</td>\n",
       "      <td>All</td>\n",
       "      <td>All</td>\n",
       "      <td>All</td>\n",
       "      <td>All</td>\n",
       "      <td>All</td>\n",
       "      <td>NaN</td>\n",
       "      <td>NaN</td>\n",
       "    </tr>\n",
       "    <tr>\n",
       "      <th>28838</th>\n",
       "      <td>2016</td>\n",
       "      <td>6.7</td>\n",
       "      <td>More than 10 minutes</td>\n",
       "      <td>All</td>\n",
       "      <td>Female</td>\n",
       "      <td>All</td>\n",
       "      <td>All</td>\n",
       "      <td>All</td>\n",
       "      <td>All</td>\n",
       "      <td>All</td>\n",
       "      <td>NaN</td>\n",
       "      <td>NaN</td>\n",
       "    </tr>\n",
       "    <tr>\n",
       "      <th>28849</th>\n",
       "      <td>2016</td>\n",
       "      <td>3.0</td>\n",
       "      <td>More than 10 minutes</td>\n",
       "      <td>All</td>\n",
       "      <td>Male</td>\n",
       "      <td>All</td>\n",
       "      <td>All</td>\n",
       "      <td>All</td>\n",
       "      <td>All</td>\n",
       "      <td>All</td>\n",
       "      <td>NaN</td>\n",
       "      <td>NaN</td>\n",
       "    </tr>\n",
       "    <tr>\n",
       "      <th>28850</th>\n",
       "      <td>2014</td>\n",
       "      <td>26.0</td>\n",
       "      <td>More than 10 minutes</td>\n",
       "      <td>All</td>\n",
       "      <td>Female</td>\n",
       "      <td>All</td>\n",
       "      <td>All</td>\n",
       "      <td>All</td>\n",
       "      <td>All</td>\n",
       "      <td>All</td>\n",
       "      <td>NaN</td>\n",
       "      <td>NaN</td>\n",
       "    </tr>\n",
       "    <tr>\n",
       "      <th>28853</th>\n",
       "      <td>2017</td>\n",
       "      <td>14.0</td>\n",
       "      <td>More than 10 minutes</td>\n",
       "      <td>All</td>\n",
       "      <td>Male</td>\n",
       "      <td>All</td>\n",
       "      <td>All</td>\n",
       "      <td>All</td>\n",
       "      <td>All</td>\n",
       "      <td>All</td>\n",
       "      <td>NaN</td>\n",
       "      <td>NaN</td>\n",
       "    </tr>\n",
       "  </tbody>\n",
       "</table>\n",
       "<p>4158 rows × 12 columns</p>\n",
       "</div>"
      ],
      "text/plain": [
       "       datecode  value              distance  age  gender  \\\n",
       "0          2015   14.1  Less than 10 minutes  All    Male   \n",
       "18         2015   19.0  Less than 10 minutes  All  Female   \n",
       "28         2015    5.8  Less than 10 minutes  All  Female   \n",
       "29         2015    8.0  Less than 10 minutes  All    Male   \n",
       "36         2017   13.0  Less than 10 minutes  All    Male   \n",
       "...         ...    ...                   ...  ...     ...   \n",
       "28837      2016    3.0  More than 10 minutes  All  Female   \n",
       "28838      2016    6.7  More than 10 minutes  All  Female   \n",
       "28849      2016    3.0  More than 10 minutes  All    Male   \n",
       "28850      2014   26.0  More than 10 minutes  All  Female   \n",
       "28853      2017   14.0  More than 10 minutes  All    Male   \n",
       "\n",
       "      urban_rural_classification simd_quintiles type_of_tenure household_type  \\\n",
       "0                            All            All            All            All   \n",
       "18                           All            All            All            All   \n",
       "28                           All            All            All            All   \n",
       "29                           All            All            All            All   \n",
       "36                           All            All            All            All   \n",
       "...                          ...            ...            ...            ...   \n",
       "28837                        All            All            All            All   \n",
       "28838                        All            All            All            All   \n",
       "28849                        All            All            All            All   \n",
       "28850                        All            All            All            All   \n",
       "28853                        All            All            All            All   \n",
       "\n",
       "      ethnicity neighbourhood_rating community_belonging  \n",
       "0           All                  NaN                 NaN  \n",
       "18          All                  NaN                 NaN  \n",
       "28          All                  NaN                 NaN  \n",
       "29          All                  NaN                 NaN  \n",
       "36          All                  NaN                 NaN  \n",
       "...         ...                  ...                 ...  \n",
       "28837       All                  NaN                 NaN  \n",
       "28838       All                  NaN                 NaN  \n",
       "28849       All                  NaN                 NaN  \n",
       "28850       All                  NaN                 NaN  \n",
       "28853       All                  NaN                 NaN  \n",
       "\n",
       "[4158 rows x 12 columns]"
      ]
     },
     "execution_count": 133,
     "metadata": {},
     "output_type": "execute_result"
    }
   ],
   "source": [
    "gender_df =green[green.gender != 'All'].copy()\n",
    "gender_df"
   ]
  },
  {
   "cell_type": "code",
   "execution_count": 134,
   "id": "06fae125-6c98-4d90-8b1b-eec7501f0995",
   "metadata": {},
   "outputs": [
    {
     "data": {
      "text/html": [
       "<div>\n",
       "<style scoped>\n",
       "    .dataframe tbody tr th:only-of-type {\n",
       "        vertical-align: middle;\n",
       "    }\n",
       "\n",
       "    .dataframe tbody tr th {\n",
       "        vertical-align: top;\n",
       "    }\n",
       "\n",
       "    .dataframe thead th {\n",
       "        text-align: right;\n",
       "    }\n",
       "</style>\n",
       "<table border=\"1\" class=\"dataframe\">\n",
       "  <thead>\n",
       "    <tr style=\"text-align: right;\">\n",
       "      <th></th>\n",
       "      <th>distance</th>\n",
       "      <th>gender</th>\n",
       "      <th>mean</th>\n",
       "    </tr>\n",
       "  </thead>\n",
       "  <tbody>\n",
       "    <tr>\n",
       "      <th>0</th>\n",
       "      <td>Less than 10 minutes</td>\n",
       "      <td>Female</td>\n",
       "      <td>43.102670</td>\n",
       "    </tr>\n",
       "    <tr>\n",
       "      <th>1</th>\n",
       "      <td>Less than 10 minutes</td>\n",
       "      <td>Male</td>\n",
       "      <td>43.864719</td>\n",
       "    </tr>\n",
       "    <tr>\n",
       "      <th>2</th>\n",
       "      <td>More than 10 minutes</td>\n",
       "      <td>Female</td>\n",
       "      <td>12.498413</td>\n",
       "    </tr>\n",
       "    <tr>\n",
       "      <th>3</th>\n",
       "      <td>More than 10 minutes</td>\n",
       "      <td>Male</td>\n",
       "      <td>11.125253</td>\n",
       "    </tr>\n",
       "  </tbody>\n",
       "</table>\n",
       "</div>"
      ],
      "text/plain": [
       "               distance  gender       mean\n",
       "0  Less than 10 minutes  Female  43.102670\n",
       "1  Less than 10 minutes    Male  43.864719\n",
       "2  More than 10 minutes  Female  12.498413\n",
       "3  More than 10 minutes    Male  11.125253"
      ]
     },
     "execution_count": 134,
     "metadata": {},
     "output_type": "execute_result"
    }
   ],
   "source": [
    "gender_grouped = gender_df.groupby(['distance','gender']).value.agg('mean').reset_index(name = 'mean')\n",
    "gender_grouped"
   ]
  },
  {
   "cell_type": "code",
   "execution_count": 135,
   "id": "c00710c4-861c-4912-890c-6f20821bc335",
   "metadata": {},
   "outputs": [
    {
     "data": {
      "text/plain": [
       "Text(0, 0.5, 'Mean')"
      ]
     },
     "execution_count": 135,
     "metadata": {},
     "output_type": "execute_result"
    },
    {
     "data": {
      "image/png": "[encoded data removed]",
      "text/plain": [
       "<Figure size 864x576 with 1 Axes>"
      ]
     },
     "metadata": {
      "needs_background": "light"
     },
     "output_type": "display_data"
    }
   ],
   "source": [
    "plt.figure(figsize=(12,8)) \n",
    "sns.barplot(x='gender', y = 'mean', hue = 'distance', data = gender_grouped)\n",
    "plt.xlabel('Gender', fontsize=14)\n",
    "plt.ylabel('Mean', fontsize=14)"
   ]
  },
  {
   "cell_type": "markdown",
   "id": "44d01a25-22af-4fa9-9d04-e9dee8316a69",
   "metadata": {},
   "source": [
    "#### similar"
   ]
  },
  {
   "cell_type": "markdown",
   "id": "929901b7-e993-441d-a4ec-4dc9e49a4242",
   "metadata": {},
   "source": [
    "### Ethnicity"
   ]
  },
  {
   "cell_type": "code",
   "execution_count": 136,
   "id": "b12c3b80-3517-45b0-9b82-bb7892cc603e",
   "metadata": {},
   "outputs": [],
   "source": [
    "ethnicity_df =green[green.ethnicity != 'All'].copy()"
   ]
  },
  {
   "cell_type": "code",
   "execution_count": 138,
   "id": "fc96b35d-06ca-4502-b6bb-413ff6089aeb",
   "metadata": {},
   "outputs": [
    {
     "data": {
      "text/html": [
       "<div>\n",
       "<style scoped>\n",
       "    .dataframe tbody tr th:only-of-type {\n",
       "        vertical-align: middle;\n",
       "    }\n",
       "\n",
       "    .dataframe tbody tr th {\n",
       "        vertical-align: top;\n",
       "    }\n",
       "\n",
       "    .dataframe thead th {\n",
       "        text-align: right;\n",
       "    }\n",
       "</style>\n",
       "<table border=\"1\" class=\"dataframe\">\n",
       "  <thead>\n",
       "    <tr style=\"text-align: right;\">\n",
       "      <th></th>\n",
       "      <th>distance</th>\n",
       "      <th>ethnicity</th>\n",
       "      <th>mean</th>\n",
       "    </tr>\n",
       "  </thead>\n",
       "  <tbody>\n",
       "    <tr>\n",
       "      <th>0</th>\n",
       "      <td>Less than 10 minutes</td>\n",
       "      <td>Other</td>\n",
       "      <td>40.125926</td>\n",
       "    </tr>\n",
       "    <tr>\n",
       "      <th>1</th>\n",
       "      <td>Less than 10 minutes</td>\n",
       "      <td>White</td>\n",
       "      <td>43.573521</td>\n",
       "    </tr>\n",
       "    <tr>\n",
       "      <th>2</th>\n",
       "      <td>More than 10 minutes</td>\n",
       "      <td>Other</td>\n",
       "      <td>16.922222</td>\n",
       "    </tr>\n",
       "    <tr>\n",
       "      <th>3</th>\n",
       "      <td>More than 10 minutes</td>\n",
       "      <td>White</td>\n",
       "      <td>11.675180</td>\n",
       "    </tr>\n",
       "  </tbody>\n",
       "</table>\n",
       "</div>"
      ],
      "text/plain": [
       "               distance ethnicity       mean\n",
       "0  Less than 10 minutes     Other  40.125926\n",
       "1  Less than 10 minutes     White  43.573521\n",
       "2  More than 10 minutes     Other  16.922222\n",
       "3  More than 10 minutes     White  11.675180"
      ]
     },
     "execution_count": 138,
     "metadata": {},
     "output_type": "execute_result"
    }
   ],
   "source": [
    "ethnicity_grouped = ethnicity_df.groupby(['distance','ethnicity']).value.agg('mean').reset_index(name = 'mean')\n",
    "ethnicity_grouped"
   ]
  },
  {
   "cell_type": "code",
   "execution_count": 139,
   "id": "6caf72a7-2c7c-41a3-b5a2-99207059f8af",
   "metadata": {},
   "outputs": [
    {
     "data": {
      "text/plain": [
       "Text(0, 0.5, 'Mean')"
      ]
     },
     "execution_count": 139,
     "metadata": {},
     "output_type": "execute_result"
    },
    {
     "data": {
      "image/png": "[encoded data removed]",
      "text/plain": [
       "<Figure size 864x576 with 1 Axes>"
      ]
     },
     "metadata": {
      "needs_background": "light"
     },
     "output_type": "display_data"
    }
   ],
   "source": [
    "plt.figure(figsize=(12,8)) \n",
    "sns.barplot(x='ethnicity', y = 'mean', hue = 'distance', data = ethnicity_grouped)\n",
    "plt.xlabel('Ethnicity', fontsize=14)\n",
    "plt.ylabel('Mean', fontsize=14)"
   ]
  },
  {
   "cell_type": "markdown",
   "id": "fce68c77-e9c2-4829-a962-596c88e30290",
   "metadata": {},
   "source": [
    "### Ethnicity ...same \n",
    "same same same ...."
   ]
  },
  {
   "cell_type": "markdown",
   "id": "00935310-8add-4759-a474-3c93d2cd6a5a",
   "metadata": {},
   "source": [
    "#### So at this point I failed m plan, I will look into more groups\n",
    "I will try all the rest of the columns apart from the ones that are mentiosned in other questions \n"
   ]
  },
  {
   "cell_type": "code",
   "execution_count": 91,
   "id": "69a3c973-e94e-4e4c-9e8b-3712778506e9",
   "metadata": {},
   "outputs": [
    {
     "data": {
      "text/plain": [
       "Index(['distance', 'age', 'gender', 'urban_rural_classification',\n",
       "       'simd_quintiles', 'type_of_tenure', 'household_type', 'ethnicity',\n",
       "       'neighbourhood_rating', 'community_belonging'],\n",
       "      dtype='object')"
      ]
     },
     "execution_count": 91,
     "metadata": {},
     "output_type": "execute_result"
    }
   ],
   "source": [
    "green.columns"
   ]
  },
  {
   "cell_type": "code",
   "execution_count": 89,
   "id": "edc59f1e-dc26-4170-b67e-7596520b9af5",
   "metadata": {},
   "outputs": [
    {
     "data": {
      "text/plain": [
       "array(['All', '80% least deprived', '20% most deprived'], dtype=object)"
      ]
     },
     "execution_count": 89,
     "metadata": {},
     "output_type": "execute_result"
    }
   ],
   "source": [
    "green.simd_quintiles.unique()"
   ]
  },
  {
   "cell_type": "code",
   "execution_count": 92,
   "id": "95e1166b-8fd5-4add-b630-56372d4dd389",
   "metadata": {},
   "outputs": [
    {
     "data": {
      "text/plain": [
       "array(['All', 'Pensioners', 'Adults', 'With Children'], dtype=object)"
      ]
     },
     "execution_count": 92,
     "metadata": {},
     "output_type": "execute_result"
    }
   ],
   "source": [
    "green.household_type.unique()"
   ]
  },
  {
   "cell_type": "code",
   "execution_count": 93,
   "id": "4e98732d-c82b-42fa-98ea-229c20064cd7",
   "metadata": {},
   "outputs": [
    {
     "data": {
      "text/plain": [
       "array(['All', 'Owned Mortgage/Loan', 'Owned Outright', 'Social Rented',\n",
       "       'Private Rented', 'Other'], dtype=object)"
      ]
     },
     "execution_count": 93,
     "metadata": {},
     "output_type": "execute_result"
    }
   ],
   "source": [
    "green.type_of_tenure.unique()"
   ]
  },
  {
   "cell_type": "markdown",
   "id": "5d9995fd-7564-4bfa-87c1-fcd33becfdba",
   "metadata": {},
   "source": [
    "#### SIMD "
   ]
  },
  {
   "cell_type": "code",
   "execution_count": 140,
   "id": "2683bf06-9124-4b97-8d99-d5e067493141",
   "metadata": {},
   "outputs": [
    {
     "data": {
      "text/html": [
       "<div>\n",
       "<style scoped>\n",
       "    .dataframe tbody tr th:only-of-type {\n",
       "        vertical-align: middle;\n",
       "    }\n",
       "\n",
       "    .dataframe tbody tr th {\n",
       "        vertical-align: top;\n",
       "    }\n",
       "\n",
       "    .dataframe thead th {\n",
       "        text-align: right;\n",
       "    }\n",
       "</style>\n",
       "<table border=\"1\" class=\"dataframe\">\n",
       "  <thead>\n",
       "    <tr style=\"text-align: right;\">\n",
       "      <th></th>\n",
       "      <th>distance</th>\n",
       "      <th>simd_quintiles</th>\n",
       "      <th>mean</th>\n",
       "    </tr>\n",
       "  </thead>\n",
       "  <tbody>\n",
       "    <tr>\n",
       "      <th>0</th>\n",
       "      <td>Less than 10 minutes</td>\n",
       "      <td>20% most deprived</td>\n",
       "      <td>41.798732</td>\n",
       "    </tr>\n",
       "    <tr>\n",
       "      <th>1</th>\n",
       "      <td>Less than 10 minutes</td>\n",
       "      <td>80% least deprived</td>\n",
       "      <td>43.610317</td>\n",
       "    </tr>\n",
       "    <tr>\n",
       "      <th>2</th>\n",
       "      <td>More than 10 minutes</td>\n",
       "      <td>20% most deprived</td>\n",
       "      <td>14.542029</td>\n",
       "    </tr>\n",
       "    <tr>\n",
       "      <th>3</th>\n",
       "      <td>More than 10 minutes</td>\n",
       "      <td>80% least deprived</td>\n",
       "      <td>11.612121</td>\n",
       "    </tr>\n",
       "  </tbody>\n",
       "</table>\n",
       "</div>"
      ],
      "text/plain": [
       "               distance      simd_quintiles       mean\n",
       "0  Less than 10 minutes   20% most deprived  41.798732\n",
       "1  Less than 10 minutes  80% least deprived  43.610317\n",
       "2  More than 10 minutes   20% most deprived  14.542029\n",
       "3  More than 10 minutes  80% least deprived  11.612121"
      ]
     },
     "execution_count": 140,
     "metadata": {},
     "output_type": "execute_result"
    }
   ],
   "source": [
    "simd_df =green[green.simd_quintiles != 'All'].copy()\n",
    "simd_grouped = simd_df.groupby(['distance','simd_quintiles']).value.agg('mean').reset_index(name = 'mean')\n",
    "simd_grouped"
   ]
  },
  {
   "cell_type": "code",
   "execution_count": 141,
   "id": "80b23c0e-624a-45fc-ae50-3a424c383ae1",
   "metadata": {},
   "outputs": [
    {
     "data": {
      "text/plain": [
       "Text(0, 0.5, 'Mean')"
      ]
     },
     "execution_count": 141,
     "metadata": {},
     "output_type": "execute_result"
    },
    {
     "data": {
      "image/png": "[encoded data removed]",
      "text/plain": [
       "<Figure size 864x576 with 1 Axes>"
      ]
     },
     "metadata": {
      "needs_background": "light"
     },
     "output_type": "display_data"
    }
   ],
   "source": [
    "plt.figure(figsize=(12,8)) \n",
    "sns.barplot(x='simd_quintiles', y = 'mean', hue = 'distance', data = simd_grouped)\n",
    "plt.xlabel('SIMD', fontsize=14)\n",
    "plt.ylabel('Mean', fontsize=14)"
   ]
  },
  {
   "cell_type": "markdown",
   "id": "ab42e7e8-7cab-48a3-b4ab-af6ad4b4870f",
   "metadata": {},
   "source": [
    "#### house type "
   ]
  },
  {
   "cell_type": "code",
   "execution_count": 142,
   "id": "55f8e65a-f0ef-44d2-9b04-eb8e1e59cdcd",
   "metadata": {},
   "outputs": [
    {
     "data": {
      "text/html": [
       "<div>\n",
       "<style scoped>\n",
       "    .dataframe tbody tr th:only-of-type {\n",
       "        vertical-align: middle;\n",
       "    }\n",
       "\n",
       "    .dataframe tbody tr th {\n",
       "        vertical-align: top;\n",
       "    }\n",
       "\n",
       "    .dataframe thead th {\n",
       "        text-align: right;\n",
       "    }\n",
       "</style>\n",
       "<table border=\"1\" class=\"dataframe\">\n",
       "  <thead>\n",
       "    <tr style=\"text-align: right;\">\n",
       "      <th></th>\n",
       "      <th>distance</th>\n",
       "      <th>household_type</th>\n",
       "      <th>mean</th>\n",
       "    </tr>\n",
       "  </thead>\n",
       "  <tbody>\n",
       "    <tr>\n",
       "      <th>0</th>\n",
       "      <td>Less than 10 minutes</td>\n",
       "      <td>Adults</td>\n",
       "      <td>43.937013</td>\n",
       "    </tr>\n",
       "    <tr>\n",
       "      <th>1</th>\n",
       "      <td>Less than 10 minutes</td>\n",
       "      <td>Pensioners</td>\n",
       "      <td>41.460245</td>\n",
       "    </tr>\n",
       "    <tr>\n",
       "      <th>2</th>\n",
       "      <td>Less than 10 minutes</td>\n",
       "      <td>With Children</td>\n",
       "      <td>44.320190</td>\n",
       "    </tr>\n",
       "    <tr>\n",
       "      <th>3</th>\n",
       "      <td>More than 10 minutes</td>\n",
       "      <td>Adults</td>\n",
       "      <td>10.989710</td>\n",
       "    </tr>\n",
       "    <tr>\n",
       "      <th>4</th>\n",
       "      <td>More than 10 minutes</td>\n",
       "      <td>Pensioners</td>\n",
       "      <td>15.099567</td>\n",
       "    </tr>\n",
       "    <tr>\n",
       "      <th>5</th>\n",
       "      <td>More than 10 minutes</td>\n",
       "      <td>With Children</td>\n",
       "      <td>11.107364</td>\n",
       "    </tr>\n",
       "  </tbody>\n",
       "</table>\n",
       "</div>"
      ],
      "text/plain": [
       "               distance household_type       mean\n",
       "0  Less than 10 minutes         Adults  43.937013\n",
       "1  Less than 10 minutes     Pensioners  41.460245\n",
       "2  Less than 10 minutes  With Children  44.320190\n",
       "3  More than 10 minutes         Adults  10.989710\n",
       "4  More than 10 minutes     Pensioners  15.099567\n",
       "5  More than 10 minutes  With Children  11.107364"
      ]
     },
     "execution_count": 142,
     "metadata": {},
     "output_type": "execute_result"
    }
   ],
   "source": [
    "house_df =green[green.household_type != 'All'].copy()\n",
    "house_grouped = house_df.groupby(['distance','household_type']).value.agg('mean').reset_index(name = 'mean')\n",
    "house_grouped"
   ]
  },
  {
   "cell_type": "code",
   "execution_count": 143,
   "id": "a5e59b75-a37f-4607-9a8d-3295c662f3fd",
   "metadata": {},
   "outputs": [
    {
     "data": {
      "text/plain": [
       "Text(0, 0.5, 'Mean')"
      ]
     },
     "execution_count": 143,
     "metadata": {},
     "output_type": "execute_result"
    },
    {
     "data": {
      "image/png": "[encoded data removed]",
      "text/plain": [
       "<Figure size 864x576 with 1 Axes>"
      ]
     },
     "metadata": {
      "needs_background": "light"
     },
     "output_type": "display_data"
    }
   ],
   "source": [
    "plt.figure(figsize=(12,8)) \n",
    "sns.barplot(x='household_type', y = 'mean', hue = 'distance', data = house_grouped)\n",
    "plt.xlabel('House Type', fontsize=14)\n",
    "plt.ylabel('Mean', fontsize=14)"
   ]
  },
  {
   "cell_type": "markdown",
   "id": "8da8686e-55dc-4e95-a5a7-1bbb2c74564d",
   "metadata": {},
   "source": [
    "#### type_of_tenure"
   ]
  },
  {
   "cell_type": "code",
   "execution_count": 144,
   "id": "43a9b178-4543-4711-9037-e29710671df9",
   "metadata": {},
   "outputs": [
    {
     "data": {
      "text/html": [
       "<div>\n",
       "<style scoped>\n",
       "    .dataframe tbody tr th:only-of-type {\n",
       "        vertical-align: middle;\n",
       "    }\n",
       "\n",
       "    .dataframe tbody tr th {\n",
       "        vertical-align: top;\n",
       "    }\n",
       "\n",
       "    .dataframe thead th {\n",
       "        text-align: right;\n",
       "    }\n",
       "</style>\n",
       "<table border=\"1\" class=\"dataframe\">\n",
       "  <thead>\n",
       "    <tr style=\"text-align: right;\">\n",
       "      <th></th>\n",
       "      <th>distance</th>\n",
       "      <th>type_of_tenure</th>\n",
       "      <th>mean</th>\n",
       "    </tr>\n",
       "  </thead>\n",
       "  <tbody>\n",
       "    <tr>\n",
       "      <th>0</th>\n",
       "      <td>Less than 10 minutes</td>\n",
       "      <td>Other</td>\n",
       "      <td>40.354762</td>\n",
       "    </tr>\n",
       "    <tr>\n",
       "      <th>1</th>\n",
       "      <td>Less than 10 minutes</td>\n",
       "      <td>Owned Mortgage/Loan</td>\n",
       "      <td>44.506016</td>\n",
       "    </tr>\n",
       "    <tr>\n",
       "      <th>2</th>\n",
       "      <td>Less than 10 minutes</td>\n",
       "      <td>Owned Outright</td>\n",
       "      <td>42.888384</td>\n",
       "    </tr>\n",
       "    <tr>\n",
       "      <th>3</th>\n",
       "      <td>Less than 10 minutes</td>\n",
       "      <td>Private Rented</td>\n",
       "      <td>42.272523</td>\n",
       "    </tr>\n",
       "    <tr>\n",
       "      <th>4</th>\n",
       "      <td>Less than 10 minutes</td>\n",
       "      <td>Social Rented</td>\n",
       "      <td>42.768763</td>\n",
       "    </tr>\n",
       "    <tr>\n",
       "      <th>5</th>\n",
       "      <td>More than 10 minutes</td>\n",
       "      <td>Other</td>\n",
       "      <td>16.585714</td>\n",
       "    </tr>\n",
       "    <tr>\n",
       "      <th>6</th>\n",
       "      <td>More than 10 minutes</td>\n",
       "      <td>Owned Mortgage/Loan</td>\n",
       "      <td>10.561928</td>\n",
       "    </tr>\n",
       "    <tr>\n",
       "      <th>7</th>\n",
       "      <td>More than 10 minutes</td>\n",
       "      <td>Owned Outright</td>\n",
       "      <td>13.182828</td>\n",
       "    </tr>\n",
       "    <tr>\n",
       "      <th>8</th>\n",
       "      <td>More than 10 minutes</td>\n",
       "      <td>Private Rented</td>\n",
       "      <td>13.690090</td>\n",
       "    </tr>\n",
       "    <tr>\n",
       "      <th>9</th>\n",
       "      <td>More than 10 minutes</td>\n",
       "      <td>Social Rented</td>\n",
       "      <td>12.556751</td>\n",
       "    </tr>\n",
       "  </tbody>\n",
       "</table>\n",
       "</div>"
      ],
      "text/plain": [
       "               distance       type_of_tenure       mean\n",
       "0  Less than 10 minutes                Other  40.354762\n",
       "1  Less than 10 minutes  Owned Mortgage/Loan  44.506016\n",
       "2  Less than 10 minutes       Owned Outright  42.888384\n",
       "3  Less than 10 minutes       Private Rented  42.272523\n",
       "4  Less than 10 minutes        Social Rented  42.768763\n",
       "5  More than 10 minutes                Other  16.585714\n",
       "6  More than 10 minutes  Owned Mortgage/Loan  10.561928\n",
       "7  More than 10 minutes       Owned Outright  13.182828\n",
       "8  More than 10 minutes       Private Rented  13.690090\n",
       "9  More than 10 minutes        Social Rented  12.556751"
      ]
     },
     "execution_count": 144,
     "metadata": {},
     "output_type": "execute_result"
    }
   ],
   "source": [
    "tenure_df =green[green.type_of_tenure != 'All'].copy()\n",
    "tenure_grouped = tenure_df.groupby(['distance','type_of_tenure']).value.agg('mean').reset_index(name = 'mean')\n",
    "tenure_grouped"
   ]
  },
  {
   "cell_type": "code",
   "execution_count": 145,
   "id": "0e3885ec-51d6-4f54-801c-17be798f9dd1",
   "metadata": {},
   "outputs": [
    {
     "data": {
      "text/plain": [
       "Text(0, 0.5, 'Mean')"
      ]
     },
     "execution_count": 145,
     "metadata": {},
     "output_type": "execute_result"
    },
    {
     "data": {
      "image/png": "[encoded data removed]",
      "text/plain": [
       "<Figure size 864x576 with 1 Axes>"
      ]
     },
     "metadata": {
      "needs_background": "light"
     },
     "output_type": "display_data"
    }
   ],
   "source": [
    "plt.figure(figsize=(12,8)) \n",
    "sns.barplot(x='type_of_tenure', y = 'mean', hue = 'distance', data = tenure_grouped)\n",
    "plt.xlabel('Type of Tenure', fontsize=14)\n",
    "plt.ylabel('Mean', fontsize=14)"
   ]
  },
  {
   "cell_type": "markdown",
   "id": "ae5fe312-138c-4c15-86ce-6bfc3f3372df",
   "metadata": {},
   "source": [
    "4. Are there any differences between rural and urban areas?\n",
    "5. How do people in neighbourhoods with good access to green space differ from those who have no good access? Are there differences in how they rate their neighbourhoods? Are there differences in how they rate their communities?"
   ]
  },
  {
   "cell_type": "code",
   "execution_count": 147,
   "id": "70e7a9f0-8d78-4471-9407-f2367b37a0f8",
   "metadata": {},
   "outputs": [
    {
     "data": {
      "text/html": [
       "<div>\n",
       "<style scoped>\n",
       "    .dataframe tbody tr th:only-of-type {\n",
       "        vertical-align: middle;\n",
       "    }\n",
       "\n",
       "    .dataframe tbody tr th {\n",
       "        vertical-align: top;\n",
       "    }\n",
       "\n",
       "    .dataframe thead th {\n",
       "        text-align: right;\n",
       "    }\n",
       "</style>\n",
       "<table border=\"1\" class=\"dataframe\">\n",
       "  <thead>\n",
       "    <tr style=\"text-align: right;\">\n",
       "      <th></th>\n",
       "      <th>distance</th>\n",
       "      <th>urban_rural_classification</th>\n",
       "      <th>mean</th>\n",
       "    </tr>\n",
       "  </thead>\n",
       "  <tbody>\n",
       "    <tr>\n",
       "      <th>0</th>\n",
       "      <td>Less than 10 minutes</td>\n",
       "      <td>Rural</td>\n",
       "      <td>43.965948</td>\n",
       "    </tr>\n",
       "    <tr>\n",
       "      <th>1</th>\n",
       "      <td>Less than 10 minutes</td>\n",
       "      <td>Urban</td>\n",
       "      <td>43.744300</td>\n",
       "    </tr>\n",
       "    <tr>\n",
       "      <th>2</th>\n",
       "      <td>More than 10 minutes</td>\n",
       "      <td>Rural</td>\n",
       "      <td>11.332749</td>\n",
       "    </tr>\n",
       "    <tr>\n",
       "      <th>3</th>\n",
       "      <td>More than 10 minutes</td>\n",
       "      <td>Urban</td>\n",
       "      <td>11.285137</td>\n",
       "    </tr>\n",
       "  </tbody>\n",
       "</table>\n",
       "</div>"
      ],
      "text/plain": [
       "               distance urban_rural_classification       mean\n",
       "0  Less than 10 minutes                      Rural  43.965948\n",
       "1  Less than 10 minutes                      Urban  43.744300\n",
       "2  More than 10 minutes                      Rural  11.332749\n",
       "3  More than 10 minutes                      Urban  11.285137"
      ]
     },
     "execution_count": 147,
     "metadata": {},
     "output_type": "execute_result"
    }
   ],
   "source": [
    "ur_df =green[green.urban_rural_classification != 'All'].copy()\n",
    "ur_grouped = ur_df.groupby(['distance','urban_rural_classification']).value.agg('mean').reset_index(name = 'mean')\n",
    "ur_grouped"
   ]
  },
  {
   "cell_type": "code",
   "execution_count": 148,
   "id": "35e5b998-1ea5-41f6-a1cb-0a240093dc24",
   "metadata": {},
   "outputs": [
    {
     "data": {
      "text/plain": [
       "Text(0, 0.5, 'Mean')"
      ]
     },
     "execution_count": 148,
     "metadata": {},
     "output_type": "execute_result"
    },
    {
     "data": {
      "image/png": "[encoded data removed]",
      "text/plain": [
       "<Figure size 864x576 with 1 Axes>"
      ]
     },
     "metadata": {
      "needs_background": "light"
     },
     "output_type": "display_data"
    }
   ],
   "source": [
    "plt.figure(figsize=(12,8)) \n",
    "sns.barplot(x='urban_rural_classification', y = 'mean', hue = 'distance', data =ur_grouped)\n",
    "plt.xlabel('Urban Rural', fontsize=14)\n",
    "plt.ylabel('Mean', fontsize=14)"
   ]
  },
  {
   "cell_type": "code",
   "execution_count": 117,
   "id": "a27141a9-ac35-4412-83f7-e58a2e7f7224",
   "metadata": {},
   "outputs": [
    {
     "data": {
      "text/html": [
       "<div>\n",
       "<style scoped>\n",
       "    .dataframe tbody tr th:only-of-type {\n",
       "        vertical-align: middle;\n",
       "    }\n",
       "\n",
       "    .dataframe tbody tr th {\n",
       "        vertical-align: top;\n",
       "    }\n",
       "\n",
       "    .dataframe thead th {\n",
       "        text-align: right;\n",
       "    }\n",
       "</style>\n",
       "<table border=\"1\" class=\"dataframe\">\n",
       "  <thead>\n",
       "    <tr style=\"text-align: right;\">\n",
       "      <th></th>\n",
       "      <th>distance</th>\n",
       "      <th>urban_rural_classification</th>\n",
       "      <th>count</th>\n",
       "    </tr>\n",
       "  </thead>\n",
       "  <tbody>\n",
       "    <tr>\n",
       "      <th>0</th>\n",
       "      <td>Less than 10 minutes</td>\n",
       "      <td>Urban</td>\n",
       "      <td>1386</td>\n",
       "    </tr>\n",
       "    <tr>\n",
       "      <th>1</th>\n",
       "      <td>Less than 10 minutes</td>\n",
       "      <td>Rural</td>\n",
       "      <td>696</td>\n",
       "    </tr>\n",
       "    <tr>\n",
       "      <th>2</th>\n",
       "      <td>More than 10 minutes</td>\n",
       "      <td>Urban</td>\n",
       "      <td>693</td>\n",
       "    </tr>\n",
       "    <tr>\n",
       "      <th>3</th>\n",
       "      <td>More than 10 minutes</td>\n",
       "      <td>Rural</td>\n",
       "      <td>342</td>\n",
       "    </tr>\n",
       "  </tbody>\n",
       "</table>\n",
       "</div>"
      ],
      "text/plain": [
       "               distance urban_rural_classification  count\n",
       "0  Less than 10 minutes                      Urban   1386\n",
       "1  Less than 10 minutes                      Rural    696\n",
       "2  More than 10 minutes                      Urban    693\n",
       "3  More than 10 minutes                      Rural    342"
      ]
     },
     "execution_count": 117,
     "metadata": {},
     "output_type": "execute_result"
    }
   ],
   "source": [
    "ur_g = ur_df.groupby(['distance'])\n",
    "\n",
    "ur_grouped = ur_g['urban_rural_classification'].value_counts().reset_index(name = 'count')\n",
    "ur_grouped\n",
    "#doesn't even make sense "
   ]
  },
  {
   "cell_type": "code",
   "execution_count": null,
   "id": "2abd5159-5fed-4fba-87b6-3360b1df3098",
   "metadata": {},
   "outputs": [],
   "source": []
  }
 ],
 "metadata": {
  "kernelspec": {
   "display_name": "Python 3 (ipykernel)",
   "language": "python",
   "name": "python3"
  },
  "language_info": {
   "codemirror_mode": {
    "name": "ipython",
    "version": 3
   },
   "file_extension": ".py",
   "mimetype": "text/x-python",
   "name": "python",
   "nbconvert_exporter": "python",
   "pygments_lexer": "ipython3",
   "version": "3.9.12"
  }
 },
 "nbformat": 4,
 "nbformat_minor": 5
}
