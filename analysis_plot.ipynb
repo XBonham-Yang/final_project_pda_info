{
 "cells": [
  {
   "cell_type": "markdown",
   "id": "499c6f6e-8db4-446e-b892-ff48e9cf1a37",
   "metadata": {},
   "source": [
    "# Analysis \n",
    "Need to answer 1 to 5 here \n",
    "1. Are there certain groups that have local access to green space?\n",
    "2. Are there groups that are lacking access?\n",
    "3. What there big differences in how far people have to walk to access their green space?\n",
    "4. Are there any differences between rural and urban areas?\n",
    "5. How do people in neighbourhoods with good access to green space differ from those who have no good access? Are there differences in how they rate their neighbourhoods? Are there differences in how they rate their communities?\n",
    "6. Is there any way to predict which households would have higher ratings?"
   ]
  },
  {
   "cell_type": "markdown",
   "id": "140fedd9-f292-4732-8203-7ad1132cc73d",
   "metadata": {},
   "source": [
    "```\n",
    "About my 'clean data' :\n",
    "Data has all the useful columns but there are currently in counts \n",
    "For analysis I would like to change them to proportions, I will filter out subsets of the data that I am interested in and change them to proportions as I go. \n",
    "```"
   ]
  },
  {
   "cell_type": "code",
   "execution_count": 1,
   "id": "a5ad44aa-3dd5-429e-9496-df966275e377",
   "metadata": {},
   "outputs": [],
   "source": [
    "import pandas as pd \n",
    "import numpy as np "
   ]
  },
  {
   "cell_type": "code",
   "execution_count": 2,
   "id": "12b5e49d-50ba-4362-9176-55f35aa89f54",
   "metadata": {},
   "outputs": [
    {
     "name": "stderr",
     "output_type": "stream",
     "text": [
      "/var/folders/h4/vy1nwyvd5kz_n6950nl29pj80000gn/T/ipykernel_81490/2395335574.py:1: DtypeWarning: Columns (3,11) have mixed types. Specify dtype option on import or set low_memory=False.\n",
      "  green = pd.read_csv('clean_data/green.csv')\n"
     ]
    },
    {
     "data": {
      "text/html": [
       "<div>\n",
       "<style scoped>\n",
       "    .dataframe tbody tr th:only-of-type {\n",
       "        vertical-align: middle;\n",
       "    }\n",
       "\n",
       "    .dataframe tbody tr th {\n",
       "        vertical-align: top;\n",
       "    }\n",
       "\n",
       "    .dataframe thead th {\n",
       "        text-align: right;\n",
       "    }\n",
       "</style>\n",
       "<table border=\"1\" class=\"dataframe\">\n",
       "  <thead>\n",
       "    <tr style=\"text-align: right;\">\n",
       "      <th></th>\n",
       "      <th>datecode</th>\n",
       "      <th>value</th>\n",
       "      <th>walking_distance_to_nearest_greenspace</th>\n",
       "      <th>age</th>\n",
       "      <th>gender</th>\n",
       "      <th>urban_rural_classification</th>\n",
       "      <th>simd_quintiles</th>\n",
       "      <th>type_of_tenure</th>\n",
       "      <th>household_type</th>\n",
       "      <th>ethnicity</th>\n",
       "      <th>neighbourhood_rating</th>\n",
       "      <th>community_belonging</th>\n",
       "    </tr>\n",
       "  </thead>\n",
       "  <tbody>\n",
       "    <tr>\n",
       "      <th>0</th>\n",
       "      <td>2015</td>\n",
       "      <td>14.1</td>\n",
       "      <td>Less than 10 minutes</td>\n",
       "      <td>All</td>\n",
       "      <td>Male</td>\n",
       "      <td>All</td>\n",
       "      <td>All</td>\n",
       "      <td>All</td>\n",
       "      <td>All</td>\n",
       "      <td>All</td>\n",
       "      <td>NaN</td>\n",
       "      <td>NaN</td>\n",
       "    </tr>\n",
       "    <tr>\n",
       "      <th>1</th>\n",
       "      <td>2015</td>\n",
       "      <td>14.4</td>\n",
       "      <td>Less than 10 minutes</td>\n",
       "      <td>All</td>\n",
       "      <td>All</td>\n",
       "      <td>All</td>\n",
       "      <td>All</td>\n",
       "      <td>All</td>\n",
       "      <td>Pensioners</td>\n",
       "      <td>All</td>\n",
       "      <td>NaN</td>\n",
       "      <td>NaN</td>\n",
       "    </tr>\n",
       "    <tr>\n",
       "      <th>2</th>\n",
       "      <td>2017</td>\n",
       "      <td>40.1</td>\n",
       "      <td>Less than 10 minutes</td>\n",
       "      <td>65 years and over</td>\n",
       "      <td>All</td>\n",
       "      <td>All</td>\n",
       "      <td>All</td>\n",
       "      <td>All</td>\n",
       "      <td>All</td>\n",
       "      <td>All</td>\n",
       "      <td>NaN</td>\n",
       "      <td>NaN</td>\n",
       "    </tr>\n",
       "    <tr>\n",
       "      <th>3</th>\n",
       "      <td>2016</td>\n",
       "      <td>3.1</td>\n",
       "      <td>Less than 10 minutes</td>\n",
       "      <td>All</td>\n",
       "      <td>All</td>\n",
       "      <td>All</td>\n",
       "      <td>All</td>\n",
       "      <td>All</td>\n",
       "      <td>Adults</td>\n",
       "      <td>All</td>\n",
       "      <td>NaN</td>\n",
       "      <td>NaN</td>\n",
       "    </tr>\n",
       "    <tr>\n",
       "      <th>4</th>\n",
       "      <td>2015</td>\n",
       "      <td>14.3</td>\n",
       "      <td>Less than 10 minutes</td>\n",
       "      <td>All</td>\n",
       "      <td>All</td>\n",
       "      <td>All</td>\n",
       "      <td>All</td>\n",
       "      <td>Owned Mortgage/Loan</td>\n",
       "      <td>All</td>\n",
       "      <td>All</td>\n",
       "      <td>NaN</td>\n",
       "      <td>NaN</td>\n",
       "    </tr>\n",
       "    <tr>\n",
       "      <th>...</th>\n",
       "      <td>...</td>\n",
       "      <td>...</td>\n",
       "      <td>...</td>\n",
       "      <td>...</td>\n",
       "      <td>...</td>\n",
       "      <td>...</td>\n",
       "      <td>...</td>\n",
       "      <td>...</td>\n",
       "      <td>...</td>\n",
       "      <td>...</td>\n",
       "      <td>...</td>\n",
       "      <td>...</td>\n",
       "    </tr>\n",
       "    <tr>\n",
       "      <th>112765</th>\n",
       "      <td>2019</td>\n",
       "      <td>3.3</td>\n",
       "      <td>All</td>\n",
       "      <td>NaN</td>\n",
       "      <td>All</td>\n",
       "      <td>All</td>\n",
       "      <td>All</td>\n",
       "      <td>All</td>\n",
       "      <td>Adults</td>\n",
       "      <td>All</td>\n",
       "      <td>NaN</td>\n",
       "      <td>Not very strongly</td>\n",
       "    </tr>\n",
       "    <tr>\n",
       "      <th>112766</th>\n",
       "      <td>2014</td>\n",
       "      <td>9.6</td>\n",
       "      <td>All</td>\n",
       "      <td>NaN</td>\n",
       "      <td>All</td>\n",
       "      <td>All</td>\n",
       "      <td>All</td>\n",
       "      <td>All</td>\n",
       "      <td>All</td>\n",
       "      <td>White</td>\n",
       "      <td>NaN</td>\n",
       "      <td>Not very strongly</td>\n",
       "    </tr>\n",
       "    <tr>\n",
       "      <th>112767</th>\n",
       "      <td>2017</td>\n",
       "      <td>16.0</td>\n",
       "      <td>All</td>\n",
       "      <td>NaN</td>\n",
       "      <td>All</td>\n",
       "      <td>All</td>\n",
       "      <td>All</td>\n",
       "      <td>All</td>\n",
       "      <td>All</td>\n",
       "      <td>All</td>\n",
       "      <td>NaN</td>\n",
       "      <td>Not very strongly</td>\n",
       "    </tr>\n",
       "    <tr>\n",
       "      <th>112768</th>\n",
       "      <td>2018</td>\n",
       "      <td>16.0</td>\n",
       "      <td>All</td>\n",
       "      <td>NaN</td>\n",
       "      <td>Female</td>\n",
       "      <td>All</td>\n",
       "      <td>All</td>\n",
       "      <td>All</td>\n",
       "      <td>All</td>\n",
       "      <td>All</td>\n",
       "      <td>NaN</td>\n",
       "      <td>Not very strongly</td>\n",
       "    </tr>\n",
       "    <tr>\n",
       "      <th>112769</th>\n",
       "      <td>2018</td>\n",
       "      <td>24.5</td>\n",
       "      <td>All</td>\n",
       "      <td>NaN</td>\n",
       "      <td>Female</td>\n",
       "      <td>All</td>\n",
       "      <td>All</td>\n",
       "      <td>All</td>\n",
       "      <td>All</td>\n",
       "      <td>All</td>\n",
       "      <td>NaN</td>\n",
       "      <td>Not very strongly</td>\n",
       "    </tr>\n",
       "  </tbody>\n",
       "</table>\n",
       "<p>112770 rows × 12 columns</p>\n",
       "</div>"
      ],
      "text/plain": [
       "        datecode  value walking_distance_to_nearest_greenspace  \\\n",
       "0           2015   14.1                   Less than 10 minutes   \n",
       "1           2015   14.4                   Less than 10 minutes   \n",
       "2           2017   40.1                   Less than 10 minutes   \n",
       "3           2016    3.1                   Less than 10 minutes   \n",
       "4           2015   14.3                   Less than 10 minutes   \n",
       "...          ...    ...                                    ...   \n",
       "112765      2019    3.3                                    All   \n",
       "112766      2014    9.6                                    All   \n",
       "112767      2017   16.0                                    All   \n",
       "112768      2018   16.0                                    All   \n",
       "112769      2018   24.5                                    All   \n",
       "\n",
       "                      age  gender urban_rural_classification simd_quintiles  \\\n",
       "0                     All    Male                        All            All   \n",
       "1                     All     All                        All            All   \n",
       "2       65 years and over     All                        All            All   \n",
       "3                     All     All                        All            All   \n",
       "4                     All     All                        All            All   \n",
       "...                   ...     ...                        ...            ...   \n",
       "112765                NaN     All                        All            All   \n",
       "112766                NaN     All                        All            All   \n",
       "112767                NaN     All                        All            All   \n",
       "112768                NaN  Female                        All            All   \n",
       "112769                NaN  Female                        All            All   \n",
       "\n",
       "             type_of_tenure household_type ethnicity neighbourhood_rating  \\\n",
       "0                       All            All       All                  NaN   \n",
       "1                       All     Pensioners       All                  NaN   \n",
       "2                       All            All       All                  NaN   \n",
       "3                       All         Adults       All                  NaN   \n",
       "4       Owned Mortgage/Loan            All       All                  NaN   \n",
       "...                     ...            ...       ...                  ...   \n",
       "112765                  All         Adults       All                  NaN   \n",
       "112766                  All            All     White                  NaN   \n",
       "112767                  All            All       All                  NaN   \n",
       "112768                  All            All       All                  NaN   \n",
       "112769                  All            All       All                  NaN   \n",
       "\n",
       "       community_belonging  \n",
       "0                      NaN  \n",
       "1                      NaN  \n",
       "2                      NaN  \n",
       "3                      NaN  \n",
       "4                      NaN  \n",
       "...                    ...  \n",
       "112765   Not very strongly  \n",
       "112766   Not very strongly  \n",
       "112767   Not very strongly  \n",
       "112768   Not very strongly  \n",
       "112769   Not very strongly  \n",
       "\n",
       "[112770 rows x 12 columns]"
      ]
     },
     "execution_count": 2,
     "metadata": {},
     "output_type": "execute_result"
    }
   ],
   "source": [
    "green = pd.read_csv('clean_data/green.csv')\n",
    "green"
   ]
  },
  {
   "cell_type": "markdown",
   "id": "b4e56309-67f2-4b54-a74c-a1ec2546b893",
   "metadata": {},
   "source": [
    "## Question 1 and 2 \n",
    "1. Are there certain groups that have local access to green space?\n",
    "2. Are there groups that are lacking access?\n",
    "<br>\n",
    "I will answer with age, gender, etnicity "
   ]
  },
  {
   "cell_type": "code",
   "execution_count": 3,
   "id": "1ea95f18-3639-449f-82b3-de57820ca8c3",
   "metadata": {},
   "outputs": [],
   "source": [
    "green.rename(columns={'walking_distance_to_nearest_greenspace':'distance'}, inplace = True)\n",
    "green = green[green.distance.isin(['Less than 10 minutes', 'More than 10 minutes'])].copy()"
   ]
  },
  {
   "cell_type": "markdown",
   "id": "65c579d0-7691-4757-bce8-f0863726457f",
   "metadata": {},
   "source": [
    "### Age groups "
   ]
  },
  {
   "cell_type": "code",
   "execution_count": 4,
   "id": "7aa82787-094d-4206-983d-6b3a0315acd3",
   "metadata": {},
   "outputs": [
    {
     "data": {
      "text/plain": [
       "age\n",
       "16-34 years          32.969521\n",
       "35-64 years          33.113391\n",
       "65 years and over    32.635546\n",
       "Name: value, dtype: float64"
      ]
     },
     "execution_count": 4,
     "metadata": {},
     "output_type": "execute_result"
    }
   ],
   "source": [
    "# Age \n",
    "green[green.age != 'All'].groupby('age').value.agg('mean')\n"
   ]
  },
  {
   "cell_type": "code",
   "execution_count": 5,
   "id": "e65210f3-21bb-44e0-8f6e-c33e5a716e2a",
   "metadata": {},
   "outputs": [
    {
     "data": {
      "text/html": [
       "<div>\n",
       "<style scoped>\n",
       "    .dataframe tbody tr th:only-of-type {\n",
       "        vertical-align: middle;\n",
       "    }\n",
       "\n",
       "    .dataframe tbody tr th {\n",
       "        vertical-align: top;\n",
       "    }\n",
       "\n",
       "    .dataframe thead th {\n",
       "        text-align: right;\n",
       "    }\n",
       "</style>\n",
       "<table border=\"1\" class=\"dataframe\">\n",
       "  <thead>\n",
       "    <tr style=\"text-align: right;\">\n",
       "      <th></th>\n",
       "      <th>datecode</th>\n",
       "      <th>value</th>\n",
       "      <th>distance</th>\n",
       "      <th>age</th>\n",
       "      <th>gender</th>\n",
       "      <th>urban_rural_classification</th>\n",
       "      <th>simd_quintiles</th>\n",
       "      <th>type_of_tenure</th>\n",
       "      <th>household_type</th>\n",
       "      <th>ethnicity</th>\n",
       "      <th>neighbourhood_rating</th>\n",
       "      <th>community_belonging</th>\n",
       "    </tr>\n",
       "  </thead>\n",
       "  <tbody>\n",
       "    <tr>\n",
       "      <th>2</th>\n",
       "      <td>2017</td>\n",
       "      <td>40.1</td>\n",
       "      <td>Less than 10 minutes</td>\n",
       "      <td>65 years and over</td>\n",
       "      <td>All</td>\n",
       "      <td>All</td>\n",
       "      <td>All</td>\n",
       "      <td>All</td>\n",
       "      <td>All</td>\n",
       "      <td>All</td>\n",
       "      <td>NaN</td>\n",
       "      <td>NaN</td>\n",
       "    </tr>\n",
       "    <tr>\n",
       "      <th>5</th>\n",
       "      <td>2016</td>\n",
       "      <td>36.8</td>\n",
       "      <td>Less than 10 minutes</td>\n",
       "      <td>35-64 years</td>\n",
       "      <td>All</td>\n",
       "      <td>All</td>\n",
       "      <td>All</td>\n",
       "      <td>All</td>\n",
       "      <td>All</td>\n",
       "      <td>All</td>\n",
       "      <td>NaN</td>\n",
       "      <td>NaN</td>\n",
       "    </tr>\n",
       "    <tr>\n",
       "      <th>15</th>\n",
       "      <td>2017</td>\n",
       "      <td>16.6</td>\n",
       "      <td>Less than 10 minutes</td>\n",
       "      <td>16-34 years</td>\n",
       "      <td>All</td>\n",
       "      <td>All</td>\n",
       "      <td>All</td>\n",
       "      <td>All</td>\n",
       "      <td>All</td>\n",
       "      <td>All</td>\n",
       "      <td>NaN</td>\n",
       "      <td>NaN</td>\n",
       "    </tr>\n",
       "    <tr>\n",
       "      <th>25</th>\n",
       "      <td>2014</td>\n",
       "      <td>6.0</td>\n",
       "      <td>Less than 10 minutes</td>\n",
       "      <td>35-64 years</td>\n",
       "      <td>All</td>\n",
       "      <td>All</td>\n",
       "      <td>All</td>\n",
       "      <td>All</td>\n",
       "      <td>All</td>\n",
       "      <td>All</td>\n",
       "      <td>NaN</td>\n",
       "      <td>NaN</td>\n",
       "    </tr>\n",
       "    <tr>\n",
       "      <th>42</th>\n",
       "      <td>2013</td>\n",
       "      <td>8.0</td>\n",
       "      <td>Less than 10 minutes</td>\n",
       "      <td>65 years and over</td>\n",
       "      <td>All</td>\n",
       "      <td>All</td>\n",
       "      <td>All</td>\n",
       "      <td>All</td>\n",
       "      <td>All</td>\n",
       "      <td>All</td>\n",
       "      <td>NaN</td>\n",
       "      <td>NaN</td>\n",
       "    </tr>\n",
       "    <tr>\n",
       "      <th>...</th>\n",
       "      <td>...</td>\n",
       "      <td>...</td>\n",
       "      <td>...</td>\n",
       "      <td>...</td>\n",
       "      <td>...</td>\n",
       "      <td>...</td>\n",
       "      <td>...</td>\n",
       "      <td>...</td>\n",
       "      <td>...</td>\n",
       "      <td>...</td>\n",
       "      <td>...</td>\n",
       "      <td>...</td>\n",
       "    </tr>\n",
       "    <tr>\n",
       "      <th>73285</th>\n",
       "      <td>2016</td>\n",
       "      <td>0.0</td>\n",
       "      <td>Less than 10 minutes</td>\n",
       "      <td>NaN</td>\n",
       "      <td>All</td>\n",
       "      <td>All</td>\n",
       "      <td>All</td>\n",
       "      <td>All</td>\n",
       "      <td>All</td>\n",
       "      <td>All</td>\n",
       "      <td>NaN</td>\n",
       "      <td>Don't know</td>\n",
       "    </tr>\n",
       "    <tr>\n",
       "      <th>73286</th>\n",
       "      <td>2015</td>\n",
       "      <td>45.6</td>\n",
       "      <td>Less than 10 minutes</td>\n",
       "      <td>NaN</td>\n",
       "      <td>All</td>\n",
       "      <td>All</td>\n",
       "      <td>All</td>\n",
       "      <td>All</td>\n",
       "      <td>All</td>\n",
       "      <td>All</td>\n",
       "      <td>NaN</td>\n",
       "      <td>Very strongly</td>\n",
       "    </tr>\n",
       "    <tr>\n",
       "      <th>73287</th>\n",
       "      <td>2017</td>\n",
       "      <td>4.1</td>\n",
       "      <td>Less than 10 minutes</td>\n",
       "      <td>NaN</td>\n",
       "      <td>All</td>\n",
       "      <td>All</td>\n",
       "      <td>All</td>\n",
       "      <td>All</td>\n",
       "      <td>All</td>\n",
       "      <td>All</td>\n",
       "      <td>NaN</td>\n",
       "      <td>Not at all strongly</td>\n",
       "    </tr>\n",
       "    <tr>\n",
       "      <th>73288</th>\n",
       "      <td>2017</td>\n",
       "      <td>27.4</td>\n",
       "      <td>Less than 10 minutes</td>\n",
       "      <td>NaN</td>\n",
       "      <td>All</td>\n",
       "      <td>All</td>\n",
       "      <td>All</td>\n",
       "      <td>All</td>\n",
       "      <td>All</td>\n",
       "      <td>All</td>\n",
       "      <td>NaN</td>\n",
       "      <td>Very strongly</td>\n",
       "    </tr>\n",
       "    <tr>\n",
       "      <th>73289</th>\n",
       "      <td>2013</td>\n",
       "      <td>3.5</td>\n",
       "      <td>Less than 10 minutes</td>\n",
       "      <td>NaN</td>\n",
       "      <td>All</td>\n",
       "      <td>All</td>\n",
       "      <td>All</td>\n",
       "      <td>All</td>\n",
       "      <td>All</td>\n",
       "      <td>All</td>\n",
       "      <td>NaN</td>\n",
       "      <td>Not at all strongly</td>\n",
       "    </tr>\n",
       "  </tbody>\n",
       "</table>\n",
       "<p>12966 rows × 12 columns</p>\n",
       "</div>"
      ],
      "text/plain": [
       "       datecode  value              distance                age gender  \\\n",
       "2          2017   40.1  Less than 10 minutes  65 years and over    All   \n",
       "5          2016   36.8  Less than 10 minutes        35-64 years    All   \n",
       "15         2017   16.6  Less than 10 minutes        16-34 years    All   \n",
       "25         2014    6.0  Less than 10 minutes        35-64 years    All   \n",
       "42         2013    8.0  Less than 10 minutes  65 years and over    All   \n",
       "...         ...    ...                   ...                ...    ...   \n",
       "73285      2016    0.0  Less than 10 minutes                NaN    All   \n",
       "73286      2015   45.6  Less than 10 minutes                NaN    All   \n",
       "73287      2017    4.1  Less than 10 minutes                NaN    All   \n",
       "73288      2017   27.4  Less than 10 minutes                NaN    All   \n",
       "73289      2013    3.5  Less than 10 minutes                NaN    All   \n",
       "\n",
       "      urban_rural_classification simd_quintiles type_of_tenure household_type  \\\n",
       "2                            All            All            All            All   \n",
       "5                            All            All            All            All   \n",
       "15                           All            All            All            All   \n",
       "25                           All            All            All            All   \n",
       "42                           All            All            All            All   \n",
       "...                          ...            ...            ...            ...   \n",
       "73285                        All            All            All            All   \n",
       "73286                        All            All            All            All   \n",
       "73287                        All            All            All            All   \n",
       "73288                        All            All            All            All   \n",
       "73289                        All            All            All            All   \n",
       "\n",
       "      ethnicity neighbourhood_rating  community_belonging  \n",
       "2           All                  NaN                  NaN  \n",
       "5           All                  NaN                  NaN  \n",
       "15          All                  NaN                  NaN  \n",
       "25          All                  NaN                  NaN  \n",
       "42          All                  NaN                  NaN  \n",
       "...         ...                  ...                  ...  \n",
       "73285       All                  NaN           Don't know  \n",
       "73286       All                  NaN        Very strongly  \n",
       "73287       All                  NaN  Not at all strongly  \n",
       "73288       All                  NaN        Very strongly  \n",
       "73289       All                  NaN  Not at all strongly  \n",
       "\n",
       "[12966 rows x 12 columns]"
      ]
     },
     "execution_count": 5,
     "metadata": {},
     "output_type": "execute_result"
    }
   ],
   "source": [
    "age_df =green[green.age != 'All'].copy()\n",
    "age_df"
   ]
  },
  {
   "cell_type": "code",
   "execution_count": 6,
   "id": "5117095a-71fa-4c70-a564-884819b0c20a",
   "metadata": {},
   "outputs": [],
   "source": [
    "age_grouped = age_df.groupby(['distance','age']).value.agg('mean').reset_index(name = 'mean')\n"
   ]
  },
  {
   "cell_type": "code",
   "execution_count": 7,
   "id": "8de7959f-0069-42b8-9903-ffc2c0a5fe9d",
   "metadata": {},
   "outputs": [
    {
     "data": {
      "text/html": [
       "<div>\n",
       "<style scoped>\n",
       "    .dataframe tbody tr th:only-of-type {\n",
       "        vertical-align: middle;\n",
       "    }\n",
       "\n",
       "    .dataframe tbody tr th {\n",
       "        vertical-align: top;\n",
       "    }\n",
       "\n",
       "    .dataframe thead th {\n",
       "        text-align: right;\n",
       "    }\n",
       "</style>\n",
       "<table border=\"1\" class=\"dataframe\">\n",
       "  <thead>\n",
       "    <tr style=\"text-align: right;\">\n",
       "      <th></th>\n",
       "      <th>distance</th>\n",
       "      <th>age</th>\n",
       "      <th>mean</th>\n",
       "    </tr>\n",
       "  </thead>\n",
       "  <tbody>\n",
       "    <tr>\n",
       "      <th>0</th>\n",
       "      <td>Less than 10 minutes</td>\n",
       "      <td>16-34 years</td>\n",
       "      <td>43.703058</td>\n",
       "    </tr>\n",
       "    <tr>\n",
       "      <th>1</th>\n",
       "      <td>Less than 10 minutes</td>\n",
       "      <td>35-64 years</td>\n",
       "      <td>43.947114</td>\n",
       "    </tr>\n",
       "    <tr>\n",
       "      <th>2</th>\n",
       "      <td>Less than 10 minutes</td>\n",
       "      <td>65 years and over</td>\n",
       "      <td>41.256566</td>\n",
       "    </tr>\n",
       "    <tr>\n",
       "      <th>3</th>\n",
       "      <td>More than 10 minutes</td>\n",
       "      <td>16-34 years</td>\n",
       "      <td>11.502446</td>\n",
       "    </tr>\n",
       "    <tr>\n",
       "      <th>4</th>\n",
       "      <td>More than 10 minutes</td>\n",
       "      <td>35-64 years</td>\n",
       "      <td>11.351739</td>\n",
       "    </tr>\n",
       "    <tr>\n",
       "      <th>5</th>\n",
       "      <td>More than 10 minutes</td>\n",
       "      <td>65 years and over</td>\n",
       "      <td>15.393506</td>\n",
       "    </tr>\n",
       "  </tbody>\n",
       "</table>\n",
       "</div>"
      ],
      "text/plain": [
       "               distance                age       mean\n",
       "0  Less than 10 minutes        16-34 years  43.703058\n",
       "1  Less than 10 minutes        35-64 years  43.947114\n",
       "2  Less than 10 minutes  65 years and over  41.256566\n",
       "3  More than 10 minutes        16-34 years  11.502446\n",
       "4  More than 10 minutes        35-64 years  11.351739\n",
       "5  More than 10 minutes  65 years and over  15.393506"
      ]
     },
     "execution_count": 7,
     "metadata": {},
     "output_type": "execute_result"
    }
   ],
   "source": [
    "age_grouped"
   ]
  },
  {
   "cell_type": "code",
   "execution_count": 8,
   "id": "83c9e659-1cd8-4adf-8479-e8e238746eb8",
   "metadata": {},
   "outputs": [],
   "source": [
    "import matplotlib.pyplot as plt\n",
    "import seaborn as sns"
   ]
  },
  {
   "cell_type": "code",
   "execution_count": 46,
   "id": "b04daf60-e266-4770-bf2e-d76a04b5fa1f",
   "metadata": {},
   "outputs": [
    {
     "data": {
      "text/plain": [
       "<matplotlib.legend.Legend at 0x7fe92d612880>"
      ]
     },
     "execution_count": 46,
     "metadata": {},
     "output_type": "execute_result"
    },
    {
     "data": {
      "image/png": "[encoded data removed]",
      "text/plain": [
       "<Figure size 864x576 with 1 Axes>"
      ]
     },
     "metadata": {
      "needs_background": "light"
     },
     "output_type": "display_data"
    }
   ],
   "source": [
    "plt.figure(figsize=(12,8)) \n",
    "ax = sns.barplot(x='age', y='mean', hue='distance', data=age_grouped)\n",
    "for container in ax.containers:\n",
    "    ax.bar_label(container)\n",
    "plt.xlabel('Age', fontsize=14)\n",
    "plt.ylabel('Mean(%)', fontsize=14)\n",
    "plt.title('Access to green space split by Age groups', fontsize = 16)\n",
    "ax.legend(loc='center left', bbox_to_anchor=(1, 0.5))"
   ]
  },
  {
   "cell_type": "markdown",
   "id": "47ba204d-9765-48ae-8d7e-f634e9848307",
   "metadata": {},
   "source": [
    "### Age Conclusion\n",
    "For different age groups, there's not clear difference. They all have a roughly 2:1 ratio for less than 10mins to more than 10mins "
   ]
  },
  {
   "cell_type": "markdown",
   "id": "daf6fa4c-960b-4f7c-aa86-965d837ee10e",
   "metadata": {},
   "source": [
    "### Gender "
   ]
  },
  {
   "cell_type": "code",
   "execution_count": 10,
   "id": "f9c11c03-9282-4cdd-9de4-76b23f161e8b",
   "metadata": {},
   "outputs": [
    {
     "data": {
      "text/html": [
       "<div>\n",
       "<style scoped>\n",
       "    .dataframe tbody tr th:only-of-type {\n",
       "        vertical-align: middle;\n",
       "    }\n",
       "\n",
       "    .dataframe tbody tr th {\n",
       "        vertical-align: top;\n",
       "    }\n",
       "\n",
       "    .dataframe thead th {\n",
       "        text-align: right;\n",
       "    }\n",
       "</style>\n",
       "<table border=\"1\" class=\"dataframe\">\n",
       "  <thead>\n",
       "    <tr style=\"text-align: right;\">\n",
       "      <th></th>\n",
       "      <th>datecode</th>\n",
       "      <th>value</th>\n",
       "      <th>distance</th>\n",
       "      <th>age</th>\n",
       "      <th>gender</th>\n",
       "      <th>urban_rural_classification</th>\n",
       "      <th>simd_quintiles</th>\n",
       "      <th>type_of_tenure</th>\n",
       "      <th>household_type</th>\n",
       "      <th>ethnicity</th>\n",
       "      <th>neighbourhood_rating</th>\n",
       "      <th>community_belonging</th>\n",
       "    </tr>\n",
       "  </thead>\n",
       "  <tbody>\n",
       "    <tr>\n",
       "      <th>0</th>\n",
       "      <td>2015</td>\n",
       "      <td>14.1</td>\n",
       "      <td>Less than 10 minutes</td>\n",
       "      <td>All</td>\n",
       "      <td>Male</td>\n",
       "      <td>All</td>\n",
       "      <td>All</td>\n",
       "      <td>All</td>\n",
       "      <td>All</td>\n",
       "      <td>All</td>\n",
       "      <td>NaN</td>\n",
       "      <td>NaN</td>\n",
       "    </tr>\n",
       "    <tr>\n",
       "      <th>18</th>\n",
       "      <td>2015</td>\n",
       "      <td>19.0</td>\n",
       "      <td>Less than 10 minutes</td>\n",
       "      <td>All</td>\n",
       "      <td>Female</td>\n",
       "      <td>All</td>\n",
       "      <td>All</td>\n",
       "      <td>All</td>\n",
       "      <td>All</td>\n",
       "      <td>All</td>\n",
       "      <td>NaN</td>\n",
       "      <td>NaN</td>\n",
       "    </tr>\n",
       "    <tr>\n",
       "      <th>28</th>\n",
       "      <td>2015</td>\n",
       "      <td>5.8</td>\n",
       "      <td>Less than 10 minutes</td>\n",
       "      <td>All</td>\n",
       "      <td>Female</td>\n",
       "      <td>All</td>\n",
       "      <td>All</td>\n",
       "      <td>All</td>\n",
       "      <td>All</td>\n",
       "      <td>All</td>\n",
       "      <td>NaN</td>\n",
       "      <td>NaN</td>\n",
       "    </tr>\n",
       "    <tr>\n",
       "      <th>29</th>\n",
       "      <td>2015</td>\n",
       "      <td>8.0</td>\n",
       "      <td>Less than 10 minutes</td>\n",
       "      <td>All</td>\n",
       "      <td>Male</td>\n",
       "      <td>All</td>\n",
       "      <td>All</td>\n",
       "      <td>All</td>\n",
       "      <td>All</td>\n",
       "      <td>All</td>\n",
       "      <td>NaN</td>\n",
       "      <td>NaN</td>\n",
       "    </tr>\n",
       "    <tr>\n",
       "      <th>36</th>\n",
       "      <td>2017</td>\n",
       "      <td>13.0</td>\n",
       "      <td>Less than 10 minutes</td>\n",
       "      <td>All</td>\n",
       "      <td>Male</td>\n",
       "      <td>All</td>\n",
       "      <td>All</td>\n",
       "      <td>All</td>\n",
       "      <td>All</td>\n",
       "      <td>All</td>\n",
       "      <td>NaN</td>\n",
       "      <td>NaN</td>\n",
       "    </tr>\n",
       "    <tr>\n",
       "      <th>...</th>\n",
       "      <td>...</td>\n",
       "      <td>...</td>\n",
       "      <td>...</td>\n",
       "      <td>...</td>\n",
       "      <td>...</td>\n",
       "      <td>...</td>\n",
       "      <td>...</td>\n",
       "      <td>...</td>\n",
       "      <td>...</td>\n",
       "      <td>...</td>\n",
       "      <td>...</td>\n",
       "      <td>...</td>\n",
       "    </tr>\n",
       "    <tr>\n",
       "      <th>28837</th>\n",
       "      <td>2016</td>\n",
       "      <td>3.0</td>\n",
       "      <td>More than 10 minutes</td>\n",
       "      <td>All</td>\n",
       "      <td>Female</td>\n",
       "      <td>All</td>\n",
       "      <td>All</td>\n",
       "      <td>All</td>\n",
       "      <td>All</td>\n",
       "      <td>All</td>\n",
       "      <td>NaN</td>\n",
       "      <td>NaN</td>\n",
       "    </tr>\n",
       "    <tr>\n",
       "      <th>28838</th>\n",
       "      <td>2016</td>\n",
       "      <td>6.7</td>\n",
       "      <td>More than 10 minutes</td>\n",
       "      <td>All</td>\n",
       "      <td>Female</td>\n",
       "      <td>All</td>\n",
       "      <td>All</td>\n",
       "      <td>All</td>\n",
       "      <td>All</td>\n",
       "      <td>All</td>\n",
       "      <td>NaN</td>\n",
       "      <td>NaN</td>\n",
       "    </tr>\n",
       "    <tr>\n",
       "      <th>28849</th>\n",
       "      <td>2016</td>\n",
       "      <td>3.0</td>\n",
       "      <td>More than 10 minutes</td>\n",
       "      <td>All</td>\n",
       "      <td>Male</td>\n",
       "      <td>All</td>\n",
       "      <td>All</td>\n",
       "      <td>All</td>\n",
       "      <td>All</td>\n",
       "      <td>All</td>\n",
       "      <td>NaN</td>\n",
       "      <td>NaN</td>\n",
       "    </tr>\n",
       "    <tr>\n",
       "      <th>28850</th>\n",
       "      <td>2014</td>\n",
       "      <td>26.0</td>\n",
       "      <td>More than 10 minutes</td>\n",
       "      <td>All</td>\n",
       "      <td>Female</td>\n",
       "      <td>All</td>\n",
       "      <td>All</td>\n",
       "      <td>All</td>\n",
       "      <td>All</td>\n",
       "      <td>All</td>\n",
       "      <td>NaN</td>\n",
       "      <td>NaN</td>\n",
       "    </tr>\n",
       "    <tr>\n",
       "      <th>28853</th>\n",
       "      <td>2017</td>\n",
       "      <td>14.0</td>\n",
       "      <td>More than 10 minutes</td>\n",
       "      <td>All</td>\n",
       "      <td>Male</td>\n",
       "      <td>All</td>\n",
       "      <td>All</td>\n",
       "      <td>All</td>\n",
       "      <td>All</td>\n",
       "      <td>All</td>\n",
       "      <td>NaN</td>\n",
       "      <td>NaN</td>\n",
       "    </tr>\n",
       "  </tbody>\n",
       "</table>\n",
       "<p>4158 rows × 12 columns</p>\n",
       "</div>"
      ],
      "text/plain": [
       "       datecode  value              distance  age  gender  \\\n",
       "0          2015   14.1  Less than 10 minutes  All    Male   \n",
       "18         2015   19.0  Less than 10 minutes  All  Female   \n",
       "28         2015    5.8  Less than 10 minutes  All  Female   \n",
       "29         2015    8.0  Less than 10 minutes  All    Male   \n",
       "36         2017   13.0  Less than 10 minutes  All    Male   \n",
       "...         ...    ...                   ...  ...     ...   \n",
       "28837      2016    3.0  More than 10 minutes  All  Female   \n",
       "28838      2016    6.7  More than 10 minutes  All  Female   \n",
       "28849      2016    3.0  More than 10 minutes  All    Male   \n",
       "28850      2014   26.0  More than 10 minutes  All  Female   \n",
       "28853      2017   14.0  More than 10 minutes  All    Male   \n",
       "\n",
       "      urban_rural_classification simd_quintiles type_of_tenure household_type  \\\n",
       "0                            All            All            All            All   \n",
       "18                           All            All            All            All   \n",
       "28                           All            All            All            All   \n",
       "29                           All            All            All            All   \n",
       "36                           All            All            All            All   \n",
       "...                          ...            ...            ...            ...   \n",
       "28837                        All            All            All            All   \n",
       "28838                        All            All            All            All   \n",
       "28849                        All            All            All            All   \n",
       "28850                        All            All            All            All   \n",
       "28853                        All            All            All            All   \n",
       "\n",
       "      ethnicity neighbourhood_rating community_belonging  \n",
       "0           All                  NaN                 NaN  \n",
       "18          All                  NaN                 NaN  \n",
       "28          All                  NaN                 NaN  \n",
       "29          All                  NaN                 NaN  \n",
       "36          All                  NaN                 NaN  \n",
       "...         ...                  ...                 ...  \n",
       "28837       All                  NaN                 NaN  \n",
       "28838       All                  NaN                 NaN  \n",
       "28849       All                  NaN                 NaN  \n",
       "28850       All                  NaN                 NaN  \n",
       "28853       All                  NaN                 NaN  \n",
       "\n",
       "[4158 rows x 12 columns]"
      ]
     },
     "execution_count": 10,
     "metadata": {},
     "output_type": "execute_result"
    }
   ],
   "source": [
    "gender_df =green[green.gender != 'All'].copy()\n",
    "gender_df"
   ]
  },
  {
   "cell_type": "code",
   "execution_count": 11,
   "id": "06fae125-6c98-4d90-8b1b-eec7501f0995",
   "metadata": {},
   "outputs": [
    {
     "data": {
      "text/html": [
       "<div>\n",
       "<style scoped>\n",
       "    .dataframe tbody tr th:only-of-type {\n",
       "        vertical-align: middle;\n",
       "    }\n",
       "\n",
       "    .dataframe tbody tr th {\n",
       "        vertical-align: top;\n",
       "    }\n",
       "\n",
       "    .dataframe thead th {\n",
       "        text-align: right;\n",
       "    }\n",
       "</style>\n",
       "<table border=\"1\" class=\"dataframe\">\n",
       "  <thead>\n",
       "    <tr style=\"text-align: right;\">\n",
       "      <th></th>\n",
       "      <th>distance</th>\n",
       "      <th>gender</th>\n",
       "      <th>mean</th>\n",
       "    </tr>\n",
       "  </thead>\n",
       "  <tbody>\n",
       "    <tr>\n",
       "      <th>0</th>\n",
       "      <td>Less than 10 minutes</td>\n",
       "      <td>Female</td>\n",
       "      <td>43.102670</td>\n",
       "    </tr>\n",
       "    <tr>\n",
       "      <th>1</th>\n",
       "      <td>Less than 10 minutes</td>\n",
       "      <td>Male</td>\n",
       "      <td>43.864719</td>\n",
       "    </tr>\n",
       "    <tr>\n",
       "      <th>2</th>\n",
       "      <td>More than 10 minutes</td>\n",
       "      <td>Female</td>\n",
       "      <td>12.498413</td>\n",
       "    </tr>\n",
       "    <tr>\n",
       "      <th>3</th>\n",
       "      <td>More than 10 minutes</td>\n",
       "      <td>Male</td>\n",
       "      <td>11.125253</td>\n",
       "    </tr>\n",
       "  </tbody>\n",
       "</table>\n",
       "</div>"
      ],
      "text/plain": [
       "               distance  gender       mean\n",
       "0  Less than 10 minutes  Female  43.102670\n",
       "1  Less than 10 minutes    Male  43.864719\n",
       "2  More than 10 minutes  Female  12.498413\n",
       "3  More than 10 minutes    Male  11.125253"
      ]
     },
     "execution_count": 11,
     "metadata": {},
     "output_type": "execute_result"
    }
   ],
   "source": [
    "gender_grouped = gender_df.groupby(['distance','gender']).value.agg('mean').reset_index(name = 'mean')\n",
    "gender_grouped"
   ]
  },
  {
   "cell_type": "code",
   "execution_count": 45,
   "id": "c2fa0510-ee45-4c3c-8d85-76940f226d3f",
   "metadata": {},
   "outputs": [
    {
     "data": {
      "text/plain": [
       "<matplotlib.legend.Legend at 0x7fe92d5fef70>"
      ]
     },
     "execution_count": 45,
     "metadata": {},
     "output_type": "execute_result"
    },
    {
     "data": {
      "image/png": "[encoded data removed]",
      "text/plain": [
       "<Figure size 864x576 with 1 Axes>"
      ]
     },
     "metadata": {
      "needs_background": "light"
     },
     "output_type": "display_data"
    }
   ],
   "source": [
    "plt.figure(figsize=(12,8)) \n",
    "ax = sns.barplot(x='gender', y='mean', hue='distance', data=gender_grouped)\n",
    "for container in ax.containers:\n",
    "    ax.bar_label(container)\n",
    "plt.xlabel('Gender', fontsize=14)\n",
    "plt.ylabel('Mean', fontsize=14)\n",
    "plt.title('Access to green space split by genders', fontsize = 16)\n",
    "ax.legend(loc='center left', bbox_to_anchor=(1, 0.5))"
   ]
  },
  {
   "cell_type": "markdown",
   "id": "44d01a25-22af-4fa9-9d04-e9dee8316a69",
   "metadata": {},
   "source": [
    "#### similar"
   ]
  },
  {
   "cell_type": "markdown",
   "id": "929901b7-e993-441d-a4ec-4dc9e49a4242",
   "metadata": {},
   "source": [
    "### Ethnicity"
   ]
  },
  {
   "cell_type": "code",
   "execution_count": 14,
   "id": "b12c3b80-3517-45b0-9b82-bb7892cc603e",
   "metadata": {},
   "outputs": [],
   "source": [
    "ethnicity_df =green[green.ethnicity != 'All'].copy()"
   ]
  },
  {
   "cell_type": "code",
   "execution_count": 15,
   "id": "fc96b35d-06ca-4502-b6bb-413ff6089aeb",
   "metadata": {},
   "outputs": [
    {
     "data": {
      "text/html": [
       "<div>\n",
       "<style scoped>\n",
       "    .dataframe tbody tr th:only-of-type {\n",
       "        vertical-align: middle;\n",
       "    }\n",
       "\n",
       "    .dataframe tbody tr th {\n",
       "        vertical-align: top;\n",
       "    }\n",
       "\n",
       "    .dataframe thead th {\n",
       "        text-align: right;\n",
       "    }\n",
       "</style>\n",
       "<table border=\"1\" class=\"dataframe\">\n",
       "  <thead>\n",
       "    <tr style=\"text-align: right;\">\n",
       "      <th></th>\n",
       "      <th>distance</th>\n",
       "      <th>ethnicity</th>\n",
       "      <th>mean</th>\n",
       "    </tr>\n",
       "  </thead>\n",
       "  <tbody>\n",
       "    <tr>\n",
       "      <th>0</th>\n",
       "      <td>Less than 10 minutes</td>\n",
       "      <td>Other</td>\n",
       "      <td>40.125926</td>\n",
       "    </tr>\n",
       "    <tr>\n",
       "      <th>1</th>\n",
       "      <td>Less than 10 minutes</td>\n",
       "      <td>White</td>\n",
       "      <td>43.573521</td>\n",
       "    </tr>\n",
       "    <tr>\n",
       "      <th>2</th>\n",
       "      <td>More than 10 minutes</td>\n",
       "      <td>Other</td>\n",
       "      <td>16.922222</td>\n",
       "    </tr>\n",
       "    <tr>\n",
       "      <th>3</th>\n",
       "      <td>More than 10 minutes</td>\n",
       "      <td>White</td>\n",
       "      <td>11.675180</td>\n",
       "    </tr>\n",
       "  </tbody>\n",
       "</table>\n",
       "</div>"
      ],
      "text/plain": [
       "               distance ethnicity       mean\n",
       "0  Less than 10 minutes     Other  40.125926\n",
       "1  Less than 10 minutes     White  43.573521\n",
       "2  More than 10 minutes     Other  16.922222\n",
       "3  More than 10 minutes     White  11.675180"
      ]
     },
     "execution_count": 15,
     "metadata": {},
     "output_type": "execute_result"
    }
   ],
   "source": [
    "ethnicity_grouped = ethnicity_df.groupby(['distance','ethnicity']).value.agg('mean').reset_index(name = 'mean')\n",
    "ethnicity_grouped"
   ]
  },
  {
   "cell_type": "code",
   "execution_count": 43,
   "id": "6caf72a7-2c7c-41a3-b5a2-99207059f8af",
   "metadata": {},
   "outputs": [
    {
     "data": {
      "text/plain": [
       "<matplotlib.legend.Legend at 0x7fe92d1a52e0>"
      ]
     },
     "execution_count": 43,
     "metadata": {},
     "output_type": "execute_result"
    },
    {
     "data": {
      "image/png": "[encoded data removed]",
      "text/plain": [
       "<Figure size 864x576 with 1 Axes>"
      ]
     },
     "metadata": {
      "needs_background": "light"
     },
     "output_type": "display_data"
    }
   ],
   "source": [
    "plt.figure(figsize=(12,8)) \n",
    "ax = sns.barplot(x='ethnicity', y='mean', hue='distance', data=ethnicity_grouped)\n",
    "for container in ax.containers:\n",
    "    ax.bar_label(container)\n",
    "plt.xlabel('Ethnicity', fontsize=14)\n",
    "plt.ylabel('Mean(%)', fontsize=14)\n",
    "plt.title('Access to green space split by Ethnicity', fontsize = 16)\n",
    "ax.legend(loc='center left', bbox_to_anchor=(1, 0.5))"
   ]
  },
  {
   "cell_type": "markdown",
   "id": "fce68c77-e9c2-4829-a962-596c88e30290",
   "metadata": {},
   "source": [
    "### Ethnicity ...same \n",
    "same same same ...."
   ]
  },
  {
   "cell_type": "markdown",
   "id": "00935310-8add-4759-a474-3c93d2cd6a5a",
   "metadata": {},
   "source": [
    "#### So at this point I failed m plan, I will look into more groups\n",
    "I will try all the rest of the columns apart from the ones that are mentiosned in other questions \n"
   ]
  },
  {
   "cell_type": "code",
   "execution_count": 17,
   "id": "69a3c973-e94e-4e4c-9e8b-3712778506e9",
   "metadata": {},
   "outputs": [
    {
     "data": {
      "text/plain": [
       "Index(['datecode', 'value', 'distance', 'age', 'gender',\n",
       "       'urban_rural_classification', 'simd_quintiles', 'type_of_tenure',\n",
       "       'household_type', 'ethnicity', 'neighbourhood_rating',\n",
       "       'community_belonging'],\n",
       "      dtype='object')"
      ]
     },
     "execution_count": 17,
     "metadata": {},
     "output_type": "execute_result"
    }
   ],
   "source": [
    "green.columns"
   ]
  },
  {
   "cell_type": "code",
   "execution_count": 18,
   "id": "edc59f1e-dc26-4170-b67e-7596520b9af5",
   "metadata": {},
   "outputs": [
    {
     "data": {
      "text/plain": [
       "array(['All', '80% least deprived', '20% most deprived'], dtype=object)"
      ]
     },
     "execution_count": 18,
     "metadata": {},
     "output_type": "execute_result"
    }
   ],
   "source": [
    "green.simd_quintiles.unique()"
   ]
  },
  {
   "cell_type": "code",
   "execution_count": 19,
   "id": "95e1166b-8fd5-4add-b630-56372d4dd389",
   "metadata": {},
   "outputs": [
    {
     "data": {
      "text/plain": [
       "array(['All', 'Pensioners', 'Adults', 'With Children'], dtype=object)"
      ]
     },
     "execution_count": 19,
     "metadata": {},
     "output_type": "execute_result"
    }
   ],
   "source": [
    "green.household_type.unique()"
   ]
  },
  {
   "cell_type": "code",
   "execution_count": 20,
   "id": "4e98732d-c82b-42fa-98ea-229c20064cd7",
   "metadata": {},
   "outputs": [
    {
     "data": {
      "text/plain": [
       "array(['All', 'Owned Mortgage/Loan', 'Owned Outright', 'Social Rented',\n",
       "       'Private Rented', 'Other'], dtype=object)"
      ]
     },
     "execution_count": 20,
     "metadata": {},
     "output_type": "execute_result"
    }
   ],
   "source": [
    "green.type_of_tenure.unique()"
   ]
  },
  {
   "cell_type": "markdown",
   "id": "5d9995fd-7564-4bfa-87c1-fcd33becfdba",
   "metadata": {},
   "source": [
    "#### SIMD "
   ]
  },
  {
   "cell_type": "code",
   "execution_count": 21,
   "id": "2683bf06-9124-4b97-8d99-d5e067493141",
   "metadata": {},
   "outputs": [
    {
     "data": {
      "text/html": [
       "<div>\n",
       "<style scoped>\n",
       "    .dataframe tbody tr th:only-of-type {\n",
       "        vertical-align: middle;\n",
       "    }\n",
       "\n",
       "    .dataframe tbody tr th {\n",
       "        vertical-align: top;\n",
       "    }\n",
       "\n",
       "    .dataframe thead th {\n",
       "        text-align: right;\n",
       "    }\n",
       "</style>\n",
       "<table border=\"1\" class=\"dataframe\">\n",
       "  <thead>\n",
       "    <tr style=\"text-align: right;\">\n",
       "      <th></th>\n",
       "      <th>distance</th>\n",
       "      <th>simd_quintiles</th>\n",
       "      <th>mean</th>\n",
       "    </tr>\n",
       "  </thead>\n",
       "  <tbody>\n",
       "    <tr>\n",
       "      <th>0</th>\n",
       "      <td>Less than 10 minutes</td>\n",
       "      <td>20% most deprived</td>\n",
       "      <td>41.798732</td>\n",
       "    </tr>\n",
       "    <tr>\n",
       "      <th>1</th>\n",
       "      <td>Less than 10 minutes</td>\n",
       "      <td>80% least deprived</td>\n",
       "      <td>43.610317</td>\n",
       "    </tr>\n",
       "    <tr>\n",
       "      <th>2</th>\n",
       "      <td>More than 10 minutes</td>\n",
       "      <td>20% most deprived</td>\n",
       "      <td>14.542029</td>\n",
       "    </tr>\n",
       "    <tr>\n",
       "      <th>3</th>\n",
       "      <td>More than 10 minutes</td>\n",
       "      <td>80% least deprived</td>\n",
       "      <td>11.612121</td>\n",
       "    </tr>\n",
       "  </tbody>\n",
       "</table>\n",
       "</div>"
      ],
      "text/plain": [
       "               distance      simd_quintiles       mean\n",
       "0  Less than 10 minutes   20% most deprived  41.798732\n",
       "1  Less than 10 minutes  80% least deprived  43.610317\n",
       "2  More than 10 minutes   20% most deprived  14.542029\n",
       "3  More than 10 minutes  80% least deprived  11.612121"
      ]
     },
     "execution_count": 21,
     "metadata": {},
     "output_type": "execute_result"
    }
   ],
   "source": [
    "simd_df =green[green.simd_quintiles != 'All'].copy()\n",
    "simd_grouped = simd_df.groupby(['distance','simd_quintiles']).value.agg('mean').reset_index(name = 'mean')\n",
    "simd_grouped"
   ]
  },
  {
   "cell_type": "code",
   "execution_count": 42,
   "id": "80b23c0e-624a-45fc-ae50-3a424c383ae1",
   "metadata": {},
   "outputs": [
    {
     "data": {
      "text/plain": [
       "<matplotlib.legend.Legend at 0x7fe92cf9e250>"
      ]
     },
     "execution_count": 42,
     "metadata": {},
     "output_type": "execute_result"
    },
    {
     "data": {
      "image/png": "[encoded data removed]",
      "text/plain": [
       "<Figure size 864x576 with 1 Axes>"
      ]
     },
     "metadata": {
      "needs_background": "light"
     },
     "output_type": "display_data"
    }
   ],
   "source": [
    "plt.figure(figsize=(12,8)) \n",
    "ax = sns.barplot(x='simd_quintiles', y='mean', hue='distance', data=simd_grouped)\n",
    "for container in ax.containers:\n",
    "    ax.bar_label(container)\n",
    "plt.xlabel('SIMD', fontsize=14)\n",
    "plt.ylabel('Mean(%)', fontsize=14)\n",
    "plt.title('Access to green space split by SIMD', fontsize = 16)\n",
    "ax.legend(loc='center left', bbox_to_anchor=(1, 0.5))"
   ]
  },
  {
   "cell_type": "markdown",
   "id": "ab42e7e8-7cab-48a3-b4ab-af6ad4b4870f",
   "metadata": {},
   "source": [
    "#### house type "
   ]
  },
  {
   "cell_type": "code",
   "execution_count": 23,
   "id": "55f8e65a-f0ef-44d2-9b04-eb8e1e59cdcd",
   "metadata": {},
   "outputs": [
    {
     "data": {
      "text/html": [
       "<div>\n",
       "<style scoped>\n",
       "    .dataframe tbody tr th:only-of-type {\n",
       "        vertical-align: middle;\n",
       "    }\n",
       "\n",
       "    .dataframe tbody tr th {\n",
       "        vertical-align: top;\n",
       "    }\n",
       "\n",
       "    .dataframe thead th {\n",
       "        text-align: right;\n",
       "    }\n",
       "</style>\n",
       "<table border=\"1\" class=\"dataframe\">\n",
       "  <thead>\n",
       "    <tr style=\"text-align: right;\">\n",
       "      <th></th>\n",
       "      <th>distance</th>\n",
       "      <th>household_type</th>\n",
       "      <th>mean</th>\n",
       "    </tr>\n",
       "  </thead>\n",
       "  <tbody>\n",
       "    <tr>\n",
       "      <th>0</th>\n",
       "      <td>Less than 10 minutes</td>\n",
       "      <td>Adults</td>\n",
       "      <td>43.937013</td>\n",
       "    </tr>\n",
       "    <tr>\n",
       "      <th>1</th>\n",
       "      <td>Less than 10 minutes</td>\n",
       "      <td>Pensioners</td>\n",
       "      <td>41.460245</td>\n",
       "    </tr>\n",
       "    <tr>\n",
       "      <th>2</th>\n",
       "      <td>Less than 10 minutes</td>\n",
       "      <td>With Children</td>\n",
       "      <td>44.320190</td>\n",
       "    </tr>\n",
       "    <tr>\n",
       "      <th>3</th>\n",
       "      <td>More than 10 minutes</td>\n",
       "      <td>Adults</td>\n",
       "      <td>10.989710</td>\n",
       "    </tr>\n",
       "    <tr>\n",
       "      <th>4</th>\n",
       "      <td>More than 10 minutes</td>\n",
       "      <td>Pensioners</td>\n",
       "      <td>15.099567</td>\n",
       "    </tr>\n",
       "    <tr>\n",
       "      <th>5</th>\n",
       "      <td>More than 10 minutes</td>\n",
       "      <td>With Children</td>\n",
       "      <td>11.107364</td>\n",
       "    </tr>\n",
       "  </tbody>\n",
       "</table>\n",
       "</div>"
      ],
      "text/plain": [
       "               distance household_type       mean\n",
       "0  Less than 10 minutes         Adults  43.937013\n",
       "1  Less than 10 minutes     Pensioners  41.460245\n",
       "2  Less than 10 minutes  With Children  44.320190\n",
       "3  More than 10 minutes         Adults  10.989710\n",
       "4  More than 10 minutes     Pensioners  15.099567\n",
       "5  More than 10 minutes  With Children  11.107364"
      ]
     },
     "execution_count": 23,
     "metadata": {},
     "output_type": "execute_result"
    }
   ],
   "source": [
    "house_df =green[green.household_type != 'All'].copy()\n",
    "house_grouped = house_df.groupby(['distance','household_type']).value.agg('mean').reset_index(name = 'mean')\n",
    "house_grouped"
   ]
  },
  {
   "cell_type": "code",
   "execution_count": 41,
   "id": "a5e59b75-a37f-4607-9a8d-3295c662f3fd",
   "metadata": {},
   "outputs": [
    {
     "data": {
      "text/plain": [
       "<matplotlib.legend.Legend at 0x7fe92c959400>"
      ]
     },
     "execution_count": 41,
     "metadata": {},
     "output_type": "execute_result"
    },
    {
     "data": {
      "image/png": "[encoded data removed]",
      "text/plain": [
       "<Figure size 864x576 with 1 Axes>"
      ]
     },
     "metadata": {
      "needs_background": "light"
     },
     "output_type": "display_data"
    }
   ],
   "source": [
    "plt.figure(figsize=(12,8)) \n",
    "ax = sns.barplot(x='household_type', y='mean', hue='distance', data=house_grouped)\n",
    "for container in ax.containers:\n",
    "    ax.bar_label(container)\n",
    "plt.xlabel('House Type', fontsize=14)\n",
    "plt.ylabel('Mean(%)', fontsize=14)\n",
    "plt.title('Access to green space split by House Types', fontsize = 16)\n",
    "ax.legend(loc='center left', bbox_to_anchor=(1, 0.5))"
   ]
  },
  {
   "cell_type": "markdown",
   "id": "8da8686e-55dc-4e95-a5a7-1bbb2c74564d",
   "metadata": {},
   "source": [
    "#### type_of_tenure"
   ]
  },
  {
   "cell_type": "code",
   "execution_count": 25,
   "id": "43a9b178-4543-4711-9037-e29710671df9",
   "metadata": {},
   "outputs": [
    {
     "data": {
      "text/html": [
       "<div>\n",
       "<style scoped>\n",
       "    .dataframe tbody tr th:only-of-type {\n",
       "        vertical-align: middle;\n",
       "    }\n",
       "\n",
       "    .dataframe tbody tr th {\n",
       "        vertical-align: top;\n",
       "    }\n",
       "\n",
       "    .dataframe thead th {\n",
       "        text-align: right;\n",
       "    }\n",
       "</style>\n",
       "<table border=\"1\" class=\"dataframe\">\n",
       "  <thead>\n",
       "    <tr style=\"text-align: right;\">\n",
       "      <th></th>\n",
       "      <th>distance</th>\n",
       "      <th>type_of_tenure</th>\n",
       "      <th>mean</th>\n",
       "    </tr>\n",
       "  </thead>\n",
       "  <tbody>\n",
       "    <tr>\n",
       "      <th>0</th>\n",
       "      <td>Less than 10 minutes</td>\n",
       "      <td>Other</td>\n",
       "      <td>40.354762</td>\n",
       "    </tr>\n",
       "    <tr>\n",
       "      <th>1</th>\n",
       "      <td>Less than 10 minutes</td>\n",
       "      <td>Owned Mortgage/Loan</td>\n",
       "      <td>44.506016</td>\n",
       "    </tr>\n",
       "    <tr>\n",
       "      <th>2</th>\n",
       "      <td>Less than 10 minutes</td>\n",
       "      <td>Owned Outright</td>\n",
       "      <td>42.888384</td>\n",
       "    </tr>\n",
       "    <tr>\n",
       "      <th>3</th>\n",
       "      <td>Less than 10 minutes</td>\n",
       "      <td>Private Rented</td>\n",
       "      <td>42.272523</td>\n",
       "    </tr>\n",
       "    <tr>\n",
       "      <th>4</th>\n",
       "      <td>Less than 10 minutes</td>\n",
       "      <td>Social Rented</td>\n",
       "      <td>42.768763</td>\n",
       "    </tr>\n",
       "    <tr>\n",
       "      <th>5</th>\n",
       "      <td>More than 10 minutes</td>\n",
       "      <td>Other</td>\n",
       "      <td>16.585714</td>\n",
       "    </tr>\n",
       "    <tr>\n",
       "      <th>6</th>\n",
       "      <td>More than 10 minutes</td>\n",
       "      <td>Owned Mortgage/Loan</td>\n",
       "      <td>10.561928</td>\n",
       "    </tr>\n",
       "    <tr>\n",
       "      <th>7</th>\n",
       "      <td>More than 10 minutes</td>\n",
       "      <td>Owned Outright</td>\n",
       "      <td>13.182828</td>\n",
       "    </tr>\n",
       "    <tr>\n",
       "      <th>8</th>\n",
       "      <td>More than 10 minutes</td>\n",
       "      <td>Private Rented</td>\n",
       "      <td>13.690090</td>\n",
       "    </tr>\n",
       "    <tr>\n",
       "      <th>9</th>\n",
       "      <td>More than 10 minutes</td>\n",
       "      <td>Social Rented</td>\n",
       "      <td>12.556751</td>\n",
       "    </tr>\n",
       "  </tbody>\n",
       "</table>\n",
       "</div>"
      ],
      "text/plain": [
       "               distance       type_of_tenure       mean\n",
       "0  Less than 10 minutes                Other  40.354762\n",
       "1  Less than 10 minutes  Owned Mortgage/Loan  44.506016\n",
       "2  Less than 10 minutes       Owned Outright  42.888384\n",
       "3  Less than 10 minutes       Private Rented  42.272523\n",
       "4  Less than 10 minutes        Social Rented  42.768763\n",
       "5  More than 10 minutes                Other  16.585714\n",
       "6  More than 10 minutes  Owned Mortgage/Loan  10.561928\n",
       "7  More than 10 minutes       Owned Outright  13.182828\n",
       "8  More than 10 minutes       Private Rented  13.690090\n",
       "9  More than 10 minutes        Social Rented  12.556751"
      ]
     },
     "execution_count": 25,
     "metadata": {},
     "output_type": "execute_result"
    }
   ],
   "source": [
    "tenure_df =green[green.type_of_tenure != 'All'].copy()\n",
    "tenure_grouped = tenure_df.groupby(['distance','type_of_tenure']).value.agg('mean').reset_index(name = 'mean')\n",
    "tenure_grouped"
   ]
  },
  {
   "cell_type": "code",
   "execution_count": 47,
   "id": "0e3885ec-51d6-4f54-801c-17be798f9dd1",
   "metadata": {},
   "outputs": [
    {
     "data": {
      "text/plain": [
       "<matplotlib.legend.Legend at 0x7fe926425130>"
      ]
     },
     "execution_count": 47,
     "metadata": {},
     "output_type": "execute_result"
    },
    {
     "data": {
      "image/png": "[encoded data removed]",
      "text/plain": [
       "<Figure size 864x576 with 1 Axes>"
      ]
     },
     "metadata": {
      "needs_background": "light"
     },
     "output_type": "display_data"
    }
   ],
   "source": [
    "plt.figure(figsize=(12,8)) \n",
    "ax = sns.barplot(x='type_of_tenure', y='mean', hue='distance', data=tenure_grouped)\n",
    "for container in ax.containers:\n",
    "    ax.bar_label(container)\n",
    "plt.xlabel('Types of Tenures', fontsize=14)\n",
    "plt.ylabel('Mean(%)', fontsize=14)\n",
    "plt.title('Access to green space split by Tenure Types', fontsize = 16)\n",
    "ax.legend(loc='center left', bbox_to_anchor=(1, 0.5))"
   ]
  },
  {
   "cell_type": "markdown",
   "id": "ae5fe312-138c-4c15-86ce-6bfc3f3372df",
   "metadata": {},
   "source": [
    "### Are there any differences between rural and urban areas?\n"
   ]
  },
  {
   "cell_type": "code",
   "execution_count": 49,
   "id": "70e7a9f0-8d78-4471-9407-f2367b37a0f8",
   "metadata": {},
   "outputs": [
    {
     "data": {
      "text/html": [
       "<div>\n",
       "<style scoped>\n",
       "    .dataframe tbody tr th:only-of-type {\n",
       "        vertical-align: middle;\n",
       "    }\n",
       "\n",
       "    .dataframe tbody tr th {\n",
       "        vertical-align: top;\n",
       "    }\n",
       "\n",
       "    .dataframe thead th {\n",
       "        text-align: right;\n",
       "    }\n",
       "</style>\n",
       "<table border=\"1\" class=\"dataframe\">\n",
       "  <thead>\n",
       "    <tr style=\"text-align: right;\">\n",
       "      <th></th>\n",
       "      <th>distance</th>\n",
       "      <th>urban_rural_classification</th>\n",
       "      <th>mean</th>\n",
       "    </tr>\n",
       "  </thead>\n",
       "  <tbody>\n",
       "    <tr>\n",
       "      <th>0</th>\n",
       "      <td>Less than 10 minutes</td>\n",
       "      <td>Rural</td>\n",
       "      <td>43.965948</td>\n",
       "    </tr>\n",
       "    <tr>\n",
       "      <th>1</th>\n",
       "      <td>Less than 10 minutes</td>\n",
       "      <td>Urban</td>\n",
       "      <td>43.744300</td>\n",
       "    </tr>\n",
       "    <tr>\n",
       "      <th>2</th>\n",
       "      <td>More than 10 minutes</td>\n",
       "      <td>Rural</td>\n",
       "      <td>11.332749</td>\n",
       "    </tr>\n",
       "    <tr>\n",
       "      <th>3</th>\n",
       "      <td>More than 10 minutes</td>\n",
       "      <td>Urban</td>\n",
       "      <td>11.285137</td>\n",
       "    </tr>\n",
       "  </tbody>\n",
       "</table>\n",
       "</div>"
      ],
      "text/plain": [
       "               distance urban_rural_classification       mean\n",
       "0  Less than 10 minutes                      Rural  43.965948\n",
       "1  Less than 10 minutes                      Urban  43.744300\n",
       "2  More than 10 minutes                      Rural  11.332749\n",
       "3  More than 10 minutes                      Urban  11.285137"
      ]
     },
     "execution_count": 49,
     "metadata": {},
     "output_type": "execute_result"
    }
   ],
   "source": [
    "ur_df =green[green.urban_rural_classification != 'All'].copy()\n",
    "ur_grouped = ur_df.groupby(['distance','urban_rural_classification']).value.agg('mean').reset_index(name = 'mean')\n",
    "ur_grouped"
   ]
  },
  {
   "cell_type": "code",
   "execution_count": 50,
   "id": "35e5b998-1ea5-41f6-a1cb-0a240093dc24",
   "metadata": {},
   "outputs": [
    {
     "data": {
      "text/plain": [
       "<matplotlib.legend.Legend at 0x7fe9100db070>"
      ]
     },
     "execution_count": 50,
     "metadata": {},
     "output_type": "execute_result"
    },
    {
     "data": {
      "image/png": "[encoded data removed]",
      "text/plain": [
       "<Figure size 864x576 with 1 Axes>"
      ]
     },
     "metadata": {
      "needs_background": "light"
     },
     "output_type": "display_data"
    }
   ],
   "source": [
    "plt.figure(figsize=(12,8)) \n",
    "ax = sns.barplot(x='urban_rural_classification', y='mean', hue='distance', data=ur_grouped)\n",
    "for container in ax.containers:\n",
    "    ax.bar_label(container)\n",
    "plt.xlabel('Urban Rural Classifications', fontsize=14)\n",
    "plt.ylabel('Mean(%)', fontsize=14)\n",
    "plt.title('Access to green space split by Urban Rural Classifications', fontsize = 16)\n",
    "ax.legend(loc='center left', bbox_to_anchor=(1, 0.5))"
   ]
  },
  {
   "cell_type": "code",
   "execution_count": 167,
   "id": "44f57bf6-283e-48b0-b3ec-75a75cb0ce6b",
   "metadata": {},
   "outputs": [],
   "source": [
    "mask_r = (ur_df.urban_rural_classification=='Rural') & (ur_df.distance == 'Less than 10 minutes')\n",
    "r_data = ur_df[mask_r].value\n",
    "mask_u = (ur_df.urban_rural_classification=='Urban') & (ur_df.distance == 'Less than 10 minutes')\n",
    "u_data = ur_df[mask_u].value"
   ]
  },
  {
   "cell_type": "code",
   "execution_count": 168,
   "id": "693e528f-c7cb-4a55-bf93-0cadf383acef",
   "metadata": {},
   "outputs": [
    {
     "data": {
      "text/html": [
       "<div>\n",
       "<style scoped>\n",
       "    .dataframe tbody tr th:only-of-type {\n",
       "        vertical-align: middle;\n",
       "    }\n",
       "\n",
       "    .dataframe tbody tr th {\n",
       "        vertical-align: top;\n",
       "    }\n",
       "\n",
       "    .dataframe thead th {\n",
       "        text-align: right;\n",
       "    }\n",
       "</style>\n",
       "<table border=\"1\" class=\"dataframe\">\n",
       "  <thead>\n",
       "    <tr style=\"text-align: right;\">\n",
       "      <th></th>\n",
       "      <th>mean_r</th>\n",
       "      <th>mean_u</th>\n",
       "    </tr>\n",
       "  </thead>\n",
       "  <tbody>\n",
       "    <tr>\n",
       "      <th>0</th>\n",
       "      <td>45.4656</td>\n",
       "      <td>43.3488</td>\n",
       "    </tr>\n",
       "    <tr>\n",
       "      <th>1</th>\n",
       "      <td>43.6380</td>\n",
       "      <td>45.2264</td>\n",
       "    </tr>\n",
       "    <tr>\n",
       "      <th>2</th>\n",
       "      <td>44.6466</td>\n",
       "      <td>42.9100</td>\n",
       "    </tr>\n",
       "    <tr>\n",
       "      <th>3</th>\n",
       "      <td>43.7606</td>\n",
       "      <td>43.6066</td>\n",
       "    </tr>\n",
       "    <tr>\n",
       "      <th>4</th>\n",
       "      <td>43.4326</td>\n",
       "      <td>42.8658</td>\n",
       "    </tr>\n",
       "    <tr>\n",
       "      <th>...</th>\n",
       "      <td>...</td>\n",
       "      <td>...</td>\n",
       "    </tr>\n",
       "    <tr>\n",
       "      <th>995</th>\n",
       "      <td>45.1462</td>\n",
       "      <td>43.9990</td>\n",
       "    </tr>\n",
       "    <tr>\n",
       "      <th>996</th>\n",
       "      <td>42.3952</td>\n",
       "      <td>45.0828</td>\n",
       "    </tr>\n",
       "    <tr>\n",
       "      <th>997</th>\n",
       "      <td>45.2322</td>\n",
       "      <td>42.3836</td>\n",
       "    </tr>\n",
       "    <tr>\n",
       "      <th>998</th>\n",
       "      <td>44.9042</td>\n",
       "      <td>44.3348</td>\n",
       "    </tr>\n",
       "    <tr>\n",
       "      <th>999</th>\n",
       "      <td>41.8308</td>\n",
       "      <td>45.6104</td>\n",
       "    </tr>\n",
       "  </tbody>\n",
       "</table>\n",
       "<p>1000 rows × 2 columns</p>\n",
       "</div>"
      ],
      "text/plain": [
       "      mean_r   mean_u\n",
       "0    45.4656  43.3488\n",
       "1    43.6380  45.2264\n",
       "2    44.6466  42.9100\n",
       "3    43.7606  43.6066\n",
       "4    43.4326  42.8658\n",
       "..       ...      ...\n",
       "995  45.1462  43.9990\n",
       "996  42.3952  45.0828\n",
       "997  45.2322  42.3836\n",
       "998  44.9042  44.3348\n",
       "999  41.8308  45.6104\n",
       "\n",
       "[1000 rows x 2 columns]"
      ]
     },
     "execution_count": 168,
     "metadata": {},
     "output_type": "execute_result"
    }
   ],
   "source": [
    "bootstrap=pd.DataFrame({'mean_r':[r_data.sample(500,replace=True).mean() for i in range(0,1000)],\n",
    "                       'mean_u':[u_data.sample(500,replace=True).mean() for i in range(0,1000)],})\n",
    " \n",
    "bootstrap"
   ]
  },
  {
   "cell_type": "code",
   "execution_count": 172,
   "id": "0e406979-4a79-4ccc-bcce-97977755c44f",
   "metadata": {},
   "outputs": [
    {
     "name": "stdout",
     "output_type": "stream",
     "text": [
      "MannwhitneyuResult(statistic=550557.5, pvalue=9.034812254414914e-05)\n"
     ]
    }
   ],
   "source": [
    "#H0:urban and rural area have same access to green spcae \n",
    "#H1:Urban and rural area have different access to green space \n",
    "from scipy.stats import mannwhitneyu\n",
    "\n",
    "p = mannwhitneyu(bootstrap['mean_r'],bootstrap['mean_u'])\n",
    "print(p)\n",
    "# P << 0.001\n",
    "#reject H0\n",
    "#different "
   ]
  },
  {
   "cell_type": "markdown",
   "id": "b4ecdf69-4097-4150-a69a-9fd1a6dadfcb",
   "metadata": {},
   "source": [
    "#### How do people in neighbourhoods with good access to green space differ from those who have no good access? \n",
    "\n",
    "#### Are there differences in how they rate their neighbourhoods? \n",
    "\n",
    "#### Are there differences in how they rate their communities?"
   ]
  },
  {
   "cell_type": "code",
   "execution_count": 51,
   "id": "5ece6e70-d8a8-4338-b236-342327ceb6ec",
   "metadata": {},
   "outputs": [
    {
     "data": {
      "text/html": [
       "<div>\n",
       "<style scoped>\n",
       "    .dataframe tbody tr th:only-of-type {\n",
       "        vertical-align: middle;\n",
       "    }\n",
       "\n",
       "    .dataframe tbody tr th {\n",
       "        vertical-align: top;\n",
       "    }\n",
       "\n",
       "    .dataframe thead th {\n",
       "        text-align: right;\n",
       "    }\n",
       "</style>\n",
       "<table border=\"1\" class=\"dataframe\">\n",
       "  <thead>\n",
       "    <tr style=\"text-align: right;\">\n",
       "      <th></th>\n",
       "      <th>datecode</th>\n",
       "      <th>value</th>\n",
       "      <th>distance</th>\n",
       "      <th>age</th>\n",
       "      <th>gender</th>\n",
       "      <th>urban_rural_classification</th>\n",
       "      <th>simd_quintiles</th>\n",
       "      <th>type_of_tenure</th>\n",
       "      <th>household_type</th>\n",
       "      <th>ethnicity</th>\n",
       "      <th>neighbourhood_rating</th>\n",
       "      <th>community_belonging</th>\n",
       "    </tr>\n",
       "  </thead>\n",
       "  <tbody>\n",
       "    <tr>\n",
       "      <th>0</th>\n",
       "      <td>2015</td>\n",
       "      <td>14.1</td>\n",
       "      <td>Less than 10 minutes</td>\n",
       "      <td>All</td>\n",
       "      <td>Male</td>\n",
       "      <td>All</td>\n",
       "      <td>All</td>\n",
       "      <td>All</td>\n",
       "      <td>All</td>\n",
       "      <td>All</td>\n",
       "      <td>NaN</td>\n",
       "      <td>NaN</td>\n",
       "    </tr>\n",
       "    <tr>\n",
       "      <th>1</th>\n",
       "      <td>2015</td>\n",
       "      <td>14.4</td>\n",
       "      <td>Less than 10 minutes</td>\n",
       "      <td>All</td>\n",
       "      <td>All</td>\n",
       "      <td>All</td>\n",
       "      <td>All</td>\n",
       "      <td>All</td>\n",
       "      <td>Pensioners</td>\n",
       "      <td>All</td>\n",
       "      <td>NaN</td>\n",
       "      <td>NaN</td>\n",
       "    </tr>\n",
       "    <tr>\n",
       "      <th>2</th>\n",
       "      <td>2017</td>\n",
       "      <td>40.1</td>\n",
       "      <td>Less than 10 minutes</td>\n",
       "      <td>65 years and over</td>\n",
       "      <td>All</td>\n",
       "      <td>All</td>\n",
       "      <td>All</td>\n",
       "      <td>All</td>\n",
       "      <td>All</td>\n",
       "      <td>All</td>\n",
       "      <td>NaN</td>\n",
       "      <td>NaN</td>\n",
       "    </tr>\n",
       "    <tr>\n",
       "      <th>3</th>\n",
       "      <td>2016</td>\n",
       "      <td>3.1</td>\n",
       "      <td>Less than 10 minutes</td>\n",
       "      <td>All</td>\n",
       "      <td>All</td>\n",
       "      <td>All</td>\n",
       "      <td>All</td>\n",
       "      <td>All</td>\n",
       "      <td>Adults</td>\n",
       "      <td>All</td>\n",
       "      <td>NaN</td>\n",
       "      <td>NaN</td>\n",
       "    </tr>\n",
       "    <tr>\n",
       "      <th>4</th>\n",
       "      <td>2015</td>\n",
       "      <td>14.3</td>\n",
       "      <td>Less than 10 minutes</td>\n",
       "      <td>All</td>\n",
       "      <td>All</td>\n",
       "      <td>All</td>\n",
       "      <td>All</td>\n",
       "      <td>Owned Mortgage/Loan</td>\n",
       "      <td>All</td>\n",
       "      <td>All</td>\n",
       "      <td>NaN</td>\n",
       "      <td>NaN</td>\n",
       "    </tr>\n",
       "  </tbody>\n",
       "</table>\n",
       "</div>"
      ],
      "text/plain": [
       "   datecode  value              distance                age gender  \\\n",
       "0      2015   14.1  Less than 10 minutes                All   Male   \n",
       "1      2015   14.4  Less than 10 minutes                All    All   \n",
       "2      2017   40.1  Less than 10 minutes  65 years and over    All   \n",
       "3      2016    3.1  Less than 10 minutes                All    All   \n",
       "4      2015   14.3  Less than 10 minutes                All    All   \n",
       "\n",
       "  urban_rural_classification simd_quintiles       type_of_tenure  \\\n",
       "0                        All            All                  All   \n",
       "1                        All            All                  All   \n",
       "2                        All            All                  All   \n",
       "3                        All            All                  All   \n",
       "4                        All            All  Owned Mortgage/Loan   \n",
       "\n",
       "  household_type ethnicity neighbourhood_rating community_belonging  \n",
       "0            All       All                  NaN                 NaN  \n",
       "1     Pensioners       All                  NaN                 NaN  \n",
       "2            All       All                  NaN                 NaN  \n",
       "3         Adults       All                  NaN                 NaN  \n",
       "4            All       All                  NaN                 NaN  "
      ]
     },
     "execution_count": 51,
     "metadata": {},
     "output_type": "execute_result"
    }
   ],
   "source": [
    "green.head()"
   ]
  },
  {
   "cell_type": "code",
   "execution_count": 133,
   "id": "091a61e8-ec4e-4dcc-94e6-825f1885e394",
   "metadata": {},
   "outputs": [],
   "source": [
    "nbhood = green.dropna(subset = ['neighbourhood_rating'], axis = 0)"
   ]
  },
  {
   "cell_type": "code",
   "execution_count": 56,
   "id": "b5db500c-791e-498b-9d78-8c7b3b608175",
   "metadata": {},
   "outputs": [
    {
     "data": {
      "text/plain": [
       "array([nan, 'Fairly good', 'Very good', 'Very poor', 'No opinion',\n",
       "       'Fairly poor'], dtype=object)"
      ]
     },
     "execution_count": 56,
     "metadata": {},
     "output_type": "execute_result"
    }
   ],
   "source": [
    "green.neighbourhood_rating.unique()"
   ]
  },
  {
   "cell_type": "markdown",
   "id": "657532a7-dd54-4086-9f7c-a03b5347b1e9",
   "metadata": {},
   "source": [
    "keep in mind :\n",
    "value is the percentage of the group says that \n",
    "rating is not ordered \n",
    "I kind of what to create a scatter graph of that rating to other things "
   ]
  },
  {
   "cell_type": "code",
   "execution_count": 137,
   "id": "bd5c2966-0741-4051-8c6b-2bf1dcf48893",
   "metadata": {},
   "outputs": [
    {
     "name": "stderr",
     "output_type": "stream",
     "text": [
      "/var/folders/h4/vy1nwyvd5kz_n6950nl29pj80000gn/T/ipykernel_81490/2477744890.py:1: SettingWithCopyWarning: \n",
      "A value is trying to be set on a copy of a slice from a DataFrame\n",
      "\n",
      "See the caveats in the documentation: https://pandas.pydata.org/pandas-docs/stable/user_guide/indexing.html#returning-a-view-versus-a-copy\n",
      "  (nbhood['neighbourhood_rating'].replace({'Fairly good': 1,\n"
     ]
    }
   ],
   "source": [
    "(nbhood['neighbourhood_rating'].replace({'Fairly good': 1,\n",
    "                                         'Very good': 2,\n",
    "                                         'Very poor': -2,\n",
    "                                         'No opinion':0,\n",
    "                                         'Fairly poor': -1}, inplace = True)\n",
    ")"
   ]
  },
  {
   "cell_type": "code",
   "execution_count": 82,
   "id": "3598b1d1-79b4-4f1b-8718-9372c24032be",
   "metadata": {},
   "outputs": [
    {
     "data": {
      "text/html": [
       "<div>\n",
       "<style scoped>\n",
       "    .dataframe tbody tr th:only-of-type {\n",
       "        vertical-align: middle;\n",
       "    }\n",
       "\n",
       "    .dataframe tbody tr th {\n",
       "        vertical-align: top;\n",
       "    }\n",
       "\n",
       "    .dataframe thead th {\n",
       "        text-align: right;\n",
       "    }\n",
       "</style>\n",
       "<table border=\"1\" class=\"dataframe\">\n",
       "  <thead>\n",
       "    <tr style=\"text-align: right;\">\n",
       "      <th></th>\n",
       "      <th>datecode</th>\n",
       "      <th>value</th>\n",
       "      <th>distance</th>\n",
       "      <th>age</th>\n",
       "      <th>gender</th>\n",
       "      <th>urban_rural_classification</th>\n",
       "      <th>simd_quintiles</th>\n",
       "      <th>type_of_tenure</th>\n",
       "      <th>household_type</th>\n",
       "      <th>ethnicity</th>\n",
       "      <th>neighbourhood_rating</th>\n",
       "      <th>community_belonging</th>\n",
       "    </tr>\n",
       "  </thead>\n",
       "  <tbody>\n",
       "    <tr>\n",
       "      <th>31104</th>\n",
       "      <td>2017</td>\n",
       "      <td>24.8</td>\n",
       "      <td>More than 10 minutes</td>\n",
       "      <td>NaN</td>\n",
       "      <td>All</td>\n",
       "      <td>All</td>\n",
       "      <td>All</td>\n",
       "      <td>All</td>\n",
       "      <td>All</td>\n",
       "      <td>All</td>\n",
       "      <td>1</td>\n",
       "      <td>NaN</td>\n",
       "    </tr>\n",
       "    <tr>\n",
       "      <th>31105</th>\n",
       "      <td>2017</td>\n",
       "      <td>49.1</td>\n",
       "      <td>More than 10 minutes</td>\n",
       "      <td>NaN</td>\n",
       "      <td>All</td>\n",
       "      <td>All</td>\n",
       "      <td>All</td>\n",
       "      <td>All</td>\n",
       "      <td>All</td>\n",
       "      <td>All</td>\n",
       "      <td>1</td>\n",
       "      <td>NaN</td>\n",
       "    </tr>\n",
       "    <tr>\n",
       "      <th>31106</th>\n",
       "      <td>2019</td>\n",
       "      <td>57.0</td>\n",
       "      <td>More than 10 minutes</td>\n",
       "      <td>NaN</td>\n",
       "      <td>All</td>\n",
       "      <td>All</td>\n",
       "      <td>All</td>\n",
       "      <td>All</td>\n",
       "      <td>All</td>\n",
       "      <td>All</td>\n",
       "      <td>1</td>\n",
       "      <td>NaN</td>\n",
       "    </tr>\n",
       "    <tr>\n",
       "      <th>31107</th>\n",
       "      <td>2019</td>\n",
       "      <td>45.0</td>\n",
       "      <td>More than 10 minutes</td>\n",
       "      <td>NaN</td>\n",
       "      <td>All</td>\n",
       "      <td>All</td>\n",
       "      <td>All</td>\n",
       "      <td>All</td>\n",
       "      <td>All</td>\n",
       "      <td>All</td>\n",
       "      <td>1</td>\n",
       "      <td>NaN</td>\n",
       "    </tr>\n",
       "    <tr>\n",
       "      <th>31108</th>\n",
       "      <td>2016</td>\n",
       "      <td>56.2</td>\n",
       "      <td>More than 10 minutes</td>\n",
       "      <td>NaN</td>\n",
       "      <td>All</td>\n",
       "      <td>All</td>\n",
       "      <td>All</td>\n",
       "      <td>All</td>\n",
       "      <td>All</td>\n",
       "      <td>All</td>\n",
       "      <td>1</td>\n",
       "      <td>NaN</td>\n",
       "    </tr>\n",
       "    <tr>\n",
       "      <th>...</th>\n",
       "      <td>...</td>\n",
       "      <td>...</td>\n",
       "      <td>...</td>\n",
       "      <td>...</td>\n",
       "      <td>...</td>\n",
       "      <td>...</td>\n",
       "      <td>...</td>\n",
       "      <td>...</td>\n",
       "      <td>...</td>\n",
       "      <td>...</td>\n",
       "      <td>...</td>\n",
       "      <td>...</td>\n",
       "    </tr>\n",
       "    <tr>\n",
       "      <th>34798</th>\n",
       "      <td>2019</td>\n",
       "      <td>4.5</td>\n",
       "      <td>Less than 10 minutes</td>\n",
       "      <td>NaN</td>\n",
       "      <td>All</td>\n",
       "      <td>All</td>\n",
       "      <td>All</td>\n",
       "      <td>All</td>\n",
       "      <td>All</td>\n",
       "      <td>All</td>\n",
       "      <td>-1</td>\n",
       "      <td>NaN</td>\n",
       "    </tr>\n",
       "    <tr>\n",
       "      <th>34799</th>\n",
       "      <td>2019</td>\n",
       "      <td>0.0</td>\n",
       "      <td>Less than 10 minutes</td>\n",
       "      <td>NaN</td>\n",
       "      <td>All</td>\n",
       "      <td>All</td>\n",
       "      <td>All</td>\n",
       "      <td>All</td>\n",
       "      <td>All</td>\n",
       "      <td>All</td>\n",
       "      <td>-2</td>\n",
       "      <td>NaN</td>\n",
       "    </tr>\n",
       "    <tr>\n",
       "      <th>34800</th>\n",
       "      <td>2017</td>\n",
       "      <td>10.1</td>\n",
       "      <td>Less than 10 minutes</td>\n",
       "      <td>NaN</td>\n",
       "      <td>All</td>\n",
       "      <td>All</td>\n",
       "      <td>All</td>\n",
       "      <td>All</td>\n",
       "      <td>All</td>\n",
       "      <td>All</td>\n",
       "      <td>-1</td>\n",
       "      <td>NaN</td>\n",
       "    </tr>\n",
       "    <tr>\n",
       "      <th>34801</th>\n",
       "      <td>2013</td>\n",
       "      <td>4.9</td>\n",
       "      <td>Less than 10 minutes</td>\n",
       "      <td>NaN</td>\n",
       "      <td>All</td>\n",
       "      <td>All</td>\n",
       "      <td>All</td>\n",
       "      <td>All</td>\n",
       "      <td>All</td>\n",
       "      <td>All</td>\n",
       "      <td>-1</td>\n",
       "      <td>NaN</td>\n",
       "    </tr>\n",
       "    <tr>\n",
       "      <th>34802</th>\n",
       "      <td>2017</td>\n",
       "      <td>0.0</td>\n",
       "      <td>Less than 10 minutes</td>\n",
       "      <td>NaN</td>\n",
       "      <td>All</td>\n",
       "      <td>All</td>\n",
       "      <td>All</td>\n",
       "      <td>All</td>\n",
       "      <td>All</td>\n",
       "      <td>All</td>\n",
       "      <td>-1</td>\n",
       "      <td>NaN</td>\n",
       "    </tr>\n",
       "  </tbody>\n",
       "</table>\n",
       "<p>3699 rows × 12 columns</p>\n",
       "</div>"
      ],
      "text/plain": [
       "       datecode  value              distance  age gender  \\\n",
       "31104      2017   24.8  More than 10 minutes  NaN    All   \n",
       "31105      2017   49.1  More than 10 minutes  NaN    All   \n",
       "31106      2019   57.0  More than 10 minutes  NaN    All   \n",
       "31107      2019   45.0  More than 10 minutes  NaN    All   \n",
       "31108      2016   56.2  More than 10 minutes  NaN    All   \n",
       "...         ...    ...                   ...  ...    ...   \n",
       "34798      2019    4.5  Less than 10 minutes  NaN    All   \n",
       "34799      2019    0.0  Less than 10 minutes  NaN    All   \n",
       "34800      2017   10.1  Less than 10 minutes  NaN    All   \n",
       "34801      2013    4.9  Less than 10 minutes  NaN    All   \n",
       "34802      2017    0.0  Less than 10 minutes  NaN    All   \n",
       "\n",
       "      urban_rural_classification simd_quintiles type_of_tenure household_type  \\\n",
       "31104                        All            All            All            All   \n",
       "31105                        All            All            All            All   \n",
       "31106                        All            All            All            All   \n",
       "31107                        All            All            All            All   \n",
       "31108                        All            All            All            All   \n",
       "...                          ...            ...            ...            ...   \n",
       "34798                        All            All            All            All   \n",
       "34799                        All            All            All            All   \n",
       "34800                        All            All            All            All   \n",
       "34801                        All            All            All            All   \n",
       "34802                        All            All            All            All   \n",
       "\n",
       "      ethnicity  neighbourhood_rating community_belonging  \n",
       "31104       All                     1                 NaN  \n",
       "31105       All                     1                 NaN  \n",
       "31106       All                     1                 NaN  \n",
       "31107       All                     1                 NaN  \n",
       "31108       All                     1                 NaN  \n",
       "...         ...                   ...                 ...  \n",
       "34798       All                    -1                 NaN  \n",
       "34799       All                    -2                 NaN  \n",
       "34800       All                    -1                 NaN  \n",
       "34801       All                    -1                 NaN  \n",
       "34802       All                    -1                 NaN  \n",
       "\n",
       "[3699 rows x 12 columns]"
      ]
     },
     "execution_count": 82,
     "metadata": {},
     "output_type": "execute_result"
    }
   ],
   "source": [
    "nbhood"
   ]
  },
  {
   "cell_type": "code",
   "execution_count": null,
   "id": "b7aa6d22-9258-49fb-b3f0-35c77835d95a",
   "metadata": {},
   "outputs": [],
   "source": []
  },
  {
   "cell_type": "code",
   "execution_count": 138,
   "id": "4fc73ccb-128d-4190-99e5-6cb3e324b3b1",
   "metadata": {},
   "outputs": [
    {
     "data": {
      "text/html": [
       "<div>\n",
       "<style scoped>\n",
       "    .dataframe tbody tr th:only-of-type {\n",
       "        vertical-align: middle;\n",
       "    }\n",
       "\n",
       "    .dataframe tbody tr th {\n",
       "        vertical-align: top;\n",
       "    }\n",
       "\n",
       "    .dataframe thead th {\n",
       "        text-align: right;\n",
       "    }\n",
       "</style>\n",
       "<table border=\"1\" class=\"dataframe\">\n",
       "  <thead>\n",
       "    <tr style=\"text-align: right;\">\n",
       "      <th>distance</th>\n",
       "      <th>Less than 10 minutes</th>\n",
       "      <th>More than 10 minutes</th>\n",
       "    </tr>\n",
       "    <tr>\n",
       "      <th>neighbourhood_rating</th>\n",
       "      <th></th>\n",
       "      <th></th>\n",
       "    </tr>\n",
       "  </thead>\n",
       "  <tbody>\n",
       "    <tr>\n",
       "      <th>-2</th>\n",
       "      <td>811.8</td>\n",
       "      <td>376.2</td>\n",
       "    </tr>\n",
       "    <tr>\n",
       "      <th>-1</th>\n",
       "      <td>2192.7</td>\n",
       "      <td>981.1</td>\n",
       "    </tr>\n",
       "    <tr>\n",
       "      <th>0</th>\n",
       "      <td>164.2</td>\n",
       "      <td>57.8</td>\n",
       "    </tr>\n",
       "    <tr>\n",
       "      <th>1</th>\n",
       "      <td>24166.7</td>\n",
       "      <td>7658.8</td>\n",
       "    </tr>\n",
       "    <tr>\n",
       "      <th>2</th>\n",
       "      <td>42044.5</td>\n",
       "      <td>9609.5</td>\n",
       "    </tr>\n",
       "  </tbody>\n",
       "</table>\n",
       "</div>"
      ],
      "text/plain": [
       "distance              Less than 10 minutes  More than 10 minutes\n",
       "neighbourhood_rating                                            \n",
       "-2                                   811.8                 376.2\n",
       "-1                                  2192.7                 981.1\n",
       " 0                                   164.2                  57.8\n",
       " 1                                 24166.7                7658.8\n",
       " 2                                 42044.5                9609.5"
      ]
     },
     "execution_count": 138,
     "metadata": {},
     "output_type": "execute_result"
    }
   ],
   "source": [
    "nbhood_dis =nbhood.groupby(['distance','neighbourhood_rating']).value.agg('sum').reset_index(name = 'sum')\n",
    "\n",
    "pivot_nbhood = nbhood_dis.pivot(index = 'neighbourhood_rating', columns = 'distance',values= 'sum').copy()\n",
    "\n",
    "pivot_nbhood"
   ]
  },
  {
   "cell_type": "code",
   "execution_count": 139,
   "id": "4f792310-8a0a-44b0-8bda-906187233b60",
   "metadata": {},
   "outputs": [
    {
     "data": {
      "text/html": [
       "<div>\n",
       "<style scoped>\n",
       "    .dataframe tbody tr th:only-of-type {\n",
       "        vertical-align: middle;\n",
       "    }\n",
       "\n",
       "    .dataframe tbody tr th {\n",
       "        vertical-align: top;\n",
       "    }\n",
       "\n",
       "    .dataframe thead th {\n",
       "        text-align: right;\n",
       "    }\n",
       "</style>\n",
       "<table border=\"1\" class=\"dataframe\">\n",
       "  <thead>\n",
       "    <tr style=\"text-align: right;\">\n",
       "      <th>distance</th>\n",
       "      <th>neighbourhood_rating</th>\n",
       "      <th>Less than 10 prop</th>\n",
       "      <th>More than 10 prop</th>\n",
       "    </tr>\n",
       "  </thead>\n",
       "  <tbody>\n",
       "    <tr>\n",
       "      <th>0</th>\n",
       "      <td>-2</td>\n",
       "      <td>0.683333</td>\n",
       "      <td>0.316667</td>\n",
       "    </tr>\n",
       "    <tr>\n",
       "      <th>1</th>\n",
       "      <td>-1</td>\n",
       "      <td>0.690875</td>\n",
       "      <td>0.309125</td>\n",
       "    </tr>\n",
       "    <tr>\n",
       "      <th>2</th>\n",
       "      <td>0</td>\n",
       "      <td>0.739640</td>\n",
       "      <td>0.260360</td>\n",
       "    </tr>\n",
       "    <tr>\n",
       "      <th>3</th>\n",
       "      <td>1</td>\n",
       "      <td>0.759350</td>\n",
       "      <td>0.240650</td>\n",
       "    </tr>\n",
       "    <tr>\n",
       "      <th>4</th>\n",
       "      <td>2</td>\n",
       "      <td>0.813964</td>\n",
       "      <td>0.186036</td>\n",
       "    </tr>\n",
       "  </tbody>\n",
       "</table>\n",
       "</div>"
      ],
      "text/plain": [
       "distance  neighbourhood_rating  Less than 10 prop  More than 10 prop\n",
       "0                           -2           0.683333           0.316667\n",
       "1                           -1           0.690875           0.309125\n",
       "2                            0           0.739640           0.260360\n",
       "3                            1           0.759350           0.240650\n",
       "4                            2           0.813964           0.186036"
      ]
     },
     "execution_count": 139,
     "metadata": {},
     "output_type": "execute_result"
    }
   ],
   "source": [
    "prop = pivot_nbhood.reset_index()\n",
    "prop['total'] = prop['Less than 10 minutes']+prop['More than 10 minutes']\n",
    "prop['Less than 10 prop'] = prop['Less than 10 minutes'].div(prop['total'])\n",
    "prop['More than 10 prop'] = prop['More than 10 minutes'].div(prop['total'])\n",
    "prop.drop(['More than 10 minutes', 'Less than 10 minutes','total'], axis = 1, inplace = True)\n",
    "prop"
   ]
  },
  {
   "cell_type": "code",
   "execution_count": 157,
   "id": "b1090ab0-29f3-4e80-81fd-60c13328567d",
   "metadata": {},
   "outputs": [
    {
     "data": {
      "text/plain": [
       "<matplotlib.legend.Legend at 0x7fe91fa2a5b0>"
      ]
     },
     "execution_count": 157,
     "metadata": {},
     "output_type": "execute_result"
    },
    {
     "data": {
      "image/png": "[encoded data removed]",
      "text/plain": [
       "<Figure size 864x576 with 1 Axes>"
      ]
     },
     "metadata": {
      "needs_background": "light"
     },
     "output_type": "display_data"
    }
   ],
   "source": [
    "ax = prop.plot(\n",
    "    x = 'neighbourhood_rating',\n",
    "    kind = 'barh',\n",
    "    stacked = True,\n",
    "    title = 'Stacked Bar Graph',\n",
    "    mark_right = True,\n",
    "    figsize = (12,8))\n",
    "for container in ax.containers:\n",
    "    ax.bar_label(container,label_type='center')\n",
    "ax.legend(loc='center left', bbox_to_anchor=(1, 0.5))"
   ]
  },
  {
   "cell_type": "markdown",
   "id": "06abe1c5-3c6d-4d7c-bd64-08da67276a9e",
   "metadata": {},
   "source": [
    "### Green space and community"
   ]
  },
  {
   "cell_type": "code",
   "execution_count": 132,
   "id": "1bbc5a5e-c406-482e-810e-1f9fcb75567d",
   "metadata": {},
   "outputs": [
    {
     "data": {
      "text/plain": [
       "array([nan, 'Not at all strongly', 'Fairly strongly', 'Very strongly',\n",
       "       'Not very strongly', \"Don't know\"], dtype=object)"
      ]
     },
     "execution_count": 132,
     "metadata": {},
     "output_type": "execute_result"
    }
   ],
   "source": [
    "green.community_belonging.unique()"
   ]
  },
  {
   "cell_type": "code",
   "execution_count": 142,
   "id": "7c77c0d9-66a8-4a82-a028-22fd331fe498",
   "metadata": {},
   "outputs": [],
   "source": [
    "comm = green.dropna(subset = ['community_belonging'], axis = 0)"
   ]
  },
  {
   "cell_type": "code",
   "execution_count": 143,
   "id": "720cefb6-101b-4216-8686-73ae674a6206",
   "metadata": {},
   "outputs": [
    {
     "name": "stderr",
     "output_type": "stream",
     "text": [
      "/var/folders/h4/vy1nwyvd5kz_n6950nl29pj80000gn/T/ipykernel_81490/4225807461.py:1: SettingWithCopyWarning: \n",
      "A value is trying to be set on a copy of a slice from a DataFrame\n",
      "\n",
      "See the caveats in the documentation: https://pandas.pydata.org/pandas-docs/stable/user_guide/indexing.html#returning-a-view-versus-a-copy\n",
      "  (comm['community_belonging'].replace({'Fairly strongly': 1,\n"
     ]
    }
   ],
   "source": [
    "(comm['community_belonging'].replace({'Fairly strongly': 1,\n",
    "                                         'Very strongly': 2,\n",
    "                                         'Not at all strongly': -2,\n",
    "                                         \"Don't know\":0,\n",
    "                                         'Not very strongly': -1}, inplace = True)\n",
    ")"
   ]
  },
  {
   "cell_type": "code",
   "execution_count": 144,
   "id": "f057decb-ba42-4582-8bfb-5225ee9b68a1",
   "metadata": {},
   "outputs": [
    {
     "data": {
      "text/html": [
       "<div>\n",
       "<style scoped>\n",
       "    .dataframe tbody tr th:only-of-type {\n",
       "        vertical-align: middle;\n",
       "    }\n",
       "\n",
       "    .dataframe tbody tr th {\n",
       "        vertical-align: top;\n",
       "    }\n",
       "\n",
       "    .dataframe thead th {\n",
       "        text-align: right;\n",
       "    }\n",
       "</style>\n",
       "<table border=\"1\" class=\"dataframe\">\n",
       "  <thead>\n",
       "    <tr style=\"text-align: right;\">\n",
       "      <th>distance</th>\n",
       "      <th>Less than 10 minutes</th>\n",
       "      <th>More than 10 minutes</th>\n",
       "    </tr>\n",
       "    <tr>\n",
       "      <th>community_belonging</th>\n",
       "      <th></th>\n",
       "      <th></th>\n",
       "    </tr>\n",
       "  </thead>\n",
       "  <tbody>\n",
       "    <tr>\n",
       "      <th>-2</th>\n",
       "      <td>3227.0</td>\n",
       "      <td>1285.6</td>\n",
       "    </tr>\n",
       "    <tr>\n",
       "      <th>-1</th>\n",
       "      <td>10079.6</td>\n",
       "      <td>3234.0</td>\n",
       "    </tr>\n",
       "    <tr>\n",
       "      <th>0</th>\n",
       "      <td>562.6</td>\n",
       "      <td>242.1</td>\n",
       "    </tr>\n",
       "    <tr>\n",
       "      <th>1</th>\n",
       "      <td>28791.2</td>\n",
       "      <td>7445.7</td>\n",
       "    </tr>\n",
       "    <tr>\n",
       "      <th>2</th>\n",
       "      <td>26718.8</td>\n",
       "      <td>6447.2</td>\n",
       "    </tr>\n",
       "  </tbody>\n",
       "</table>\n",
       "</div>"
      ],
      "text/plain": [
       "distance             Less than 10 minutes  More than 10 minutes\n",
       "community_belonging                                            \n",
       "-2                                 3227.0                1285.6\n",
       "-1                                10079.6                3234.0\n",
       " 0                                  562.6                 242.1\n",
       " 1                                28791.2                7445.7\n",
       " 2                                26718.8                6447.2"
      ]
     },
     "execution_count": 144,
     "metadata": {},
     "output_type": "execute_result"
    }
   ],
   "source": [
    "comm_dis =comm.groupby(['distance','community_belonging']).value.agg('sum').reset_index(name = 'sum')\n",
    "\n",
    "pivot_comm = comm_dis.pivot(index = 'community_belonging', columns = 'distance',values= 'sum').copy()\n",
    "\n",
    "pivot_comm"
   ]
  },
  {
   "cell_type": "code",
   "execution_count": 146,
   "id": "b6bacaec-a5e4-4956-9abe-4680046647bd",
   "metadata": {},
   "outputs": [
    {
     "data": {
      "text/html": [
       "<div>\n",
       "<style scoped>\n",
       "    .dataframe tbody tr th:only-of-type {\n",
       "        vertical-align: middle;\n",
       "    }\n",
       "\n",
       "    .dataframe tbody tr th {\n",
       "        vertical-align: top;\n",
       "    }\n",
       "\n",
       "    .dataframe thead th {\n",
       "        text-align: right;\n",
       "    }\n",
       "</style>\n",
       "<table border=\"1\" class=\"dataframe\">\n",
       "  <thead>\n",
       "    <tr style=\"text-align: right;\">\n",
       "      <th>distance</th>\n",
       "      <th>community_belonging</th>\n",
       "      <th>Less than 10 prop</th>\n",
       "      <th>More than 10 prop</th>\n",
       "    </tr>\n",
       "  </thead>\n",
       "  <tbody>\n",
       "    <tr>\n",
       "      <th>0</th>\n",
       "      <td>-2</td>\n",
       "      <td>0.715109</td>\n",
       "      <td>0.284891</td>\n",
       "    </tr>\n",
       "    <tr>\n",
       "      <th>1</th>\n",
       "      <td>-1</td>\n",
       "      <td>0.757090</td>\n",
       "      <td>0.242910</td>\n",
       "    </tr>\n",
       "    <tr>\n",
       "      <th>2</th>\n",
       "      <td>0</td>\n",
       "      <td>0.699143</td>\n",
       "      <td>0.300857</td>\n",
       "    </tr>\n",
       "    <tr>\n",
       "      <th>3</th>\n",
       "      <td>1</td>\n",
       "      <td>0.794527</td>\n",
       "      <td>0.205473</td>\n",
       "    </tr>\n",
       "    <tr>\n",
       "      <th>4</th>\n",
       "      <td>2</td>\n",
       "      <td>0.805608</td>\n",
       "      <td>0.194392</td>\n",
       "    </tr>\n",
       "  </tbody>\n",
       "</table>\n",
       "</div>"
      ],
      "text/plain": [
       "distance  community_belonging  Less than 10 prop  More than 10 prop\n",
       "0                          -2           0.715109           0.284891\n",
       "1                          -1           0.757090           0.242910\n",
       "2                           0           0.699143           0.300857\n",
       "3                           1           0.794527           0.205473\n",
       "4                           2           0.805608           0.194392"
      ]
     },
     "execution_count": 146,
     "metadata": {},
     "output_type": "execute_result"
    }
   ],
   "source": [
    "prop_comm = pivot_comm.reset_index()\n",
    "prop_comm['total'] = prop_comm['Less than 10 minutes']+prop_comm['More than 10 minutes']\n",
    "prop_comm['Less than 10 prop'] = prop_comm['Less than 10 minutes'].div(prop_comm['total'])\n",
    "prop_comm['More than 10 prop'] = prop_comm['More than 10 minutes'].div(prop_comm['total'])\n",
    "prop_comm.drop(['More than 10 minutes', 'Less than 10 minutes','total'], axis = 1, inplace = True)\n",
    "prop_comm"
   ]
  },
  {
   "cell_type": "code",
   "execution_count": 159,
   "id": "d974e7f5-bb18-4594-a143-40b636688ec3",
   "metadata": {},
   "outputs": [
    {
     "data": {
      "text/plain": [
       "<matplotlib.legend.Legend at 0x7fe91fe4a5e0>"
      ]
     },
     "execution_count": 159,
     "metadata": {},
     "output_type": "execute_result"
    },
    {
     "data": {
      "image/png": "[encoded data removed]",
      "text/plain": [
       "<Figure size 864x576 with 1 Axes>"
      ]
     },
     "metadata": {
      "needs_background": "light"
     },
     "output_type": "display_data"
    }
   ],
   "source": [
    "ax = prop_comm.plot(\n",
    "    x = 'community_belonging',\n",
    "    kind = 'barh',\n",
    "    stacked = True,\n",
    "    title = 'Stacked Bar Graph',\n",
    "    mark_right = True,\n",
    "    figsize = (12,8))\n",
    "for container in ax.containers:\n",
    "    ax.bar_label(container,label_type='center')\n",
    "ax.legend(loc='center left', bbox_to_anchor=(1, 0.5))"
   ]
  },
  {
   "cell_type": "code",
   "execution_count": null,
   "id": "e58218b8-3aba-4565-b137-8db9bf902d54",
   "metadata": {},
   "outputs": [],
   "source": []
  }
 ],
 "metadata": {
  "kernelspec": {
   "display_name": "Python 3 (ipykernel)",
   "language": "python",
   "name": "python3"
  },
  "language_info": {
   "codemirror_mode": {
    "name": "ipython",
    "version": 3
   },
   "file_extension": ".py",
   "mimetype": "text/x-python",
   "name": "python",
   "nbconvert_exporter": "python",
   "pygments_lexer": "ipython3",
   "version": "3.9.12"
  }
 },
 "nbformat": 4,
 "nbformat_minor": 5
}
