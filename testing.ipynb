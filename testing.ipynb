{
 "cells": [
  {
   "cell_type": "code",
   "execution_count": 4,
   "id": "59565eff-b118-4cd5-bbf8-e9711faca5c5",
   "metadata": {},
   "outputs": [
    {
     "name": "stdout",
     "output_type": "stream",
     "text": [
      "  Team  Round 1  Round 2  Round 3  Round 4\n",
      "0    A       10       20       10       30\n",
      "1    B       20       25       15       25\n",
      "2    C       12       15       19        6\n",
      "3    D       10       29       13       19\n"
     ]
    }
   ],
   "source": [
    "# importing package\n",
    "import matplotlib.pyplot as plt\n",
    "import pandas as pd\n",
    "  \n",
    "# create data\n",
    "df = pd.DataFrame([['A', 10, 20, 10, 30], ['B', 20, 25, 15, 25], ['C', 12, 15, 19, 6],\n",
    "                   ['D', 10, 29, 13, 19]],\n",
    "                  columns=['Team', 'Round 1', 'Round 2', 'Round 3', 'Round 4'])\n",
    "# view data\n",
    "print(df)\n",
    "  \n"
   ]
  },
  {
   "cell_type": "code",
   "execution_count": 2,
   "id": "9935127f-37bb-4771-9641-4b9e111bd184",
   "metadata": {},
   "outputs": [
    {
     "data": {
      "text/plain": [
       "<AxesSubplot:title={'center':'Grouped Bar Graph with dataframe'}, xlabel='Team'>"
      ]
     },
     "execution_count": 2,
     "metadata": {},
     "output_type": "execute_result"
    },
    {
     "data": {
      "image/png": "[encoded data removed]",
      "text/plain": [
       "<Figure size 432x288 with 1 Axes>"
      ]
     },
     "metadata": {
      "needs_background": "light"
     },
     "output_type": "display_data"
    }
   ],
   "source": [
    "# plot grouped bar chart\n",
    "df.plot(x='Team',\n",
    "        kind='bar',\n",
    "        stacked=False,\n",
    "        title='Grouped Bar Graph with dataframe')"
   ]
  },
  {
   "cell_type": "code",
   "execution_count": 3,
   "id": "eb4899c3-de90-4835-9e6c-b4e5f413d5d7",
   "metadata": {},
   "outputs": [],
   "source": [
    "df.to_csv('clean_data/one.csv') "
   ]
  },
  {
   "cell_type": "code",
   "execution_count": 1,
   "id": "f20fdbfb-52ba-4c52-b944-2b1589cd5e4c",
   "metadata": {},
   "outputs": [
    {
     "name": "stdout",
     "output_type": "stream",
     "text": [
      "stat=-0.334, p=0.746\n",
      "Probably the same distribution\n"
     ]
    }
   ],
   "source": [
    "from scipy.stats import ttest_rel\n",
    "data1 = [0.873, 2.817, 0.121, -0.945, -0.055, -1.436, 0.360, -1.478, -1.637, -1.869]\n",
    "data2 = [1.142, -0.432, -0.938, -0.729, -0.846, -0.157, 0.500, 1.183, -1.075, -0.169]\n",
    "stat, p = ttest_rel(data1, data2)\n",
    "print('stat=%.3f, p=%.3f' % (stat, p))\n",
    "if p > 0.05:\n",
    "\tprint('Probably the same distribution')\n",
    "else:\n",
    "\tprint('Probably different distributions')"
   ]
  },
  {
   "cell_type": "code",
   "execution_count": 9,
   "id": "748f1068-545f-4e2e-aff5-444583e25bef",
   "metadata": {},
   "outputs": [
    {
     "name": "stdout",
     "output_type": "stream",
     "text": [
      "stat=0.096, p=0.908\n",
      "Probably the same distribution\n"
     ]
    }
   ],
   "source": [
    "# Example of the Mann-Whitney U Test\n",
    "from scipy.stats import mannwhitneyu\n",
    "\n",
    "stat, p = mannwhitneyu(data1, data2)\n",
    "print('stat=%.3f, p=%.3f' % (stat, p))\n",
    "if p > 0.05:\n",
    "\tprint('Probably the same distribution')\n",
    "else:\n",
    "\tprint('Probably different distributions')"
   ]
  },
  {
   "cell_type": "code",
   "execution_count": 7,
   "id": "7b8a70cc-bee2-43d6-82db-f13730419a2b",
   "metadata": {},
   "outputs": [
    {
     "data": {
      "text/html": [
       "<div>\n",
       "<style scoped>\n",
       "    .dataframe tbody tr th:only-of-type {\n",
       "        vertical-align: middle;\n",
       "    }\n",
       "\n",
       "    .dataframe tbody tr th {\n",
       "        vertical-align: top;\n",
       "    }\n",
       "\n",
       "    .dataframe thead th {\n",
       "        text-align: right;\n",
       "    }\n",
       "</style>\n",
       "<table border=\"1\" class=\"dataframe\">\n",
       "  <thead>\n",
       "    <tr style=\"text-align: right;\">\n",
       "      <th></th>\n",
       "      <th>mean_rating_1</th>\n",
       "      <th>mean_rating_2</th>\n",
       "    </tr>\n",
       "  </thead>\n",
       "  <tbody>\n",
       "    <tr>\n",
       "      <th>0</th>\n",
       "      <td>13.112</td>\n",
       "      <td>22.350</td>\n",
       "    </tr>\n",
       "    <tr>\n",
       "      <th>1</th>\n",
       "      <td>12.816</td>\n",
       "      <td>22.174</td>\n",
       "    </tr>\n",
       "    <tr>\n",
       "      <th>2</th>\n",
       "      <td>13.060</td>\n",
       "      <td>22.548</td>\n",
       "    </tr>\n",
       "    <tr>\n",
       "      <th>3</th>\n",
       "      <td>13.340</td>\n",
       "      <td>22.324</td>\n",
       "    </tr>\n",
       "    <tr>\n",
       "      <th>4</th>\n",
       "      <td>13.168</td>\n",
       "      <td>21.700</td>\n",
       "    </tr>\n",
       "    <tr>\n",
       "      <th>...</th>\n",
       "      <td>...</td>\n",
       "      <td>...</td>\n",
       "    </tr>\n",
       "    <tr>\n",
       "      <th>995</th>\n",
       "      <td>13.260</td>\n",
       "      <td>22.368</td>\n",
       "    </tr>\n",
       "    <tr>\n",
       "      <th>996</th>\n",
       "      <td>13.276</td>\n",
       "      <td>21.848</td>\n",
       "    </tr>\n",
       "    <tr>\n",
       "      <th>997</th>\n",
       "      <td>12.988</td>\n",
       "      <td>22.350</td>\n",
       "    </tr>\n",
       "    <tr>\n",
       "      <th>998</th>\n",
       "      <td>13.248</td>\n",
       "      <td>22.206</td>\n",
       "    </tr>\n",
       "    <tr>\n",
       "      <th>999</th>\n",
       "      <td>12.812</td>\n",
       "      <td>22.634</td>\n",
       "    </tr>\n",
       "  </tbody>\n",
       "</table>\n",
       "<p>1000 rows × 2 columns</p>\n",
       "</div>"
      ],
      "text/plain": [
       "     mean_rating_1  mean_rating_2\n",
       "0           13.112         22.350\n",
       "1           12.816         22.174\n",
       "2           13.060         22.548\n",
       "3           13.340         22.324\n",
       "4           13.168         21.700\n",
       "..             ...            ...\n",
       "995         13.260         22.368\n",
       "996         13.276         21.848\n",
       "997         12.988         22.350\n",
       "998         13.248         22.206\n",
       "999         12.812         22.634\n",
       "\n",
       "[1000 rows x 2 columns]"
      ]
     },
     "execution_count": 7,
     "metadata": {},
     "output_type": "execute_result"
    }
   ],
   "source": [
    "bootstrap=pd.DataFrame({'mean_rating_1':[df.sample(500,replace=True)['Round 1'].mean() for i in range(0,1000)],\n",
    "                       'mean_rating_2':[df.sample(500,replace=True)['Round 2'].mean() for i in range(0,1000)],})\n",
    " \n",
    "bootstrap"
   ]
  },
  {
   "cell_type": "code",
   "execution_count": 10,
   "id": "48c3d681-16aa-401e-8546-c35b112d6905",
   "metadata": {},
   "outputs": [
    {
     "name": "stdout",
     "output_type": "stream",
     "text": [
      "stat=0.000, p=0.000\n",
      "Probably different distributions\n"
     ]
    }
   ],
   "source": [
    "from scipy.stats import mannwhitneyu\n",
    "\n",
    "stat, p = mannwhitneyu(bootstrap['mean_rating_1'],bootstrap['mean_rating_2'])\n",
    "print('stat=%.3f, p=%.3f' % (stat, p))\n",
    "if p > 0.05:\n",
    "\tprint('Probably the same distribution')\n",
    "else:\n",
    "\tprint('Probably different distributions')"
   ]
  },
  {
   "cell_type": "code",
   "execution_count": 1,
   "id": "660c1f7f-fa2e-4c1b-b9a5-4e3ff75f6da8",
   "metadata": {},
   "outputs": [],
   "source": [
    "import pandas as pd \n",
    "import numpy as np \n",
    "import matplotlib.pyplot as plt\n",
    "import seaborn as sns"
   ]
  },
  {
   "cell_type": "code",
   "execution_count": 2,
   "id": "6b36fa01-cb81-4da3-84ee-2be4dad87b75",
   "metadata": {},
   "outputs": [
    {
     "name": "stderr",
     "output_type": "stream",
     "text": [
      "/var/folders/h4/vy1nwyvd5kz_n6950nl29pj80000gn/T/ipykernel_96418/2395335574.py:1: DtypeWarning: Columns (3,11) have mixed types. Specify dtype option on import or set low_memory=False.\n",
      "  green = pd.read_csv('clean_data/green.csv')\n"
     ]
    },
    {
     "data": {
      "text/html": [
       "<div>\n",
       "<style scoped>\n",
       "    .dataframe tbody tr th:only-of-type {\n",
       "        vertical-align: middle;\n",
       "    }\n",
       "\n",
       "    .dataframe tbody tr th {\n",
       "        vertical-align: top;\n",
       "    }\n",
       "\n",
       "    .dataframe thead th {\n",
       "        text-align: right;\n",
       "    }\n",
       "</style>\n",
       "<table border=\"1\" class=\"dataframe\">\n",
       "  <thead>\n",
       "    <tr style=\"text-align: right;\">\n",
       "      <th></th>\n",
       "      <th>datecode</th>\n",
       "      <th>value</th>\n",
       "      <th>walking_distance_to_nearest_greenspace</th>\n",
       "      <th>age</th>\n",
       "      <th>gender</th>\n",
       "      <th>urban_rural_classification</th>\n",
       "      <th>simd_quintiles</th>\n",
       "      <th>type_of_tenure</th>\n",
       "      <th>household_type</th>\n",
       "      <th>ethnicity</th>\n",
       "      <th>neighbourhood_rating</th>\n",
       "      <th>community_belonging</th>\n",
       "    </tr>\n",
       "  </thead>\n",
       "  <tbody>\n",
       "    <tr>\n",
       "      <th>0</th>\n",
       "      <td>2015</td>\n",
       "      <td>14.1</td>\n",
       "      <td>Less than 10 minutes</td>\n",
       "      <td>All</td>\n",
       "      <td>Male</td>\n",
       "      <td>All</td>\n",
       "      <td>All</td>\n",
       "      <td>All</td>\n",
       "      <td>All</td>\n",
       "      <td>All</td>\n",
       "      <td>NaN</td>\n",
       "      <td>NaN</td>\n",
       "    </tr>\n",
       "    <tr>\n",
       "      <th>1</th>\n",
       "      <td>2015</td>\n",
       "      <td>14.4</td>\n",
       "      <td>Less than 10 minutes</td>\n",
       "      <td>All</td>\n",
       "      <td>All</td>\n",
       "      <td>All</td>\n",
       "      <td>All</td>\n",
       "      <td>All</td>\n",
       "      <td>Pensioners</td>\n",
       "      <td>All</td>\n",
       "      <td>NaN</td>\n",
       "      <td>NaN</td>\n",
       "    </tr>\n",
       "    <tr>\n",
       "      <th>2</th>\n",
       "      <td>2017</td>\n",
       "      <td>40.1</td>\n",
       "      <td>Less than 10 minutes</td>\n",
       "      <td>65 years and over</td>\n",
       "      <td>All</td>\n",
       "      <td>All</td>\n",
       "      <td>All</td>\n",
       "      <td>All</td>\n",
       "      <td>All</td>\n",
       "      <td>All</td>\n",
       "      <td>NaN</td>\n",
       "      <td>NaN</td>\n",
       "    </tr>\n",
       "    <tr>\n",
       "      <th>3</th>\n",
       "      <td>2016</td>\n",
       "      <td>3.1</td>\n",
       "      <td>Less than 10 minutes</td>\n",
       "      <td>All</td>\n",
       "      <td>All</td>\n",
       "      <td>All</td>\n",
       "      <td>All</td>\n",
       "      <td>All</td>\n",
       "      <td>Adults</td>\n",
       "      <td>All</td>\n",
       "      <td>NaN</td>\n",
       "      <td>NaN</td>\n",
       "    </tr>\n",
       "    <tr>\n",
       "      <th>4</th>\n",
       "      <td>2015</td>\n",
       "      <td>14.3</td>\n",
       "      <td>Less than 10 minutes</td>\n",
       "      <td>All</td>\n",
       "      <td>All</td>\n",
       "      <td>All</td>\n",
       "      <td>All</td>\n",
       "      <td>Owned Mortgage/Loan</td>\n",
       "      <td>All</td>\n",
       "      <td>All</td>\n",
       "      <td>NaN</td>\n",
       "      <td>NaN</td>\n",
       "    </tr>\n",
       "    <tr>\n",
       "      <th>...</th>\n",
       "      <td>...</td>\n",
       "      <td>...</td>\n",
       "      <td>...</td>\n",
       "      <td>...</td>\n",
       "      <td>...</td>\n",
       "      <td>...</td>\n",
       "      <td>...</td>\n",
       "      <td>...</td>\n",
       "      <td>...</td>\n",
       "      <td>...</td>\n",
       "      <td>...</td>\n",
       "      <td>...</td>\n",
       "    </tr>\n",
       "    <tr>\n",
       "      <th>112765</th>\n",
       "      <td>2019</td>\n",
       "      <td>3.3</td>\n",
       "      <td>All</td>\n",
       "      <td>NaN</td>\n",
       "      <td>All</td>\n",
       "      <td>All</td>\n",
       "      <td>All</td>\n",
       "      <td>All</td>\n",
       "      <td>Adults</td>\n",
       "      <td>All</td>\n",
       "      <td>NaN</td>\n",
       "      <td>Not very strongly</td>\n",
       "    </tr>\n",
       "    <tr>\n",
       "      <th>112766</th>\n",
       "      <td>2014</td>\n",
       "      <td>9.6</td>\n",
       "      <td>All</td>\n",
       "      <td>NaN</td>\n",
       "      <td>All</td>\n",
       "      <td>All</td>\n",
       "      <td>All</td>\n",
       "      <td>All</td>\n",
       "      <td>All</td>\n",
       "      <td>White</td>\n",
       "      <td>NaN</td>\n",
       "      <td>Not very strongly</td>\n",
       "    </tr>\n",
       "    <tr>\n",
       "      <th>112767</th>\n",
       "      <td>2017</td>\n",
       "      <td>16.0</td>\n",
       "      <td>All</td>\n",
       "      <td>NaN</td>\n",
       "      <td>All</td>\n",
       "      <td>All</td>\n",
       "      <td>All</td>\n",
       "      <td>All</td>\n",
       "      <td>All</td>\n",
       "      <td>All</td>\n",
       "      <td>NaN</td>\n",
       "      <td>Not very strongly</td>\n",
       "    </tr>\n",
       "    <tr>\n",
       "      <th>112768</th>\n",
       "      <td>2018</td>\n",
       "      <td>16.0</td>\n",
       "      <td>All</td>\n",
       "      <td>NaN</td>\n",
       "      <td>Female</td>\n",
       "      <td>All</td>\n",
       "      <td>All</td>\n",
       "      <td>All</td>\n",
       "      <td>All</td>\n",
       "      <td>All</td>\n",
       "      <td>NaN</td>\n",
       "      <td>Not very strongly</td>\n",
       "    </tr>\n",
       "    <tr>\n",
       "      <th>112769</th>\n",
       "      <td>2018</td>\n",
       "      <td>24.5</td>\n",
       "      <td>All</td>\n",
       "      <td>NaN</td>\n",
       "      <td>Female</td>\n",
       "      <td>All</td>\n",
       "      <td>All</td>\n",
       "      <td>All</td>\n",
       "      <td>All</td>\n",
       "      <td>All</td>\n",
       "      <td>NaN</td>\n",
       "      <td>Not very strongly</td>\n",
       "    </tr>\n",
       "  </tbody>\n",
       "</table>\n",
       "<p>112770 rows × 12 columns</p>\n",
       "</div>"
      ],
      "text/plain": [
       "        datecode  value walking_distance_to_nearest_greenspace  \\\n",
       "0           2015   14.1                   Less than 10 minutes   \n",
       "1           2015   14.4                   Less than 10 minutes   \n",
       "2           2017   40.1                   Less than 10 minutes   \n",
       "3           2016    3.1                   Less than 10 minutes   \n",
       "4           2015   14.3                   Less than 10 minutes   \n",
       "...          ...    ...                                    ...   \n",
       "112765      2019    3.3                                    All   \n",
       "112766      2014    9.6                                    All   \n",
       "112767      2017   16.0                                    All   \n",
       "112768      2018   16.0                                    All   \n",
       "112769      2018   24.5                                    All   \n",
       "\n",
       "                      age  gender urban_rural_classification simd_quintiles  \\\n",
       "0                     All    Male                        All            All   \n",
       "1                     All     All                        All            All   \n",
       "2       65 years and over     All                        All            All   \n",
       "3                     All     All                        All            All   \n",
       "4                     All     All                        All            All   \n",
       "...                   ...     ...                        ...            ...   \n",
       "112765                NaN     All                        All            All   \n",
       "112766                NaN     All                        All            All   \n",
       "112767                NaN     All                        All            All   \n",
       "112768                NaN  Female                        All            All   \n",
       "112769                NaN  Female                        All            All   \n",
       "\n",
       "             type_of_tenure household_type ethnicity neighbourhood_rating  \\\n",
       "0                       All            All       All                  NaN   \n",
       "1                       All     Pensioners       All                  NaN   \n",
       "2                       All            All       All                  NaN   \n",
       "3                       All         Adults       All                  NaN   \n",
       "4       Owned Mortgage/Loan            All       All                  NaN   \n",
       "...                     ...            ...       ...                  ...   \n",
       "112765                  All         Adults       All                  NaN   \n",
       "112766                  All            All     White                  NaN   \n",
       "112767                  All            All       All                  NaN   \n",
       "112768                  All            All       All                  NaN   \n",
       "112769                  All            All       All                  NaN   \n",
       "\n",
       "       community_belonging  \n",
       "0                      NaN  \n",
       "1                      NaN  \n",
       "2                      NaN  \n",
       "3                      NaN  \n",
       "4                      NaN  \n",
       "...                    ...  \n",
       "112765   Not very strongly  \n",
       "112766   Not very strongly  \n",
       "112767   Not very strongly  \n",
       "112768   Not very strongly  \n",
       "112769   Not very strongly  \n",
       "\n",
       "[112770 rows x 12 columns]"
      ]
     },
     "execution_count": 2,
     "metadata": {},
     "output_type": "execute_result"
    }
   ],
   "source": [
    "green = pd.read_csv('clean_data/green.csv')\n",
    "green"
   ]
  },
  {
   "cell_type": "code",
   "execution_count": 3,
   "id": "4909c0e8-a878-46d2-beab-6b2f4e574cc3",
   "metadata": {},
   "outputs": [],
   "source": [
    "green.rename(columns={'walking_distance_to_nearest_greenspace':'distance'}, inplace = True)\n",
    "green = green[green.distance.isin(['Less than 10 minutes', 'More than 10 minutes'])].copy()"
   ]
  },
  {
   "cell_type": "code",
   "execution_count": 4,
   "id": "26a26b52-2886-4ea5-85f9-ae241548c307",
   "metadata": {},
   "outputs": [
    {
     "data": {
      "text/html": [
       "<div>\n",
       "<style scoped>\n",
       "    .dataframe tbody tr th:only-of-type {\n",
       "        vertical-align: middle;\n",
       "    }\n",
       "\n",
       "    .dataframe tbody tr th {\n",
       "        vertical-align: top;\n",
       "    }\n",
       "\n",
       "    .dataframe thead th {\n",
       "        text-align: right;\n",
       "    }\n",
       "</style>\n",
       "<table border=\"1\" class=\"dataframe\">\n",
       "  <thead>\n",
       "    <tr style=\"text-align: right;\">\n",
       "      <th></th>\n",
       "      <th>datecode</th>\n",
       "      <th>value</th>\n",
       "      <th>distance</th>\n",
       "      <th>age</th>\n",
       "      <th>gender</th>\n",
       "      <th>urban_rural_classification</th>\n",
       "      <th>simd_quintiles</th>\n",
       "      <th>type_of_tenure</th>\n",
       "      <th>household_type</th>\n",
       "      <th>ethnicity</th>\n",
       "      <th>neighbourhood_rating</th>\n",
       "      <th>community_belonging</th>\n",
       "    </tr>\n",
       "  </thead>\n",
       "  <tbody>\n",
       "    <tr>\n",
       "      <th>2</th>\n",
       "      <td>2017</td>\n",
       "      <td>40.1</td>\n",
       "      <td>Less than 10 minutes</td>\n",
       "      <td>65 years and over</td>\n",
       "      <td>All</td>\n",
       "      <td>All</td>\n",
       "      <td>All</td>\n",
       "      <td>All</td>\n",
       "      <td>All</td>\n",
       "      <td>All</td>\n",
       "      <td>NaN</td>\n",
       "      <td>NaN</td>\n",
       "    </tr>\n",
       "    <tr>\n",
       "      <th>5</th>\n",
       "      <td>2016</td>\n",
       "      <td>36.8</td>\n",
       "      <td>Less than 10 minutes</td>\n",
       "      <td>35-64 years</td>\n",
       "      <td>All</td>\n",
       "      <td>All</td>\n",
       "      <td>All</td>\n",
       "      <td>All</td>\n",
       "      <td>All</td>\n",
       "      <td>All</td>\n",
       "      <td>NaN</td>\n",
       "      <td>NaN</td>\n",
       "    </tr>\n",
       "    <tr>\n",
       "      <th>15</th>\n",
       "      <td>2017</td>\n",
       "      <td>16.6</td>\n",
       "      <td>Less than 10 minutes</td>\n",
       "      <td>16-34 years</td>\n",
       "      <td>All</td>\n",
       "      <td>All</td>\n",
       "      <td>All</td>\n",
       "      <td>All</td>\n",
       "      <td>All</td>\n",
       "      <td>All</td>\n",
       "      <td>NaN</td>\n",
       "      <td>NaN</td>\n",
       "    </tr>\n",
       "    <tr>\n",
       "      <th>25</th>\n",
       "      <td>2014</td>\n",
       "      <td>6.0</td>\n",
       "      <td>Less than 10 minutes</td>\n",
       "      <td>35-64 years</td>\n",
       "      <td>All</td>\n",
       "      <td>All</td>\n",
       "      <td>All</td>\n",
       "      <td>All</td>\n",
       "      <td>All</td>\n",
       "      <td>All</td>\n",
       "      <td>NaN</td>\n",
       "      <td>NaN</td>\n",
       "    </tr>\n",
       "    <tr>\n",
       "      <th>42</th>\n",
       "      <td>2013</td>\n",
       "      <td>8.0</td>\n",
       "      <td>Less than 10 minutes</td>\n",
       "      <td>65 years and over</td>\n",
       "      <td>All</td>\n",
       "      <td>All</td>\n",
       "      <td>All</td>\n",
       "      <td>All</td>\n",
       "      <td>All</td>\n",
       "      <td>All</td>\n",
       "      <td>NaN</td>\n",
       "      <td>NaN</td>\n",
       "    </tr>\n",
       "    <tr>\n",
       "      <th>...</th>\n",
       "      <td>...</td>\n",
       "      <td>...</td>\n",
       "      <td>...</td>\n",
       "      <td>...</td>\n",
       "      <td>...</td>\n",
       "      <td>...</td>\n",
       "      <td>...</td>\n",
       "      <td>...</td>\n",
       "      <td>...</td>\n",
       "      <td>...</td>\n",
       "      <td>...</td>\n",
       "      <td>...</td>\n",
       "    </tr>\n",
       "    <tr>\n",
       "      <th>73285</th>\n",
       "      <td>2016</td>\n",
       "      <td>0.0</td>\n",
       "      <td>Less than 10 minutes</td>\n",
       "      <td>NaN</td>\n",
       "      <td>All</td>\n",
       "      <td>All</td>\n",
       "      <td>All</td>\n",
       "      <td>All</td>\n",
       "      <td>All</td>\n",
       "      <td>All</td>\n",
       "      <td>NaN</td>\n",
       "      <td>Don't know</td>\n",
       "    </tr>\n",
       "    <tr>\n",
       "      <th>73286</th>\n",
       "      <td>2015</td>\n",
       "      <td>45.6</td>\n",
       "      <td>Less than 10 minutes</td>\n",
       "      <td>NaN</td>\n",
       "      <td>All</td>\n",
       "      <td>All</td>\n",
       "      <td>All</td>\n",
       "      <td>All</td>\n",
       "      <td>All</td>\n",
       "      <td>All</td>\n",
       "      <td>NaN</td>\n",
       "      <td>Very strongly</td>\n",
       "    </tr>\n",
       "    <tr>\n",
       "      <th>73287</th>\n",
       "      <td>2017</td>\n",
       "      <td>4.1</td>\n",
       "      <td>Less than 10 minutes</td>\n",
       "      <td>NaN</td>\n",
       "      <td>All</td>\n",
       "      <td>All</td>\n",
       "      <td>All</td>\n",
       "      <td>All</td>\n",
       "      <td>All</td>\n",
       "      <td>All</td>\n",
       "      <td>NaN</td>\n",
       "      <td>Not at all strongly</td>\n",
       "    </tr>\n",
       "    <tr>\n",
       "      <th>73288</th>\n",
       "      <td>2017</td>\n",
       "      <td>27.4</td>\n",
       "      <td>Less than 10 minutes</td>\n",
       "      <td>NaN</td>\n",
       "      <td>All</td>\n",
       "      <td>All</td>\n",
       "      <td>All</td>\n",
       "      <td>All</td>\n",
       "      <td>All</td>\n",
       "      <td>All</td>\n",
       "      <td>NaN</td>\n",
       "      <td>Very strongly</td>\n",
       "    </tr>\n",
       "    <tr>\n",
       "      <th>73289</th>\n",
       "      <td>2013</td>\n",
       "      <td>3.5</td>\n",
       "      <td>Less than 10 minutes</td>\n",
       "      <td>NaN</td>\n",
       "      <td>All</td>\n",
       "      <td>All</td>\n",
       "      <td>All</td>\n",
       "      <td>All</td>\n",
       "      <td>All</td>\n",
       "      <td>All</td>\n",
       "      <td>NaN</td>\n",
       "      <td>Not at all strongly</td>\n",
       "    </tr>\n",
       "  </tbody>\n",
       "</table>\n",
       "<p>12966 rows × 12 columns</p>\n",
       "</div>"
      ],
      "text/plain": [
       "       datecode  value              distance                age gender  \\\n",
       "2          2017   40.1  Less than 10 minutes  65 years and over    All   \n",
       "5          2016   36.8  Less than 10 minutes        35-64 years    All   \n",
       "15         2017   16.6  Less than 10 minutes        16-34 years    All   \n",
       "25         2014    6.0  Less than 10 minutes        35-64 years    All   \n",
       "42         2013    8.0  Less than 10 minutes  65 years and over    All   \n",
       "...         ...    ...                   ...                ...    ...   \n",
       "73285      2016    0.0  Less than 10 minutes                NaN    All   \n",
       "73286      2015   45.6  Less than 10 minutes                NaN    All   \n",
       "73287      2017    4.1  Less than 10 minutes                NaN    All   \n",
       "73288      2017   27.4  Less than 10 minutes                NaN    All   \n",
       "73289      2013    3.5  Less than 10 minutes                NaN    All   \n",
       "\n",
       "      urban_rural_classification simd_quintiles type_of_tenure household_type  \\\n",
       "2                            All            All            All            All   \n",
       "5                            All            All            All            All   \n",
       "15                           All            All            All            All   \n",
       "25                           All            All            All            All   \n",
       "42                           All            All            All            All   \n",
       "...                          ...            ...            ...            ...   \n",
       "73285                        All            All            All            All   \n",
       "73286                        All            All            All            All   \n",
       "73287                        All            All            All            All   \n",
       "73288                        All            All            All            All   \n",
       "73289                        All            All            All            All   \n",
       "\n",
       "      ethnicity neighbourhood_rating  community_belonging  \n",
       "2           All                  NaN                  NaN  \n",
       "5           All                  NaN                  NaN  \n",
       "15          All                  NaN                  NaN  \n",
       "25          All                  NaN                  NaN  \n",
       "42          All                  NaN                  NaN  \n",
       "...         ...                  ...                  ...  \n",
       "73285       All                  NaN           Don't know  \n",
       "73286       All                  NaN        Very strongly  \n",
       "73287       All                  NaN  Not at all strongly  \n",
       "73288       All                  NaN        Very strongly  \n",
       "73289       All                  NaN  Not at all strongly  \n",
       "\n",
       "[12966 rows x 12 columns]"
      ]
     },
     "execution_count": 4,
     "metadata": {},
     "output_type": "execute_result"
    }
   ],
   "source": [
    "age_df =green[green.age != 'All'].copy()\n",
    "age_df"
   ]
  },
  {
   "cell_type": "code",
   "execution_count": 5,
   "id": "dd459b5e-6c83-4b4e-a711-419b14250820",
   "metadata": {},
   "outputs": [],
   "source": [
    "age_grouped = age_df.groupby(['distance','age']).value.agg('mean').reset_index(name = 'mean')"
   ]
  },
  {
   "cell_type": "code",
   "execution_count": 6,
   "id": "50cffcf8-3dcf-4685-812d-a111775792c7",
   "metadata": {},
   "outputs": [
    {
     "data": {
      "text/html": [
       "<div>\n",
       "<style scoped>\n",
       "    .dataframe tbody tr th:only-of-type {\n",
       "        vertical-align: middle;\n",
       "    }\n",
       "\n",
       "    .dataframe tbody tr th {\n",
       "        vertical-align: top;\n",
       "    }\n",
       "\n",
       "    .dataframe thead th {\n",
       "        text-align: right;\n",
       "    }\n",
       "</style>\n",
       "<table border=\"1\" class=\"dataframe\">\n",
       "  <thead>\n",
       "    <tr style=\"text-align: right;\">\n",
       "      <th></th>\n",
       "      <th>distance</th>\n",
       "      <th>age</th>\n",
       "      <th>mean</th>\n",
       "    </tr>\n",
       "  </thead>\n",
       "  <tbody>\n",
       "    <tr>\n",
       "      <th>0</th>\n",
       "      <td>Less than 10 minutes</td>\n",
       "      <td>16-34 years</td>\n",
       "      <td>43.703058</td>\n",
       "    </tr>\n",
       "    <tr>\n",
       "      <th>1</th>\n",
       "      <td>Less than 10 minutes</td>\n",
       "      <td>35-64 years</td>\n",
       "      <td>43.947114</td>\n",
       "    </tr>\n",
       "    <tr>\n",
       "      <th>2</th>\n",
       "      <td>Less than 10 minutes</td>\n",
       "      <td>65 years and over</td>\n",
       "      <td>41.256566</td>\n",
       "    </tr>\n",
       "    <tr>\n",
       "      <th>3</th>\n",
       "      <td>More than 10 minutes</td>\n",
       "      <td>16-34 years</td>\n",
       "      <td>11.502446</td>\n",
       "    </tr>\n",
       "    <tr>\n",
       "      <th>4</th>\n",
       "      <td>More than 10 minutes</td>\n",
       "      <td>35-64 years</td>\n",
       "      <td>11.351739</td>\n",
       "    </tr>\n",
       "    <tr>\n",
       "      <th>5</th>\n",
       "      <td>More than 10 minutes</td>\n",
       "      <td>65 years and over</td>\n",
       "      <td>15.393506</td>\n",
       "    </tr>\n",
       "  </tbody>\n",
       "</table>\n",
       "</div>"
      ],
      "text/plain": [
       "               distance                age       mean\n",
       "0  Less than 10 minutes        16-34 years  43.703058\n",
       "1  Less than 10 minutes        35-64 years  43.947114\n",
       "2  Less than 10 minutes  65 years and over  41.256566\n",
       "3  More than 10 minutes        16-34 years  11.502446\n",
       "4  More than 10 minutes        35-64 years  11.351739\n",
       "5  More than 10 minutes  65 years and over  15.393506"
      ]
     },
     "execution_count": 6,
     "metadata": {},
     "output_type": "execute_result"
    }
   ],
   "source": [
    "age_grouped"
   ]
  },
  {
   "cell_type": "code",
   "execution_count": 10,
   "id": "20921477-b791-479a-9e7e-466218d48ecd",
   "metadata": {},
   "outputs": [
    {
     "data": {
      "text/html": [
       "<div>\n",
       "<style scoped>\n",
       "    .dataframe tbody tr th:only-of-type {\n",
       "        vertical-align: middle;\n",
       "    }\n",
       "\n",
       "    .dataframe tbody tr th {\n",
       "        vertical-align: top;\n",
       "    }\n",
       "\n",
       "    .dataframe thead th {\n",
       "        text-align: right;\n",
       "    }\n",
       "</style>\n",
       "<table border=\"1\" class=\"dataframe\">\n",
       "  <thead>\n",
       "    <tr style=\"text-align: right;\">\n",
       "      <th>distance</th>\n",
       "      <th>Less than 10 minutes</th>\n",
       "      <th>More than 10 minutes</th>\n",
       "    </tr>\n",
       "    <tr>\n",
       "      <th>age</th>\n",
       "      <th></th>\n",
       "      <th></th>\n",
       "    </tr>\n",
       "  </thead>\n",
       "  <tbody>\n",
       "    <tr>\n",
       "      <th>16-34 years</th>\n",
       "      <td>43.703058</td>\n",
       "      <td>11.502446</td>\n",
       "    </tr>\n",
       "    <tr>\n",
       "      <th>35-64 years</th>\n",
       "      <td>43.947114</td>\n",
       "      <td>11.351739</td>\n",
       "    </tr>\n",
       "    <tr>\n",
       "      <th>65 years and over</th>\n",
       "      <td>41.256566</td>\n",
       "      <td>15.393506</td>\n",
       "    </tr>\n",
       "  </tbody>\n",
       "</table>\n",
       "</div>"
      ],
      "text/plain": [
       "distance           Less than 10 minutes  More than 10 minutes\n",
       "age                                                          \n",
       "16-34 years                   43.703058             11.502446\n",
       "35-64 years                   43.947114             11.351739\n",
       "65 years and over             41.256566             15.393506"
      ]
     },
     "execution_count": 10,
     "metadata": {},
     "output_type": "execute_result"
    }
   ],
   "source": [
    "pivot_age= age_grouped.pivot(index = 'age', columns = 'distance',values= 'mean').copy()\n",
    "\n",
    "pivot_age"
   ]
  },
  {
   "cell_type": "code",
   "execution_count": 11,
   "id": "32f307af-9c06-43bb-b7a5-6017f1ec2942",
   "metadata": {},
   "outputs": [
    {
     "data": {
      "text/html": [
       "<div>\n",
       "<style scoped>\n",
       "    .dataframe tbody tr th:only-of-type {\n",
       "        vertical-align: middle;\n",
       "    }\n",
       "\n",
       "    .dataframe tbody tr th {\n",
       "        vertical-align: top;\n",
       "    }\n",
       "\n",
       "    .dataframe thead th {\n",
       "        text-align: right;\n",
       "    }\n",
       "</style>\n",
       "<table border=\"1\" class=\"dataframe\">\n",
       "  <thead>\n",
       "    <tr style=\"text-align: right;\">\n",
       "      <th>distance</th>\n",
       "      <th>age</th>\n",
       "      <th>Less than 10 prop</th>\n",
       "      <th>More than 10 prop</th>\n",
       "    </tr>\n",
       "  </thead>\n",
       "  <tbody>\n",
       "    <tr>\n",
       "      <th>0</th>\n",
       "      <td>16-34 years</td>\n",
       "      <td>0.791643</td>\n",
       "      <td>0.208357</td>\n",
       "    </tr>\n",
       "    <tr>\n",
       "      <th>1</th>\n",
       "      <td>35-64 years</td>\n",
       "      <td>0.794720</td>\n",
       "      <td>0.205280</td>\n",
       "    </tr>\n",
       "    <tr>\n",
       "      <th>2</th>\n",
       "      <td>65 years and over</td>\n",
       "      <td>0.728270</td>\n",
       "      <td>0.271730</td>\n",
       "    </tr>\n",
       "  </tbody>\n",
       "</table>\n",
       "</div>"
      ],
      "text/plain": [
       "distance                age  Less than 10 prop  More than 10 prop\n",
       "0               16-34 years           0.791643           0.208357\n",
       "1               35-64 years           0.794720           0.205280\n",
       "2         65 years and over           0.728270           0.271730"
      ]
     },
     "execution_count": 11,
     "metadata": {},
     "output_type": "execute_result"
    }
   ],
   "source": [
    "prop = pivot_age.reset_index()\n",
    "prop['total'] = prop['Less than 10 minutes']+prop['More than 10 minutes']\n",
    "prop['Less than 10 prop'] = prop['Less than 10 minutes'].div(prop['total'])\n",
    "prop['More than 10 prop'] = prop['More than 10 minutes'].div(prop['total'])\n",
    "prop.drop(['More than 10 minutes', 'Less than 10 minutes','total'], axis = 1, inplace = True)\n",
    "prop"
   ]
  },
  {
   "cell_type": "code",
   "execution_count": 12,
   "id": "7246fe4b-4053-44f9-91db-f819d587b261",
   "metadata": {},
   "outputs": [
    {
     "data": {
      "text/plain": [
       "<matplotlib.legend.Legend at 0x7fc17896fdc0>"
      ]
     },
     "execution_count": 12,
     "metadata": {},
     "output_type": "execute_result"
    },
    {
     "data": {
      "image/png": "[encoded data removed]",
      "text/plain": [
       "<Figure size 864x576 with 1 Axes>"
      ]
     },
     "metadata": {
      "needs_background": "light"
     },
     "output_type": "display_data"
    }
   ],
   "source": [
    "ax = prop.plot(\n",
    "    x = 'age',\n",
    "    kind = 'barh',\n",
    "    stacked = True,\n",
    "    title = 'Different age group access to green space',\n",
    "    xlabel = 'Age groups',\n",
    "    ylabel = 'Percentage',\n",
    "    mark_right = True,\n",
    "    figsize = (12,8))\n",
    "for container in ax.containers:\n",
    "    ax.bar_label(container,label_type='center')\n",
    "ax.legend(loc='center left', bbox_to_anchor=(1, 0.5))"
   ]
  },
  {
   "cell_type": "code",
   "execution_count": null,
   "id": "1c3b4a03-d8ed-4f0a-b008-adeb164ee203",
   "metadata": {},
   "outputs": [],
   "source": [
    "def propgraph (data, col1, col2, xlab, ylab, tit):\n",
    "    pivot_data= data.pivot(index = col1, columns = col2,values= 'mean').copy()\n",
    "    prop = pivot_data.reset_index()\n",
    "    prop['total'] = prop['Less than 10 minutes']+prop['More than 10 minutes']\n",
    "    prop['Less than 10 prop'] = prop['Less than 10 minutes'].div(prop['total'])\n",
    "    prop['More than 10 prop'] = prop['More than 10 minutes'].div(prop['total'])\n",
    "    prop.drop(['More than 10 minutes', 'Less than 10 minutes','total'], axis = 1, inplace = True)\n",
    "    ax = prop.plot(\n",
    "        x = col1,\n",
    "        kind = 'barh',\n",
    "        stacked = True,\n",
    "        title = tit,\n",
    "        xlabel = xlab,\n",
    "        ylabel = ylab,\n",
    "        mark_right = True,\n",
    "        figsize = (12,8))\n",
    "    for container in ax.containers:\n",
    "        ax.bar_label(container,label_type='center')\n",
    "        ax.legend(loc='center left', bbox_to_anchor=(1, 0.5))\n"
   ]
  },
  {
   "cell_type": "markdown",
   "id": "f0a069a2-f37a-4180-bd0f-83c57369dfeb",
   "metadata": {},
   "source": [
    "# Tree Testing"
   ]
  },
  {
   "cell_type": "code",
   "execution_count": 1,
   "id": "b8a5c4b8-7520-4ba3-94df-11c659486eac",
   "metadata": {},
   "outputs": [],
   "source": [
    "import pandas as pd \n",
    "from sklearn.tree import plot_tree\n",
    "from sklearn.tree import DecisionTreeClassifier\n",
    "from sklearn.ensemble import RandomForestClassifier"
   ]
  },
  {
   "cell_type": "code",
   "execution_count": 2,
   "id": "6802c9e6-439e-4c44-a970-cfda96898681",
   "metadata": {},
   "outputs": [],
   "source": [
    "df = pd.read_csv('clean_data/add_green.csv')"
   ]
  },
  {
   "cell_type": "code",
   "execution_count": 3,
   "id": "670a7998-b161-4b0d-8d36-08082a06cc85",
   "metadata": {},
   "outputs": [],
   "source": [
    "from sklearn.model_selection import train_test_split"
   ]
  },
  {
   "cell_type": "code",
   "execution_count": 4,
   "id": "c41e3192-f49f-448d-96c8-bf7e0692dcf0",
   "metadata": {},
   "outputs": [],
   "source": [
    "x = df.drop(columns = \"distance_to_nearest_green_space\")\n",
    "y = df[\"distance_to_nearest_green_space\"]"
   ]
  },
  {
   "cell_type": "code",
   "execution_count": 5,
   "id": "e0d6ed70-627d-4b66-b00f-f3b4d07c01c3",
   "metadata": {},
   "outputs": [],
   "source": [
    "x_train, x_test, y_train, y_test = train_test_split(x,y, test_size = 0.2)"
   ]
  },
  {
   "cell_type": "code",
   "execution_count": 52,
   "id": "265595ab-0687-4ea0-8900-fef7728a25f3",
   "metadata": {},
   "outputs": [],
   "source": [
    "clf = DecisionTreeClassifier()\n",
    "clf = clf.fit(x_train, y_train)"
   ]
  },
  {
   "cell_type": "code",
   "execution_count": 47,
   "id": "332aa9da-fa6e-4059-b4d8-11138a2b968d",
   "metadata": {},
   "outputs": [
    {
     "data": {
      "text/plain": [
       "{'ccp_alpha': 0.0,\n",
       " 'class_weight': None,\n",
       " 'criterion': 'gini',\n",
       " 'max_depth': 3,\n",
       " 'max_features': None,\n",
       " 'max_leaf_nodes': None,\n",
       " 'min_impurity_decrease': 0.0,\n",
       " 'min_samples_leaf': 1,\n",
       " 'min_samples_split': 2,\n",
       " 'min_weight_fraction_leaf': 0.0,\n",
       " 'random_state': None,\n",
       " 'splitter': 'best'}"
      ]
     },
     "execution_count": 47,
     "metadata": {},
     "output_type": "execute_result"
    }
   ],
   "source": [
    "clf.get_params()"
   ]
  },
  {
   "cell_type": "code",
   "execution_count": 53,
   "id": "355e1346-cee2-4727-ae4c-7649d82c3567",
   "metadata": {},
   "outputs": [
    {
     "data": {
      "text/plain": [
       "array([0, 1, 1, ..., 1, 1, 1])"
      ]
     },
     "execution_count": 53,
     "metadata": {},
     "output_type": "execute_result"
    }
   ],
   "source": [
    "predictions = clf.predict(x_test)\n",
    "predictions"
   ]
  },
  {
   "cell_type": "code",
   "execution_count": 54,
   "id": "796c790c-181a-4bb5-8aed-ae32331615a6",
   "metadata": {},
   "outputs": [
    {
     "data": {
      "text/plain": [
       "array([[0.5       , 0.5       ],\n",
       "       [0.33333333, 0.66666667],\n",
       "       [0.03125   , 0.96875   ],\n",
       "       ...,\n",
       "       [0.25      , 0.75      ],\n",
       "       [0.        , 1.        ],\n",
       "       [0.04      , 0.96      ]])"
      ]
     },
     "execution_count": 54,
     "metadata": {},
     "output_type": "execute_result"
    }
   ],
   "source": [
    "clf.predict_proba(x_test)"
   ]
  },
  {
   "cell_type": "code",
   "execution_count": 55,
   "id": "b59b2641-8695-41ce-bcf0-7459807eb08b",
   "metadata": {},
   "outputs": [
    {
     "data": {
      "text/plain": [
       "0.8224589967676283"
      ]
     },
     "execution_count": 55,
     "metadata": {},
     "output_type": "execute_result"
    }
   ],
   "source": [
    "from sklearn.metrics import accuracy_score\n",
    "accuracy_score(y_test, predictions)"
   ]
  },
  {
   "cell_type": "code",
   "execution_count": 56,
   "id": "db6f36a4-1403-402e-9c73-4edfe5c8eaf6",
   "metadata": {},
   "outputs": [
    {
     "data": {
      "text/plain": [
       "array([[ 104, 1070],\n",
       "       [ 413, 6766]])"
      ]
     },
     "execution_count": 56,
     "metadata": {},
     "output_type": "execute_result"
    }
   ],
   "source": [
    "from sklearn.metrics import confusion_matrix\n",
    "confusion_matrix(y_test, predictions, labels = [0,1])"
   ]
  },
  {
   "cell_type": "code",
   "execution_count": 45,
   "id": "c2fc0220-7a86-4c8e-96a5-268545e7f555",
   "metadata": {},
   "outputs": [
    {
     "data": {
      "text/plain": [
       "0.8636537725009575"
      ]
     },
     "execution_count": 45,
     "metadata": {},
     "output_type": "execute_result"
    }
   ],
   "source": [
    "from sklearn.metrics import precision_score\n",
    "precision_score(y_test, predictions)"
   ]
  },
  {
   "cell_type": "code",
   "execution_count": null,
   "id": "46e340ce-7894-4619-a2ba-2dc9b7836312",
   "metadata": {},
   "outputs": [],
   "source": []
  },
  {
   "cell_type": "code",
   "execution_count": null,
   "id": "e22c59f4-46ae-4261-b6aa-c43684a784ea",
   "metadata": {},
   "outputs": [],
   "source": []
  },
  {
   "cell_type": "code",
   "execution_count": null,
   "id": "4f6c2a45-1c43-47ca-a4c3-5ae7be9ec2a5",
   "metadata": {},
   "outputs": [],
   "source": []
  }
 ],
 "metadata": {
  "kernelspec": {
   "display_name": "Python 3 (ipykernel)",
   "language": "python",
   "name": "python3"
  },
  "language_info": {
   "codemirror_mode": {
    "name": "ipython",
    "version": 3
   },
   "file_extension": ".py",
   "mimetype": "text/x-python",
   "name": "python",
   "nbconvert_exporter": "python",
   "pygments_lexer": "ipython3",
   "version": "3.9.12"
  }
 },
 "nbformat": 4,
 "nbformat_minor": 5
}
